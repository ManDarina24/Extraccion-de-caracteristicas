{
 "cells": [
  {
   "cell_type": "code",
   "execution_count": 1,
   "metadata": {},
   "outputs": [],
   "source": [
    "import pandas as pd\n",
    "import numpy as np\n",
    "import matplotlib.pyplot as plt\n",
    "from funpymodeling.exploratory import freq_tbl"
   ]
  },
  {
   "cell_type": "code",
   "execution_count": 19,
   "metadata": {},
   "outputs": [],
   "source": [
    "# Carga desde un archivo .xlsx sin indice\n",
    "Milan = pd.read_csv('../ValoresAtipicosMilan.csv')"
   ]
  },
  {
   "cell_type": "code",
   "execution_count": 22,
   "metadata": {},
   "outputs": [
    {
     "name": "stdout",
     "output_type": "stream",
     "text": [
      "<class 'pandas.core.frame.DataFrame'>\n",
      "RangeIndex: 23705 entries, 0 to 23704\n",
      "Data columns (total 50 columns):\n",
      " #   Column                                        Non-Null Count  Dtype  \n",
      "---  ------                                        --------------  -----  \n",
      " 0   id                                            23705 non-null  int64  \n",
      " 1   last_scraped                                  23705 non-null  object \n",
      " 2   name                                          23705 non-null  object \n",
      " 3   host_id                                       23705 non-null  int64  \n",
      " 4   host_name                                     23705 non-null  object \n",
      " 5   host_since                                    23705 non-null  object \n",
      " 6   host_response_time                            23705 non-null  object \n",
      " 7   host_is_superhost                             23705 non-null  object \n",
      " 8   host_identity_verified                        23705 non-null  object \n",
      " 9   neighbourhood                                 23705 non-null  object \n",
      " 10  neighbourhood_cleansed                        23705 non-null  object \n",
      " 11  latitude                                      23705 non-null  float64\n",
      " 12  longitude                                     23705 non-null  float64\n",
      " 13  property_type                                 23705 non-null  object \n",
      " 14  room_type                                     23705 non-null  object \n",
      " 15  amenities                                     23705 non-null  object \n",
      " 16  calendar_last_scraped                         23705 non-null  object \n",
      " 17  has_availability                              23705 non-null  object \n",
      " 18  first_review                                  23705 non-null  object \n",
      " 19  last_review                                   23705 non-null  object \n",
      " 20  license                                       23705 non-null  object \n",
      " 21  instant_bookable                              23705 non-null  object \n",
      " 22  host_response_rate                            23705 non-null  float64\n",
      " 23  host_acceptance_rate                          23705 non-null  float64\n",
      " 24  host_listings_count                           23705 non-null  float64\n",
      " 25  host_total_listings_count                     23705 non-null  float64\n",
      " 26  accommodates                                  23705 non-null  float64\n",
      " 27  bathrooms                                     23705 non-null  float64\n",
      " 28  bedrooms                                      23705 non-null  float64\n",
      " 29  beds                                          23705 non-null  float64\n",
      " 30  price                                         23705 non-null  float64\n",
      " 31  minimum_nights                                23705 non-null  float64\n",
      " 32  maximum_nights                                23705 non-null  int64  \n",
      " 33  minimum_nights_avg_ntm                        23705 non-null  float64\n",
      " 34  maximum_nights_avg_ntm                        23705 non-null  float64\n",
      " 35  availability_30                               23705 non-null  int64  \n",
      " 36  availability_90                               23705 non-null  int64  \n",
      " 37  availability_365                              23705 non-null  int64  \n",
      " 38  number_of_reviews                             23705 non-null  float64\n",
      " 39  review_scores_rating                          23705 non-null  float64\n",
      " 40  review_scores_accuracy                        23705 non-null  float64\n",
      " 41  review_scores_cleanliness                     23705 non-null  float64\n",
      " 42  review_scores_checkin                         23705 non-null  float64\n",
      " 43  review_scores_communication                   23705 non-null  float64\n",
      " 44  review_scores_location                        23705 non-null  float64\n",
      " 45  review_scores_value                           23705 non-null  float64\n",
      " 46  calculated_host_listings_count                23705 non-null  float64\n",
      " 47  calculated_host_listings_count_entire_homes   23705 non-null  float64\n",
      " 48  calculated_host_listings_count_private_rooms  23705 non-null  float64\n",
      " 49  calculated_host_listings_count_shared_rooms   23705 non-null  float64\n",
      "dtypes: float64(26), int64(6), object(18)\n",
      "memory usage: 9.0+ MB\n"
     ]
    }
   ],
   "source": [
    "# Verificamos información del dataframe\n",
    "Milan.info()"
   ]
  },
  {
   "cell_type": "markdown",
   "metadata": {},
   "source": [
    "DETERMINACIÓN DE CLASES PARA DATOS AGRUPADOS "
   ]
  },
  {
   "cell_type": "code",
   "execution_count": 23,
   "metadata": {},
   "outputs": [
    {
     "name": "stdout",
     "output_type": "stream",
     "text": [
      "<class 'pandas.core.series.Series'>\n",
      "RangeIndex: 23705 entries, 0 to 23704\n",
      "Series name: accommodates\n",
      "Non-Null Count  Dtype  \n",
      "--------------  -----  \n",
      "23705 non-null  float64\n",
      "dtypes: float64(1)\n",
      "memory usage: 185.3 KB\n"
     ]
    }
   ],
   "source": [
    "#Calculamos el numero total de la población \"n\"\n",
    "\n",
    "Milan['accommodates'].info()"
   ]
  },
  {
   "cell_type": "code",
   "execution_count": 24,
   "metadata": {},
   "outputs": [
    {
     "data": {
      "text/plain": [
       "[1.0, 7.0]"
      ]
     },
     "execution_count": 24,
     "metadata": {},
     "output_type": "execute_result"
    }
   ],
   "source": [
    "# Obtenemos el limite superior y el límite inferios de la columna objetivo\n",
    "Max = Milan['accommodates'].max()\n",
    "Min = Milan['accommodates'].min()\n",
    "Limites = [Min, Max]\n",
    "Limites"
   ]
  },
  {
   "cell_type": "code",
   "execution_count": 25,
   "metadata": {},
   "outputs": [
    {
     "data": {
      "text/plain": [
       "6.0"
      ]
     },
     "execution_count": 25,
     "metadata": {},
     "output_type": "execute_result"
    }
   ],
   "source": [
    "# Calculamos el rango R\n",
    "R = Max - Min\n",
    "R"
   ]
  },
  {
   "cell_type": "code",
   "execution_count": null,
   "metadata": {},
   "outputs": [
    {
     "data": {
      "text/plain": [
       "15.689631010177528"
      ]
     },
     "execution_count": 26,
     "metadata": {},
     "output_type": "execute_result"
    }
   ],
   "source": [
    "# Calculamos el número de intervalos de clase \"ni\", aplicando la regla de Sturges\n",
    "n = 23706\n",
    "\n",
    "ni = 1 + 3.32 * np.log10(n)\n",
    "ni"
   ]
  },
  {
   "cell_type": "code",
   "execution_count": 27,
   "metadata": {},
   "outputs": [
    {
     "data": {
      "text/plain": [
       "0.38241817134564404"
      ]
     },
     "execution_count": 27,
     "metadata": {},
     "output_type": "execute_result"
    }
   ],
   "source": [
    "# Calculamos el ancho del intervalo \"i\"\n",
    "i = R / ni\n",
    "i"
   ]
  },
  {
   "cell_type": "markdown",
   "metadata": {},
   "source": [
    "CREACIÓN DE CATEGORÍAS A PARTIR DE CLASES"
   ]
  },
  {
   "cell_type": "code",
   "execution_count": 28,
   "metadata": {},
   "outputs": [
    {
     "data": {
      "text/plain": [
       "array([1. , 1.4, 1.8, 2.2, 2.6, 3. , 3.4, 3.8, 4.2, 4.6, 5. , 5.4, 5.8,\n",
       "       6.2, 6.6, 7. ])"
      ]
     },
     "execution_count": 28,
     "metadata": {},
     "output_type": "execute_result"
    }
   ],
   "source": [
    "# Categorización de variables\n",
    "intervalos = np.linspace (1.0, 7.0, 16)\n",
    "intervalos"
   ]
  },
  {
   "cell_type": "code",
   "execution_count": 30,
   "metadata": {},
   "outputs": [],
   "source": [
    "# Creamos las categorías\n",
    "categorias = [ \n",
    "\"Individual\", \n",
    "\"Pareja\", \n",
    "\"Pareja estándar\",\n",
    "\"Grupo\", \n",
    "\"Grupo pequeño\", \n",
    "\"Familiar\",\n",
    "\"Familiar grande\",\n",
    "\"Grupo mediano\",\n",
    "\"Grupo grande\",\n",
    "\"Grupo extra grande\",\n",
    "\"Alojamiento amplio\",\n",
    "\"Alojamiento grande\",\n",
    "\"Alojamiento muy grande\",\n",
    "\"Alojamiento extendido\",\n",
    "\"Alojamiento máximo\" ]"
   ]
  },
  {
   "cell_type": "code",
   "execution_count": 31,
   "metadata": {},
   "outputs": [
    {
     "data": {
      "text/plain": [
       "0                       NaN\n",
       "1             Grupo mediano\n",
       "2             Grupo mediano\n",
       "3        Grupo extra grande\n",
       "4           Pareja estándar\n",
       "                ...        \n",
       "23700         Grupo mediano\n",
       "23701       Pareja estándar\n",
       "23702       Pareja estándar\n",
       "23703         Grupo mediano\n",
       "23704         Grupo mediano\n",
       "Name: accommodates, Length: 23705, dtype: category\n",
       "Categories (15, object): ['Individual' < 'Pareja' < 'Pareja estándar' < 'Grupo' ... 'Alojamiento grande' < 'Alojamiento muy grande' < 'Alojamiento extendido' < 'Alojamiento máximo']"
      ]
     },
     "execution_count": 31,
     "metadata": {},
     "output_type": "execute_result"
    }
   ],
   "source": [
    "# Creamos las ctegorias en la columna numerica\n",
    "Milan ['accommodates'] = pd.cut ( x = Milan  ['accommodates'], bins = intervalos, labels = categorias )\n",
    "Milan ['accommodates']"
   ]
  },
  {
   "cell_type": "code",
   "execution_count": 32,
   "metadata": {},
   "outputs": [
    {
     "data": {
      "text/html": [
       "<div>\n",
       "<style scoped>\n",
       "    .dataframe tbody tr th:only-of-type {\n",
       "        vertical-align: middle;\n",
       "    }\n",
       "\n",
       "    .dataframe tbody tr th {\n",
       "        vertical-align: top;\n",
       "    }\n",
       "\n",
       "    .dataframe thead th {\n",
       "        text-align: right;\n",
       "    }\n",
       "</style>\n",
       "<table border=\"1\" class=\"dataframe\">\n",
       "  <thead>\n",
       "    <tr style=\"text-align: right;\">\n",
       "      <th></th>\n",
       "      <th>accommodates</th>\n",
       "      <th>frequency</th>\n",
       "      <th>percentage</th>\n",
       "      <th>cumulative_perc</th>\n",
       "    </tr>\n",
       "  </thead>\n",
       "  <tbody>\n",
       "    <tr>\n",
       "      <th>0</th>\n",
       "      <td>Pareja estándar</td>\n",
       "      <td>9048</td>\n",
       "      <td>0.381692</td>\n",
       "      <td>0.401402</td>\n",
       "    </tr>\n",
       "    <tr>\n",
       "      <th>1</th>\n",
       "      <td>Grupo mediano</td>\n",
       "      <td>7726</td>\n",
       "      <td>0.325923</td>\n",
       "      <td>0.744155</td>\n",
       "    </tr>\n",
       "    <tr>\n",
       "      <th>2</th>\n",
       "      <td>Grupo pequeño</td>\n",
       "      <td>2854</td>\n",
       "      <td>0.120397</td>\n",
       "      <td>0.870769</td>\n",
       "    </tr>\n",
       "    <tr>\n",
       "      <th>3</th>\n",
       "      <td>Alojamiento muy grande</td>\n",
       "      <td>1340</td>\n",
       "      <td>0.056528</td>\n",
       "      <td>0.930216</td>\n",
       "    </tr>\n",
       "    <tr>\n",
       "      <th>4</th>\n",
       "      <td>Grupo extra grande</td>\n",
       "      <td>1056</td>\n",
       "      <td>0.044548</td>\n",
       "      <td>0.977064</td>\n",
       "    </tr>\n",
       "    <tr>\n",
       "      <th>5</th>\n",
       "      <td>Familiar</td>\n",
       "      <td>361</td>\n",
       "      <td>0.015229</td>\n",
       "      <td>0.993079</td>\n",
       "    </tr>\n",
       "    <tr>\n",
       "      <th>6</th>\n",
       "      <td>Alojamiento máximo</td>\n",
       "      <td>156</td>\n",
       "      <td>0.006581</td>\n",
       "      <td>1.000000</td>\n",
       "    </tr>\n",
       "    <tr>\n",
       "      <th>7</th>\n",
       "      <td>Individual</td>\n",
       "      <td>0</td>\n",
       "      <td>0.000000</td>\n",
       "      <td>1.000000</td>\n",
       "    </tr>\n",
       "    <tr>\n",
       "      <th>8</th>\n",
       "      <td>Pareja</td>\n",
       "      <td>0</td>\n",
       "      <td>0.000000</td>\n",
       "      <td>1.000000</td>\n",
       "    </tr>\n",
       "    <tr>\n",
       "      <th>9</th>\n",
       "      <td>Grupo</td>\n",
       "      <td>0</td>\n",
       "      <td>0.000000</td>\n",
       "      <td>1.000000</td>\n",
       "    </tr>\n",
       "    <tr>\n",
       "      <th>10</th>\n",
       "      <td>Familiar grande</td>\n",
       "      <td>0</td>\n",
       "      <td>0.000000</td>\n",
       "      <td>1.000000</td>\n",
       "    </tr>\n",
       "    <tr>\n",
       "      <th>11</th>\n",
       "      <td>Grupo grande</td>\n",
       "      <td>0</td>\n",
       "      <td>0.000000</td>\n",
       "      <td>1.000000</td>\n",
       "    </tr>\n",
       "    <tr>\n",
       "      <th>12</th>\n",
       "      <td>Alojamiento amplio</td>\n",
       "      <td>0</td>\n",
       "      <td>0.000000</td>\n",
       "      <td>1.000000</td>\n",
       "    </tr>\n",
       "    <tr>\n",
       "      <th>13</th>\n",
       "      <td>Alojamiento grande</td>\n",
       "      <td>0</td>\n",
       "      <td>0.000000</td>\n",
       "      <td>1.000000</td>\n",
       "    </tr>\n",
       "    <tr>\n",
       "      <th>14</th>\n",
       "      <td>Alojamiento extendido</td>\n",
       "      <td>0</td>\n",
       "      <td>0.000000</td>\n",
       "      <td>1.000000</td>\n",
       "    </tr>\n",
       "  </tbody>\n",
       "</table>\n",
       "</div>"
      ],
      "text/plain": [
       "              accommodates  frequency  percentage  cumulative_perc\n",
       "0          Pareja estándar       9048    0.381692         0.401402\n",
       "1            Grupo mediano       7726    0.325923         0.744155\n",
       "2            Grupo pequeño       2854    0.120397         0.870769\n",
       "3   Alojamiento muy grande       1340    0.056528         0.930216\n",
       "4       Grupo extra grande       1056    0.044548         0.977064\n",
       "5                 Familiar        361    0.015229         0.993079\n",
       "6       Alojamiento máximo        156    0.006581         1.000000\n",
       "7               Individual          0    0.000000         1.000000\n",
       "8                   Pareja          0    0.000000         1.000000\n",
       "9                    Grupo          0    0.000000         1.000000\n",
       "10         Familiar grande          0    0.000000         1.000000\n",
       "11            Grupo grande          0    0.000000         1.000000\n",
       "12      Alojamiento amplio          0    0.000000         1.000000\n",
       "13      Alojamiento grande          0    0.000000         1.000000\n",
       "14   Alojamiento extendido          0    0.000000         1.000000"
      ]
     },
     "execution_count": 32,
     "metadata": {},
     "output_type": "execute_result"
    }
   ],
   "source": [
    "table1 = freq_tbl(Milan['accommodates'])\n",
    "table1"
   ]
  },
  {
   "cell_type": "code",
   "execution_count": 34,
   "metadata": {},
   "outputs": [
    {
     "data": {
      "text/html": [
       "<div>\n",
       "<style scoped>\n",
       "    .dataframe tbody tr th:only-of-type {\n",
       "        vertical-align: middle;\n",
       "    }\n",
       "\n",
       "    .dataframe tbody tr th {\n",
       "        vertical-align: top;\n",
       "    }\n",
       "\n",
       "    .dataframe thead th {\n",
       "        text-align: right;\n",
       "    }\n",
       "</style>\n",
       "<table border=\"1\" class=\"dataframe\">\n",
       "  <thead>\n",
       "    <tr style=\"text-align: right;\">\n",
       "      <th></th>\n",
       "      <th>accommodates</th>\n",
       "      <th>frequency</th>\n",
       "    </tr>\n",
       "  </thead>\n",
       "  <tbody>\n",
       "    <tr>\n",
       "      <th>0</th>\n",
       "      <td>Pareja estándar</td>\n",
       "      <td>9048</td>\n",
       "    </tr>\n",
       "    <tr>\n",
       "      <th>1</th>\n",
       "      <td>Grupo mediano</td>\n",
       "      <td>7726</td>\n",
       "    </tr>\n",
       "    <tr>\n",
       "      <th>2</th>\n",
       "      <td>Grupo pequeño</td>\n",
       "      <td>2854</td>\n",
       "    </tr>\n",
       "    <tr>\n",
       "      <th>3</th>\n",
       "      <td>Alojamiento muy grande</td>\n",
       "      <td>1340</td>\n",
       "    </tr>\n",
       "    <tr>\n",
       "      <th>4</th>\n",
       "      <td>Grupo extra grande</td>\n",
       "      <td>1056</td>\n",
       "    </tr>\n",
       "    <tr>\n",
       "      <th>5</th>\n",
       "      <td>Familiar</td>\n",
       "      <td>361</td>\n",
       "    </tr>\n",
       "    <tr>\n",
       "      <th>6</th>\n",
       "      <td>Alojamiento máximo</td>\n",
       "      <td>156</td>\n",
       "    </tr>\n",
       "    <tr>\n",
       "      <th>7</th>\n",
       "      <td>Individual</td>\n",
       "      <td>0</td>\n",
       "    </tr>\n",
       "    <tr>\n",
       "      <th>8</th>\n",
       "      <td>Pareja</td>\n",
       "      <td>0</td>\n",
       "    </tr>\n",
       "    <tr>\n",
       "      <th>9</th>\n",
       "      <td>Grupo</td>\n",
       "      <td>0</td>\n",
       "    </tr>\n",
       "    <tr>\n",
       "      <th>10</th>\n",
       "      <td>Familiar grande</td>\n",
       "      <td>0</td>\n",
       "    </tr>\n",
       "    <tr>\n",
       "      <th>11</th>\n",
       "      <td>Grupo grande</td>\n",
       "      <td>0</td>\n",
       "    </tr>\n",
       "    <tr>\n",
       "      <th>12</th>\n",
       "      <td>Alojamiento amplio</td>\n",
       "      <td>0</td>\n",
       "    </tr>\n",
       "    <tr>\n",
       "      <th>13</th>\n",
       "      <td>Alojamiento grande</td>\n",
       "      <td>0</td>\n",
       "    </tr>\n",
       "    <tr>\n",
       "      <th>14</th>\n",
       "      <td>Alojamiento extendido</td>\n",
       "      <td>0</td>\n",
       "    </tr>\n",
       "  </tbody>\n",
       "</table>\n",
       "</div>"
      ],
      "text/plain": [
       "              accommodates  frequency\n",
       "0          Pareja estándar       9048\n",
       "1            Grupo mediano       7726\n",
       "2            Grupo pequeño       2854\n",
       "3   Alojamiento muy grande       1340\n",
       "4       Grupo extra grande       1056\n",
       "5                 Familiar        361\n",
       "6       Alojamiento máximo        156\n",
       "7               Individual          0\n",
       "8                   Pareja          0\n",
       "9                    Grupo          0\n",
       "10         Familiar grande          0\n",
       "11            Grupo grande          0\n",
       "12      Alojamiento amplio          0\n",
       "13      Alojamiento grande          0\n",
       "14   Alojamiento extendido          0"
      ]
     },
     "execution_count": 34,
     "metadata": {},
     "output_type": "execute_result"
    }
   ],
   "source": [
    "# Elimino las columnas \"porcentage\" y \"cumulative_perc\" para trabajar con las frecuencias\n",
    "\n",
    "table2 = table1.drop(['percentage', 'cumulative_perc'], axis=1)\n",
    "table2"
   ]
  },
  {
   "cell_type": "code",
   "execution_count": 35,
   "metadata": {},
   "outputs": [
    {
     "data": {
      "text/html": [
       "<div>\n",
       "<style scoped>\n",
       "    .dataframe tbody tr th:only-of-type {\n",
       "        vertical-align: middle;\n",
       "    }\n",
       "\n",
       "    .dataframe tbody tr th {\n",
       "        vertical-align: top;\n",
       "    }\n",
       "\n",
       "    .dataframe thead th {\n",
       "        text-align: right;\n",
       "    }\n",
       "</style>\n",
       "<table border=\"1\" class=\"dataframe\">\n",
       "  <thead>\n",
       "    <tr style=\"text-align: right;\">\n",
       "      <th></th>\n",
       "      <th>accommodates</th>\n",
       "      <th>frequency</th>\n",
       "    </tr>\n",
       "  </thead>\n",
       "  <tbody>\n",
       "    <tr>\n",
       "      <th>0</th>\n",
       "      <td>Pareja estándar</td>\n",
       "      <td>9048</td>\n",
       "    </tr>\n",
       "    <tr>\n",
       "      <th>1</th>\n",
       "      <td>Grupo mediano</td>\n",
       "      <td>7726</td>\n",
       "    </tr>\n",
       "    <tr>\n",
       "      <th>2</th>\n",
       "      <td>Grupo pequeño</td>\n",
       "      <td>2854</td>\n",
       "    </tr>\n",
       "    <tr>\n",
       "      <th>3</th>\n",
       "      <td>Alojamiento muy grande</td>\n",
       "      <td>1340</td>\n",
       "    </tr>\n",
       "    <tr>\n",
       "      <th>4</th>\n",
       "      <td>Grupo extra grande</td>\n",
       "      <td>1056</td>\n",
       "    </tr>\n",
       "    <tr>\n",
       "      <th>5</th>\n",
       "      <td>Familiar</td>\n",
       "      <td>361</td>\n",
       "    </tr>\n",
       "    <tr>\n",
       "      <th>6</th>\n",
       "      <td>Alojamiento máximo</td>\n",
       "      <td>156</td>\n",
       "    </tr>\n",
       "  </tbody>\n",
       "</table>\n",
       "</div>"
      ],
      "text/plain": [
       "             accommodates  frequency\n",
       "0         Pareja estándar       9048\n",
       "1           Grupo mediano       7726\n",
       "2           Grupo pequeño       2854\n",
       "3  Alojamiento muy grande       1340\n",
       "4      Grupo extra grande       1056\n",
       "5                Familiar        361\n",
       "6      Alojamiento máximo        156"
      ]
     },
     "execution_count": 35,
     "metadata": {},
     "output_type": "execute_result"
    }
   ],
   "source": [
    "Filtro = table2[ table2['frequency'] >= 94]\n",
    "Filtro"
   ]
  },
  {
   "cell_type": "code",
   "execution_count": 36,
   "metadata": {},
   "outputs": [
    {
     "data": {
      "text/html": [
       "<div>\n",
       "<style scoped>\n",
       "    .dataframe tbody tr th:only-of-type {\n",
       "        vertical-align: middle;\n",
       "    }\n",
       "\n",
       "    .dataframe tbody tr th {\n",
       "        vertical-align: top;\n",
       "    }\n",
       "\n",
       "    .dataframe thead th {\n",
       "        text-align: right;\n",
       "    }\n",
       "</style>\n",
       "<table border=\"1\" class=\"dataframe\">\n",
       "  <thead>\n",
       "    <tr style=\"text-align: right;\">\n",
       "      <th></th>\n",
       "      <th>frequency</th>\n",
       "    </tr>\n",
       "    <tr>\n",
       "      <th>accommodates</th>\n",
       "      <th></th>\n",
       "    </tr>\n",
       "  </thead>\n",
       "  <tbody>\n",
       "    <tr>\n",
       "      <th>Pareja estándar</th>\n",
       "      <td>9048</td>\n",
       "    </tr>\n",
       "    <tr>\n",
       "      <th>Grupo mediano</th>\n",
       "      <td>7726</td>\n",
       "    </tr>\n",
       "    <tr>\n",
       "      <th>Grupo pequeño</th>\n",
       "      <td>2854</td>\n",
       "    </tr>\n",
       "    <tr>\n",
       "      <th>Alojamiento muy grande</th>\n",
       "      <td>1340</td>\n",
       "    </tr>\n",
       "    <tr>\n",
       "      <th>Grupo extra grande</th>\n",
       "      <td>1056</td>\n",
       "    </tr>\n",
       "    <tr>\n",
       "      <th>Familiar</th>\n",
       "      <td>361</td>\n",
       "    </tr>\n",
       "    <tr>\n",
       "      <th>Alojamiento máximo</th>\n",
       "      <td>156</td>\n",
       "    </tr>\n",
       "  </tbody>\n",
       "</table>\n",
       "</div>"
      ],
      "text/plain": [
       "                        frequency\n",
       "accommodates                     \n",
       "Pareja estándar              9048\n",
       "Grupo mediano                7726\n",
       "Grupo pequeño                2854\n",
       "Alojamiento muy grande       1340\n",
       "Grupo extra grande           1056\n",
       "Familiar                      361\n",
       "Alojamiento máximo            156"
      ]
     },
     "execution_count": 36,
     "metadata": {},
     "output_type": "execute_result"
    }
   ],
   "source": [
    "# Ajusto el indice de mi data frame\n",
    "\n",
    "Filtro_index = Filtro.set_index('accommodates')\n",
    "Filtro_index"
   ]
  },
  {
   "cell_type": "code",
   "execution_count": 37,
   "metadata": {},
   "outputs": [
    {
     "data": {
      "text/plain": [
       "<Axes: xlabel='accommodates'>"
      ]
     },
     "execution_count": 37,
     "metadata": {},
     "output_type": "execute_result"
    },
    {
     "data": {
      "image/png": "[encoded data removed]",
      "text/plain": [
       "<Figure size 1800x500 with 1 Axes>"
      ]
     },
     "metadata": {},
     "output_type": "display_data"
    }
   ],
   "source": [
    "# Realizamos gráfico de area del dataframe filtrado\n",
    "Filtro_index.plot(kind = 'area', figsize = (18,5), alpha = 0.5)"
   ]
  }
 ],
 "metadata": {
  "kernelspec": {
   "display_name": "Python 3",
   "language": "python",
   "name": "python3"
  },
  "language_info": {
   "codemirror_mode": {
    "name": "ipython",
    "version": 3
   },
   "file_extension": ".py",
   "mimetype": "text/x-python",
   "name": "python",
   "nbconvert_exporter": "python",
   "pygments_lexer": "ipython3",
   "version": "3.12.8"
  }
 },
 "nbformat": 4,
 "nbformat_minor": 2
}
