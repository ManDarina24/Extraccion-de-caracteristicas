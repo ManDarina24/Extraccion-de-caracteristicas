{
 "cells": [
  {
   "cell_type": "code",
   "execution_count": 1,
   "metadata": {},
   "outputs": [],
   "source": [
    "import pandas as pd\n",
    "import numpy as np\n",
    "import matplotlib.pyplot as plt\n",
    "from funpymodeling.exploratory import freq_tbl"
   ]
  },
  {
   "cell_type": "code",
   "execution_count": 2,
   "metadata": {},
   "outputs": [],
   "source": [
    "# Carga desde un archivo .xlsx sin indice\n",
    "Milan  = pd.read_csv('../ValoresAtipicosMilan.csv')"
   ]
  },
  {
   "cell_type": "code",
   "execution_count": 3,
   "metadata": {},
   "outputs": [
    {
     "name": "stdout",
     "output_type": "stream",
     "text": [
      "<class 'pandas.core.frame.DataFrame'>\n",
      "RangeIndex: 23705 entries, 0 to 23704\n",
      "Data columns (total 50 columns):\n",
      " #   Column                                        Non-Null Count  Dtype  \n",
      "---  ------                                        --------------  -----  \n",
      " 0   id                                            23705 non-null  int64  \n",
      " 1   last_scraped                                  23705 non-null  object \n",
      " 2   name                                          23705 non-null  object \n",
      " 3   host_id                                       23705 non-null  int64  \n",
      " 4   host_name                                     23705 non-null  object \n",
      " 5   host_since                                    23705 non-null  object \n",
      " 6   host_response_time                            23705 non-null  object \n",
      " 7   host_is_superhost                             23705 non-null  object \n",
      " 8   host_identity_verified                        23705 non-null  object \n",
      " 9   neighbourhood                                 23705 non-null  object \n",
      " 10  neighbourhood_cleansed                        23705 non-null  object \n",
      " 11  latitude                                      23705 non-null  float64\n",
      " 12  longitude                                     23705 non-null  float64\n",
      " 13  property_type                                 23705 non-null  object \n",
      " 14  room_type                                     23705 non-null  object \n",
      " 15  amenities                                     23705 non-null  object \n",
      " 16  calendar_last_scraped                         23705 non-null  object \n",
      " 17  has_availability                              23705 non-null  object \n",
      " 18  first_review                                  23705 non-null  object \n",
      " 19  last_review                                   23705 non-null  object \n",
      " 20  license                                       23705 non-null  object \n",
      " 21  instant_bookable                              23705 non-null  object \n",
      " 22  host_response_rate                            23705 non-null  float64\n",
      " 23  host_acceptance_rate                          23705 non-null  float64\n",
      " 24  host_listings_count                           23705 non-null  float64\n",
      " 25  host_total_listings_count                     23705 non-null  float64\n",
      " 26  accommodates                                  23705 non-null  float64\n",
      " 27  bathrooms                                     23705 non-null  float64\n",
      " 28  bedrooms                                      23705 non-null  float64\n",
      " 29  beds                                          23705 non-null  float64\n",
      " 30  price                                         23705 non-null  float64\n",
      " 31  minimum_nights                                23705 non-null  float64\n",
      " 32  maximum_nights                                23705 non-null  int64  \n",
      " 33  minimum_nights_avg_ntm                        23705 non-null  float64\n",
      " 34  maximum_nights_avg_ntm                        23705 non-null  float64\n",
      " 35  availability_30                               23705 non-null  int64  \n",
      " 36  availability_90                               23705 non-null  int64  \n",
      " 37  availability_365                              23705 non-null  int64  \n",
      " 38  number_of_reviews                             23705 non-null  float64\n",
      " 39  review_scores_rating                          23705 non-null  float64\n",
      " 40  review_scores_accuracy                        23705 non-null  float64\n",
      " 41  review_scores_cleanliness                     23705 non-null  float64\n",
      " 42  review_scores_checkin                         23705 non-null  float64\n",
      " 43  review_scores_communication                   23705 non-null  float64\n",
      " 44  review_scores_location                        23705 non-null  float64\n",
      " 45  review_scores_value                           23705 non-null  float64\n",
      " 46  calculated_host_listings_count                23705 non-null  float64\n",
      " 47  calculated_host_listings_count_entire_homes   23705 non-null  float64\n",
      " 48  calculated_host_listings_count_private_rooms  23705 non-null  float64\n",
      " 49  calculated_host_listings_count_shared_rooms   23705 non-null  float64\n",
      "dtypes: float64(26), int64(6), object(18)\n",
      "memory usage: 9.0+ MB\n"
     ]
    }
   ],
   "source": [
    "# Verificamos información del dataframe\n",
    "Milan.info()"
   ]
  },
  {
   "cell_type": "markdown",
   "metadata": {},
   "source": [
    "DETERMINACIÓN DE CLASES PARA DATOS AGRUPADOS "
   ]
  },
  {
   "cell_type": "code",
   "execution_count": 4,
   "metadata": {},
   "outputs": [
    {
     "name": "stdout",
     "output_type": "stream",
     "text": [
      "<class 'pandas.core.series.Series'>\n",
      "RangeIndex: 23705 entries, 0 to 23704\n",
      "Series name: beds\n",
      "Non-Null Count  Dtype  \n",
      "--------------  -----  \n",
      "23705 non-null  float64\n",
      "dtypes: float64(1)\n",
      "memory usage: 185.3 KB\n"
     ]
    }
   ],
   "source": [
    "#Calculamos el numero total de la población \"n\"\n",
    "\n",
    "Milan['beds'].info()"
   ]
  },
  {
   "cell_type": "code",
   "execution_count": 5,
   "metadata": {},
   "outputs": [
    {
     "data": {
      "text/plain": [
       "[0.0, 5.0]"
      ]
     },
     "execution_count": 5,
     "metadata": {},
     "output_type": "execute_result"
    }
   ],
   "source": [
    "# Obtenemos el limite superior y el límite inferios de la columna objetivo\n",
    "Max = Milan['beds'].max()\n",
    "Min = Milan['beds'].min()\n",
    "Limites = [Min, Max]\n",
    "Limites"
   ]
  },
  {
   "cell_type": "code",
   "execution_count": 6,
   "metadata": {},
   "outputs": [
    {
     "data": {
      "text/plain": [
       "5.0"
      ]
     },
     "execution_count": 6,
     "metadata": {},
     "output_type": "execute_result"
    }
   ],
   "source": [
    "# Calculamos el rango R\n",
    "R = Max - Min\n",
    "R"
   ]
  },
  {
   "cell_type": "code",
   "execution_count": 7,
   "metadata": {},
   "outputs": [
    {
     "data": {
      "text/plain": [
       "15.524529489816098"
      ]
     },
     "execution_count": 7,
     "metadata": {},
     "output_type": "execute_result"
    }
   ],
   "source": [
    "# Calculamos el número de intervalos de clase \"ni\", aplicando la regla de Sturges\n",
    "n = 23706\n",
    "ni = 1 + 3.32 * np.log10(n)\n",
    "ni"
   ]
  },
  {
   "cell_type": "code",
   "execution_count": 8,
   "metadata": {},
   "outputs": [
    {
     "data": {
      "text/plain": [
       "0.32207095250647944"
      ]
     },
     "execution_count": 8,
     "metadata": {},
     "output_type": "execute_result"
    }
   ],
   "source": [
    "# Calculamos el ancho del intervalo \"i\"\n",
    "i = R / ni\n",
    "i"
   ]
  },
  {
   "cell_type": "markdown",
   "metadata": {},
   "source": [
    "CREACIÓN DE CATEGORÍAS A PARTIR DE CLASES"
   ]
  },
  {
   "cell_type": "code",
   "execution_count": 9,
   "metadata": {},
   "outputs": [
    {
     "data": {
      "text/plain": [
       "array([0.        , 0.33333333, 0.66666667, 1.        , 1.33333333,\n",
       "       1.66666667, 2.        , 2.33333333, 2.66666667, 3.        ,\n",
       "       3.33333333, 3.66666667, 4.        , 4.33333333, 4.66666667,\n",
       "       5.        ])"
      ]
     },
     "execution_count": 9,
     "metadata": {},
     "output_type": "execute_result"
    }
   ],
   "source": [
    "# Categorización de variables\n",
    "intervalos = np.linspace (0, 5, 16)\n",
    "intervalos"
   ]
  },
  {
   "cell_type": "code",
   "execution_count": 10,
   "metadata": {},
   "outputs": [],
   "source": [
    "# Creamos las categorías\n",
    "\n",
    "categorias = [\n",
    "    \"Sin cama\",\n",
    "    \"Espacio mínimo\",\n",
    "    \"Espacio compacto\",\n",
    "    \"Cama individual\",\n",
    "    \"Cama semi-doble\",\n",
    "    \"Cama doble\",\n",
    "    \"Doble amplia\",\n",
    "    \"Cama triple\",\n",
    "    \"Triple amplia\",\n",
    "    \"Cuádruple compacta\",\n",
    "    \"Cuádruple estándar\",\n",
    "    \"Familiar pequeña\",\n",
    "    \"Familiar estándar\",\n",
    "    \"Familiar grande\",\n",
    "    \"Familiar extra grande\"\n",
    "]\n"
   ]
  },
  {
   "cell_type": "code",
   "execution_count": 11,
   "metadata": {},
   "outputs": [
    {
     "data": {
      "text/plain": [
       "0        Espacio compacto\n",
       "1        Espacio compacto\n",
       "2        Familiar pequeña\n",
       "3           Triple amplia\n",
       "4        Espacio compacto\n",
       "               ...       \n",
       "23700    Familiar pequeña\n",
       "23701    Espacio compacto\n",
       "23702    Espacio compacto\n",
       "23703          Cama doble\n",
       "23704          Cama doble\n",
       "Name: beds, Length: 23705, dtype: category\n",
       "Categories (15, object): ['Sin cama' < 'Espacio mínimo' < 'Espacio compacto' < 'Cama individual' ... 'Familiar pequeña' < 'Familiar estándar' < 'Familiar grande' < 'Familiar extra grande']"
      ]
     },
     "execution_count": 11,
     "metadata": {},
     "output_type": "execute_result"
    }
   ],
   "source": [
    "# Creamos las ctegorias en la columna numerica\n",
    "Milan['beds'] = pd.cut ( x =Milan ['beds'], bins = intervalos, labels = categorias )\n",
    "Milan['beds']"
   ]
  },
  {
   "cell_type": "code",
   "execution_count": 12,
   "metadata": {},
   "outputs": [
    {
     "data": {
      "text/html": [
       "<div>\n",
       "<style scoped>\n",
       "    .dataframe tbody tr th:only-of-type {\n",
       "        vertical-align: middle;\n",
       "    }\n",
       "\n",
       "    .dataframe tbody tr th {\n",
       "        vertical-align: top;\n",
       "    }\n",
       "\n",
       "    .dataframe thead th {\n",
       "        text-align: right;\n",
       "    }\n",
       "</style>\n",
       "<table border=\"1\" class=\"dataframe\">\n",
       "  <thead>\n",
       "    <tr style=\"text-align: right;\">\n",
       "      <th></th>\n",
       "      <th>beds</th>\n",
       "      <th>frequency</th>\n",
       "      <th>percentage</th>\n",
       "      <th>cumulative_perc</th>\n",
       "    </tr>\n",
       "  </thead>\n",
       "  <tbody>\n",
       "    <tr>\n",
       "      <th>0</th>\n",
       "      <td>Cama doble</td>\n",
       "      <td>10102</td>\n",
       "      <td>0.426155</td>\n",
       "      <td>0.437885</td>\n",
       "    </tr>\n",
       "    <tr>\n",
       "      <th>1</th>\n",
       "      <td>Espacio compacto</td>\n",
       "      <td>9425</td>\n",
       "      <td>0.397595</td>\n",
       "      <td>0.846424</td>\n",
       "    </tr>\n",
       "    <tr>\n",
       "      <th>2</th>\n",
       "      <td>Triple amplia</td>\n",
       "      <td>2309</td>\n",
       "      <td>0.097406</td>\n",
       "      <td>0.946511</td>\n",
       "    </tr>\n",
       "    <tr>\n",
       "      <th>3</th>\n",
       "      <td>Familiar pequeña</td>\n",
       "      <td>949</td>\n",
       "      <td>0.040034</td>\n",
       "      <td>0.987646</td>\n",
       "    </tr>\n",
       "    <tr>\n",
       "      <th>4</th>\n",
       "      <td>Familiar extra grande</td>\n",
       "      <td>285</td>\n",
       "      <td>0.012023</td>\n",
       "      <td>1.000000</td>\n",
       "    </tr>\n",
       "    <tr>\n",
       "      <th>5</th>\n",
       "      <td>Sin cama</td>\n",
       "      <td>0</td>\n",
       "      <td>0.000000</td>\n",
       "      <td>1.000000</td>\n",
       "    </tr>\n",
       "    <tr>\n",
       "      <th>6</th>\n",
       "      <td>Espacio mínimo</td>\n",
       "      <td>0</td>\n",
       "      <td>0.000000</td>\n",
       "      <td>1.000000</td>\n",
       "    </tr>\n",
       "    <tr>\n",
       "      <th>7</th>\n",
       "      <td>Cama individual</td>\n",
       "      <td>0</td>\n",
       "      <td>0.000000</td>\n",
       "      <td>1.000000</td>\n",
       "    </tr>\n",
       "    <tr>\n",
       "      <th>8</th>\n",
       "      <td>Cama semi-doble</td>\n",
       "      <td>0</td>\n",
       "      <td>0.000000</td>\n",
       "      <td>1.000000</td>\n",
       "    </tr>\n",
       "    <tr>\n",
       "      <th>9</th>\n",
       "      <td>Doble amplia</td>\n",
       "      <td>0</td>\n",
       "      <td>0.000000</td>\n",
       "      <td>1.000000</td>\n",
       "    </tr>\n",
       "    <tr>\n",
       "      <th>10</th>\n",
       "      <td>Cama triple</td>\n",
       "      <td>0</td>\n",
       "      <td>0.000000</td>\n",
       "      <td>1.000000</td>\n",
       "    </tr>\n",
       "    <tr>\n",
       "      <th>11</th>\n",
       "      <td>Cuádruple compacta</td>\n",
       "      <td>0</td>\n",
       "      <td>0.000000</td>\n",
       "      <td>1.000000</td>\n",
       "    </tr>\n",
       "    <tr>\n",
       "      <th>12</th>\n",
       "      <td>Cuádruple estándar</td>\n",
       "      <td>0</td>\n",
       "      <td>0.000000</td>\n",
       "      <td>1.000000</td>\n",
       "    </tr>\n",
       "    <tr>\n",
       "      <th>13</th>\n",
       "      <td>Familiar estándar</td>\n",
       "      <td>0</td>\n",
       "      <td>0.000000</td>\n",
       "      <td>1.000000</td>\n",
       "    </tr>\n",
       "    <tr>\n",
       "      <th>14</th>\n",
       "      <td>Familiar grande</td>\n",
       "      <td>0</td>\n",
       "      <td>0.000000</td>\n",
       "      <td>1.000000</td>\n",
       "    </tr>\n",
       "  </tbody>\n",
       "</table>\n",
       "</div>"
      ],
      "text/plain": [
       "                     beds  frequency  percentage  cumulative_perc\n",
       "0              Cama doble      10102    0.426155         0.437885\n",
       "1        Espacio compacto       9425    0.397595         0.846424\n",
       "2           Triple amplia       2309    0.097406         0.946511\n",
       "3        Familiar pequeña        949    0.040034         0.987646\n",
       "4   Familiar extra grande        285    0.012023         1.000000\n",
       "5                Sin cama          0    0.000000         1.000000\n",
       "6          Espacio mínimo          0    0.000000         1.000000\n",
       "7         Cama individual          0    0.000000         1.000000\n",
       "8         Cama semi-doble          0    0.000000         1.000000\n",
       "9            Doble amplia          0    0.000000         1.000000\n",
       "10            Cama triple          0    0.000000         1.000000\n",
       "11     Cuádruple compacta          0    0.000000         1.000000\n",
       "12     Cuádruple estándar          0    0.000000         1.000000\n",
       "13      Familiar estándar          0    0.000000         1.000000\n",
       "14        Familiar grande          0    0.000000         1.000000"
      ]
     },
     "execution_count": 12,
     "metadata": {},
     "output_type": "execute_result"
    }
   ],
   "source": [
    "table1 = freq_tbl(Milan['beds'])\n",
    "table1"
   ]
  },
  {
   "cell_type": "code",
   "execution_count": 13,
   "metadata": {},
   "outputs": [
    {
     "data": {
      "text/html": [
       "<div>\n",
       "<style scoped>\n",
       "    .dataframe tbody tr th:only-of-type {\n",
       "        vertical-align: middle;\n",
       "    }\n",
       "\n",
       "    .dataframe tbody tr th {\n",
       "        vertical-align: top;\n",
       "    }\n",
       "\n",
       "    .dataframe thead th {\n",
       "        text-align: right;\n",
       "    }\n",
       "</style>\n",
       "<table border=\"1\" class=\"dataframe\">\n",
       "  <thead>\n",
       "    <tr style=\"text-align: right;\">\n",
       "      <th></th>\n",
       "      <th>beds</th>\n",
       "      <th>frequency</th>\n",
       "    </tr>\n",
       "  </thead>\n",
       "  <tbody>\n",
       "    <tr>\n",
       "      <th>0</th>\n",
       "      <td>Cama doble</td>\n",
       "      <td>10102</td>\n",
       "    </tr>\n",
       "    <tr>\n",
       "      <th>1</th>\n",
       "      <td>Espacio compacto</td>\n",
       "      <td>9425</td>\n",
       "    </tr>\n",
       "    <tr>\n",
       "      <th>2</th>\n",
       "      <td>Triple amplia</td>\n",
       "      <td>2309</td>\n",
       "    </tr>\n",
       "    <tr>\n",
       "      <th>3</th>\n",
       "      <td>Familiar pequeña</td>\n",
       "      <td>949</td>\n",
       "    </tr>\n",
       "    <tr>\n",
       "      <th>4</th>\n",
       "      <td>Familiar extra grande</td>\n",
       "      <td>285</td>\n",
       "    </tr>\n",
       "    <tr>\n",
       "      <th>5</th>\n",
       "      <td>Sin cama</td>\n",
       "      <td>0</td>\n",
       "    </tr>\n",
       "    <tr>\n",
       "      <th>6</th>\n",
       "      <td>Espacio mínimo</td>\n",
       "      <td>0</td>\n",
       "    </tr>\n",
       "    <tr>\n",
       "      <th>7</th>\n",
       "      <td>Cama individual</td>\n",
       "      <td>0</td>\n",
       "    </tr>\n",
       "    <tr>\n",
       "      <th>8</th>\n",
       "      <td>Cama semi-doble</td>\n",
       "      <td>0</td>\n",
       "    </tr>\n",
       "    <tr>\n",
       "      <th>9</th>\n",
       "      <td>Doble amplia</td>\n",
       "      <td>0</td>\n",
       "    </tr>\n",
       "    <tr>\n",
       "      <th>10</th>\n",
       "      <td>Cama triple</td>\n",
       "      <td>0</td>\n",
       "    </tr>\n",
       "    <tr>\n",
       "      <th>11</th>\n",
       "      <td>Cuádruple compacta</td>\n",
       "      <td>0</td>\n",
       "    </tr>\n",
       "    <tr>\n",
       "      <th>12</th>\n",
       "      <td>Cuádruple estándar</td>\n",
       "      <td>0</td>\n",
       "    </tr>\n",
       "    <tr>\n",
       "      <th>13</th>\n",
       "      <td>Familiar estándar</td>\n",
       "      <td>0</td>\n",
       "    </tr>\n",
       "    <tr>\n",
       "      <th>14</th>\n",
       "      <td>Familiar grande</td>\n",
       "      <td>0</td>\n",
       "    </tr>\n",
       "  </tbody>\n",
       "</table>\n",
       "</div>"
      ],
      "text/plain": [
       "                     beds  frequency\n",
       "0              Cama doble      10102\n",
       "1        Espacio compacto       9425\n",
       "2           Triple amplia       2309\n",
       "3        Familiar pequeña        949\n",
       "4   Familiar extra grande        285\n",
       "5                Sin cama          0\n",
       "6          Espacio mínimo          0\n",
       "7         Cama individual          0\n",
       "8         Cama semi-doble          0\n",
       "9            Doble amplia          0\n",
       "10            Cama triple          0\n",
       "11     Cuádruple compacta          0\n",
       "12     Cuádruple estándar          0\n",
       "13      Familiar estándar          0\n",
       "14        Familiar grande          0"
      ]
     },
     "execution_count": 13,
     "metadata": {},
     "output_type": "execute_result"
    }
   ],
   "source": [
    "# Elimino las columnas \"porcentage\" y \"cumulative_perc\" para trabajar con las frecuencias\n",
    "\n",
    "table2 = table1.drop(['percentage', 'cumulative_perc'], axis=1)\n",
    "table2"
   ]
  },
  {
   "cell_type": "code",
   "execution_count": 14,
   "metadata": {},
   "outputs": [
    {
     "data": {
      "text/html": [
       "<div>\n",
       "<style scoped>\n",
       "    .dataframe tbody tr th:only-of-type {\n",
       "        vertical-align: middle;\n",
       "    }\n",
       "\n",
       "    .dataframe tbody tr th {\n",
       "        vertical-align: top;\n",
       "    }\n",
       "\n",
       "    .dataframe thead th {\n",
       "        text-align: right;\n",
       "    }\n",
       "</style>\n",
       "<table border=\"1\" class=\"dataframe\">\n",
       "  <thead>\n",
       "    <tr style=\"text-align: right;\">\n",
       "      <th></th>\n",
       "      <th>beds</th>\n",
       "      <th>frequency</th>\n",
       "    </tr>\n",
       "  </thead>\n",
       "  <tbody>\n",
       "    <tr>\n",
       "      <th>0</th>\n",
       "      <td>Cama doble</td>\n",
       "      <td>10102</td>\n",
       "    </tr>\n",
       "    <tr>\n",
       "      <th>1</th>\n",
       "      <td>Espacio compacto</td>\n",
       "      <td>9425</td>\n",
       "    </tr>\n",
       "    <tr>\n",
       "      <th>2</th>\n",
       "      <td>Triple amplia</td>\n",
       "      <td>2309</td>\n",
       "    </tr>\n",
       "    <tr>\n",
       "      <th>3</th>\n",
       "      <td>Familiar pequeña</td>\n",
       "      <td>949</td>\n",
       "    </tr>\n",
       "    <tr>\n",
       "      <th>4</th>\n",
       "      <td>Familiar extra grande</td>\n",
       "      <td>285</td>\n",
       "    </tr>\n",
       "  </tbody>\n",
       "</table>\n",
       "</div>"
      ],
      "text/plain": [
       "                    beds  frequency\n",
       "0             Cama doble      10102\n",
       "1       Espacio compacto       9425\n",
       "2          Triple amplia       2309\n",
       "3       Familiar pequeña        949\n",
       "4  Familiar extra grande        285"
      ]
     },
     "execution_count": 14,
     "metadata": {},
     "output_type": "execute_result"
    }
   ],
   "source": [
    "# Obtener un filtro de los valores más relevantes de las vaiables categóricas seleccionadas\n",
    "\n",
    "Filtro = table2[ table2['frequency'] > 0]\n",
    "Filtro"
   ]
  },
  {
   "cell_type": "code",
   "execution_count": 15,
   "metadata": {},
   "outputs": [
    {
     "data": {
      "text/html": [
       "<div>\n",
       "<style scoped>\n",
       "    .dataframe tbody tr th:only-of-type {\n",
       "        vertical-align: middle;\n",
       "    }\n",
       "\n",
       "    .dataframe tbody tr th {\n",
       "        vertical-align: top;\n",
       "    }\n",
       "\n",
       "    .dataframe thead th {\n",
       "        text-align: right;\n",
       "    }\n",
       "</style>\n",
       "<table border=\"1\" class=\"dataframe\">\n",
       "  <thead>\n",
       "    <tr style=\"text-align: right;\">\n",
       "      <th></th>\n",
       "      <th>frequency</th>\n",
       "    </tr>\n",
       "    <tr>\n",
       "      <th>beds</th>\n",
       "      <th></th>\n",
       "    </tr>\n",
       "  </thead>\n",
       "  <tbody>\n",
       "    <tr>\n",
       "      <th>Cama doble</th>\n",
       "      <td>10102</td>\n",
       "    </tr>\n",
       "    <tr>\n",
       "      <th>Espacio compacto</th>\n",
       "      <td>9425</td>\n",
       "    </tr>\n",
       "    <tr>\n",
       "      <th>Triple amplia</th>\n",
       "      <td>2309</td>\n",
       "    </tr>\n",
       "    <tr>\n",
       "      <th>Familiar pequeña</th>\n",
       "      <td>949</td>\n",
       "    </tr>\n",
       "    <tr>\n",
       "      <th>Familiar extra grande</th>\n",
       "      <td>285</td>\n",
       "    </tr>\n",
       "  </tbody>\n",
       "</table>\n",
       "</div>"
      ],
      "text/plain": [
       "                       frequency\n",
       "beds                            \n",
       "Cama doble                 10102\n",
       "Espacio compacto            9425\n",
       "Triple amplia               2309\n",
       "Familiar pequeña             949\n",
       "Familiar extra grande        285"
      ]
     },
     "execution_count": 15,
     "metadata": {},
     "output_type": "execute_result"
    }
   ],
   "source": [
    "# Ajusto el indice de mi data frame\n",
    "\n",
    "Filtro_index = Filtro.set_index('beds')\n",
    "Filtro_index"
   ]
  },
  {
   "cell_type": "code",
   "execution_count": 16,
   "metadata": {},
   "outputs": [
    {
     "data": {
      "text/plain": [
       "<Axes: xlabel='beds'>"
      ]
     },
     "execution_count": 16,
     "metadata": {},
     "output_type": "execute_result"
    },
    {
     "data": {
      "image/png": "[encoded data removed]",
      "text/plain": [
       "<Figure size 1500x400 with 1 Axes>"
      ]
     },
     "metadata": {},
     "output_type": "display_data"
    }
   ],
   "source": [
    "# Realizamos gráfico de area del dataframe filtrado\n",
    "Filtro_index.plot(kind = 'area', figsize = (15,4), alpha = 0.5)"
   ]
  }
 ],
 "metadata": {
  "kernelspec": {
   "display_name": "Python 3",
   "language": "python",
   "name": "python3"
  },
  "language_info": {
   "codemirror_mode": {
    "name": "ipython",
    "version": 3
   },
   "file_extension": ".py",
   "mimetype": "text/x-python",
   "name": "python",
   "nbconvert_exporter": "python",
   "pygments_lexer": "ipython3",
   "version": "3.12.8"
  }
 },
 "nbformat": 4,
 "nbformat_minor": 2
}
