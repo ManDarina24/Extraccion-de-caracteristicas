{
 "cells": [
  {
   "cell_type": "code",
   "execution_count": 1,
   "metadata": {},
   "outputs": [],
   "source": [
    "import pandas as pd\n",
    "import numpy as np\n",
    "import matplotlib.pyplot as plt\n",
    "from funpymodeling.exploratory import freq_tbl"
   ]
  },
  {
   "cell_type": "code",
   "execution_count": 2,
   "metadata": {},
   "outputs": [],
   "source": [
    "# Carga desde un archivo .xlsx sin indice\n",
    "Milan  = pd.read_csv('../ValoresAtipicosMilan.csv')"
   ]
  },
  {
   "cell_type": "code",
   "execution_count": 3,
   "metadata": {},
   "outputs": [
    {
     "name": "stdout",
     "output_type": "stream",
     "text": [
      "<class 'pandas.core.frame.DataFrame'>\n",
      "RangeIndex: 23705 entries, 0 to 23704\n",
      "Data columns (total 50 columns):\n",
      " #   Column                                        Non-Null Count  Dtype  \n",
      "---  ------                                        --------------  -----  \n",
      " 0   id                                            23705 non-null  int64  \n",
      " 1   last_scraped                                  23705 non-null  object \n",
      " 2   name                                          23705 non-null  object \n",
      " 3   host_id                                       23705 non-null  int64  \n",
      " 4   host_name                                     23705 non-null  object \n",
      " 5   host_since                                    23705 non-null  object \n",
      " 6   host_response_time                            23705 non-null  object \n",
      " 7   host_is_superhost                             23705 non-null  object \n",
      " 8   host_identity_verified                        23705 non-null  object \n",
      " 9   neighbourhood                                 23705 non-null  object \n",
      " 10  neighbourhood_cleansed                        23705 non-null  object \n",
      " 11  latitude                                      23705 non-null  float64\n",
      " 12  longitude                                     23705 non-null  float64\n",
      " 13  property_type                                 23705 non-null  object \n",
      " 14  room_type                                     23705 non-null  object \n",
      " 15  amenities                                     23705 non-null  object \n",
      " 16  calendar_last_scraped                         23705 non-null  object \n",
      " 17  has_availability                              23705 non-null  object \n",
      " 18  first_review                                  23705 non-null  object \n",
      " 19  last_review                                   23705 non-null  object \n",
      " 20  license                                       23705 non-null  object \n",
      " 21  instant_bookable                              23705 non-null  object \n",
      " 22  host_response_rate                            23705 non-null  float64\n",
      " 23  host_acceptance_rate                          23705 non-null  float64\n",
      " 24  host_listings_count                           23705 non-null  float64\n",
      " 25  host_total_listings_count                     23705 non-null  float64\n",
      " 26  accommodates                                  23705 non-null  float64\n",
      " 27  bathrooms                                     23705 non-null  float64\n",
      " 28  bedrooms                                      23705 non-null  float64\n",
      " 29  beds                                          23705 non-null  float64\n",
      " 30  price                                         23705 non-null  float64\n",
      " 31  minimum_nights                                23705 non-null  float64\n",
      " 32  maximum_nights                                23705 non-null  int64  \n",
      " 33  minimum_nights_avg_ntm                        23705 non-null  float64\n",
      " 34  maximum_nights_avg_ntm                        23705 non-null  float64\n",
      " 35  availability_30                               23705 non-null  int64  \n",
      " 36  availability_90                               23705 non-null  int64  \n",
      " 37  availability_365                              23705 non-null  int64  \n",
      " 38  number_of_reviews                             23705 non-null  float64\n",
      " 39  review_scores_rating                          23705 non-null  float64\n",
      " 40  review_scores_accuracy                        23705 non-null  float64\n",
      " 41  review_scores_cleanliness                     23705 non-null  float64\n",
      " 42  review_scores_checkin                         23705 non-null  float64\n",
      " 43  review_scores_communication                   23705 non-null  float64\n",
      " 44  review_scores_location                        23705 non-null  float64\n",
      " 45  review_scores_value                           23705 non-null  float64\n",
      " 46  calculated_host_listings_count                23705 non-null  float64\n",
      " 47  calculated_host_listings_count_entire_homes   23705 non-null  float64\n",
      " 48  calculated_host_listings_count_private_rooms  23705 non-null  float64\n",
      " 49  calculated_host_listings_count_shared_rooms   23705 non-null  float64\n",
      "dtypes: float64(26), int64(6), object(18)\n",
      "memory usage: 9.0+ MB\n"
     ]
    }
   ],
   "source": [
    "# Verificamos información del dataframe\n",
    "Milan.info()"
   ]
  },
  {
   "cell_type": "markdown",
   "metadata": {},
   "source": [
    "DETERMINACIÓN DE CLASES PARA DATOS AGRUPADOS "
   ]
  },
  {
   "cell_type": "code",
   "execution_count": null,
   "metadata": {},
   "outputs": [
    {
     "name": "stdout",
     "output_type": "stream",
     "text": [
      "<class 'pandas.core.series.Series'>\n",
      "RangeIndex: 26582 entries, 0 to 26581\n",
      "Series name: number_of_reviews\n",
      "Non-Null Count  Dtype  \n",
      "--------------  -----  \n",
      "26582 non-null  float64\n",
      "dtypes: float64(1)\n",
      "memory usage: 207.8 KB\n"
     ]
    }
   ],
   "source": [
    "#Calculamos el numero total de la población \"n\"\n",
    "\n",
    "Milan['number_of_reviews'].info()"
   ]
  },
  {
   "cell_type": "code",
   "execution_count": 4,
   "metadata": {},
   "outputs": [
    {
     "data": {
      "text/plain": [
       "[0.0, 275.0]"
      ]
     },
     "execution_count": 4,
     "metadata": {},
     "output_type": "execute_result"
    }
   ],
   "source": [
    "# Obtenemos el limite superior y el límite inferios de la columna objetivo\n",
    "Max = Milan['number_of_reviews'].max()\n",
    "Min = Milan['number_of_reviews'].min()\n",
    "Limites = [Min, Max]\n",
    "Limites"
   ]
  },
  {
   "cell_type": "code",
   "execution_count": 5,
   "metadata": {},
   "outputs": [
    {
     "data": {
      "text/plain": [
       "275.0"
      ]
     },
     "execution_count": 5,
     "metadata": {},
     "output_type": "execute_result"
    }
   ],
   "source": [
    "# Calculamos el rango R\n",
    "R = Max - Min\n",
    "R"
   ]
  },
  {
   "cell_type": "code",
   "execution_count": 6,
   "metadata": {},
   "outputs": [
    {
     "data": {
      "text/plain": [
       "15.524529489816098"
      ]
     },
     "execution_count": 6,
     "metadata": {},
     "output_type": "execute_result"
    }
   ],
   "source": [
    "# Calculamos el número de intervalos de clase \"ni\", aplicando la regla de Sturges\n",
    "n = 23706\n",
    "\n",
    "ni = 1 + 3.32 * np.log10(n)\n",
    "ni"
   ]
  },
  {
   "cell_type": "code",
   "execution_count": 7,
   "metadata": {},
   "outputs": [
    {
     "data": {
      "text/plain": [
       "17.71390238785637"
      ]
     },
     "execution_count": 7,
     "metadata": {},
     "output_type": "execute_result"
    }
   ],
   "source": [
    "# Calculamos el ancho del intervalo \"i\"\n",
    "i = R / ni\n",
    "i"
   ]
  },
  {
   "cell_type": "markdown",
   "metadata": {},
   "source": [
    "CREACIÓN DE CATEGORÍAS A PARTIR DE CLASES"
   ]
  },
  {
   "cell_type": "code",
   "execution_count": 8,
   "metadata": {},
   "outputs": [
    {
     "data": {
      "text/plain": [
       "array([  0.        ,  18.33333333,  36.66666667,  55.        ,\n",
       "        73.33333333,  91.66666667, 110.        , 128.33333333,\n",
       "       146.66666667, 165.        , 183.33333333, 201.66666667,\n",
       "       220.        , 238.33333333, 256.66666667, 275.        ])"
      ]
     },
     "execution_count": 8,
     "metadata": {},
     "output_type": "execute_result"
    }
   ],
   "source": [
    "# Categorización de variables\n",
    "intervalos = np.linspace (0, 275, 16)\n",
    "intervalos"
   ]
  },
  {
   "cell_type": "code",
   "execution_count": 9,
   "metadata": {},
   "outputs": [],
   "source": [
    "# Creamos las categorías\n",
    "categorias = [\n",
    "    \"Sin reseñas\",\n",
    "    \"Reseñas muy pocas\",\n",
    "    \"Pocas reseñas\",\n",
    "    \"Reseñas limitadas\",\n",
    "    \"Reseñas iniciales\",\n",
    "    \"Reseñas moderadas\",\n",
    "    \"Reseñas regulares\",\n",
    "    \"Reseñas en crecimiento\",\n",
    "    \"Reseñas considerables\",\n",
    "    \"Reseñas buenas\",\n",
    "    \"Reseñas muy buenas\",\n",
    "    \"Reseñas sobresalientes\",\n",
    "    \"Reseñas excepcionales\",\n",
    "    \"Reseñas destacadas\",\n",
    "    \"Reseñas máximas\"\n",
    "]"
   ]
  },
  {
   "cell_type": "code",
   "execution_count": 10,
   "metadata": {},
   "outputs": [
    {
     "data": {
      "text/plain": [
       "0              Sin reseñas\n",
       "1        Reseñas muy pocas\n",
       "2            Pocas reseñas\n",
       "3            Pocas reseñas\n",
       "4              Sin reseñas\n",
       "               ...        \n",
       "23700                  NaN\n",
       "23701                  NaN\n",
       "23702                  NaN\n",
       "23703                  NaN\n",
       "23704                  NaN\n",
       "Name: number_of_reviews, Length: 23705, dtype: category\n",
       "Categories (15, object): ['Sin reseñas' < 'Reseñas muy pocas' < 'Pocas reseñas' < 'Reseñas limitadas' ... 'Reseñas sobresalientes' < 'Reseñas excepcionales' < 'Reseñas destacadas' < 'Reseñas máximas']"
      ]
     },
     "execution_count": 10,
     "metadata": {},
     "output_type": "execute_result"
    }
   ],
   "source": [
    "# Creamos las ctegorias en la columna numerica\n",
    "Milan['number_of_reviews'] = pd.cut ( x = Milan ['number_of_reviews'], bins = intervalos, labels = categorias )\n",
    "Milan['number_of_reviews']"
   ]
  },
  {
   "cell_type": "code",
   "execution_count": 11,
   "metadata": {},
   "outputs": [
    {
     "data": {
      "text/html": [
       "<div>\n",
       "<style scoped>\n",
       "    .dataframe tbody tr th:only-of-type {\n",
       "        vertical-align: middle;\n",
       "    }\n",
       "\n",
       "    .dataframe tbody tr th {\n",
       "        vertical-align: top;\n",
       "    }\n",
       "\n",
       "    .dataframe thead th {\n",
       "        text-align: right;\n",
       "    }\n",
       "</style>\n",
       "<table border=\"1\" class=\"dataframe\">\n",
       "  <thead>\n",
       "    <tr style=\"text-align: right;\">\n",
       "      <th></th>\n",
       "      <th>number_of_reviews</th>\n",
       "      <th>frequency</th>\n",
       "      <th>percentage</th>\n",
       "      <th>cumulative_perc</th>\n",
       "    </tr>\n",
       "  </thead>\n",
       "  <tbody>\n",
       "    <tr>\n",
       "      <th>0</th>\n",
       "      <td>Sin reseñas</td>\n",
       "      <td>10955</td>\n",
       "      <td>0.462139</td>\n",
       "      <td>0.555330</td>\n",
       "    </tr>\n",
       "    <tr>\n",
       "      <th>1</th>\n",
       "      <td>Reseñas muy pocas</td>\n",
       "      <td>3611</td>\n",
       "      <td>0.152331</td>\n",
       "      <td>0.738379</td>\n",
       "    </tr>\n",
       "    <tr>\n",
       "      <th>2</th>\n",
       "      <td>Pocas reseñas</td>\n",
       "      <td>1660</td>\n",
       "      <td>0.070027</td>\n",
       "      <td>0.822528</td>\n",
       "    </tr>\n",
       "    <tr>\n",
       "      <th>3</th>\n",
       "      <td>Reseñas limitadas</td>\n",
       "      <td>935</td>\n",
       "      <td>0.039443</td>\n",
       "      <td>0.869924</td>\n",
       "    </tr>\n",
       "    <tr>\n",
       "      <th>4</th>\n",
       "      <td>Reseñas iniciales</td>\n",
       "      <td>641</td>\n",
       "      <td>0.027041</td>\n",
       "      <td>0.902418</td>\n",
       "    </tr>\n",
       "    <tr>\n",
       "      <th>5</th>\n",
       "      <td>Reseñas moderadas</td>\n",
       "      <td>461</td>\n",
       "      <td>0.019447</td>\n",
       "      <td>0.925787</td>\n",
       "    </tr>\n",
       "    <tr>\n",
       "      <th>6</th>\n",
       "      <td>Reseñas regulares</td>\n",
       "      <td>328</td>\n",
       "      <td>0.013837</td>\n",
       "      <td>0.942414</td>\n",
       "    </tr>\n",
       "    <tr>\n",
       "      <th>7</th>\n",
       "      <td>Reseñas en crecimiento</td>\n",
       "      <td>256</td>\n",
       "      <td>0.010799</td>\n",
       "      <td>0.955391</td>\n",
       "    </tr>\n",
       "    <tr>\n",
       "      <th>8</th>\n",
       "      <td>Reseñas considerables</td>\n",
       "      <td>211</td>\n",
       "      <td>0.008901</td>\n",
       "      <td>0.966087</td>\n",
       "    </tr>\n",
       "    <tr>\n",
       "      <th>9</th>\n",
       "      <td>Reseñas buenas</td>\n",
       "      <td>159</td>\n",
       "      <td>0.006707</td>\n",
       "      <td>0.974147</td>\n",
       "    </tr>\n",
       "    <tr>\n",
       "      <th>10</th>\n",
       "      <td>Reseñas sobresalientes</td>\n",
       "      <td>133</td>\n",
       "      <td>0.005611</td>\n",
       "      <td>0.980889</td>\n",
       "    </tr>\n",
       "    <tr>\n",
       "      <th>11</th>\n",
       "      <td>Reseñas muy buenas</td>\n",
       "      <td>127</td>\n",
       "      <td>0.005358</td>\n",
       "      <td>0.987327</td>\n",
       "    </tr>\n",
       "    <tr>\n",
       "      <th>12</th>\n",
       "      <td>Reseñas excepcionales</td>\n",
       "      <td>101</td>\n",
       "      <td>0.004261</td>\n",
       "      <td>0.992447</td>\n",
       "    </tr>\n",
       "    <tr>\n",
       "      <th>13</th>\n",
       "      <td>Reseñas máximas</td>\n",
       "      <td>79</td>\n",
       "      <td>0.003333</td>\n",
       "      <td>0.996452</td>\n",
       "    </tr>\n",
       "    <tr>\n",
       "      <th>14</th>\n",
       "      <td>Reseñas destacadas</td>\n",
       "      <td>70</td>\n",
       "      <td>0.002953</td>\n",
       "      <td>1.000000</td>\n",
       "    </tr>\n",
       "  </tbody>\n",
       "</table>\n",
       "</div>"
      ],
      "text/plain": [
       "         number_of_reviews  frequency  percentage  cumulative_perc\n",
       "0              Sin reseñas      10955    0.462139         0.555330\n",
       "1        Reseñas muy pocas       3611    0.152331         0.738379\n",
       "2            Pocas reseñas       1660    0.070027         0.822528\n",
       "3        Reseñas limitadas        935    0.039443         0.869924\n",
       "4        Reseñas iniciales        641    0.027041         0.902418\n",
       "5        Reseñas moderadas        461    0.019447         0.925787\n",
       "6        Reseñas regulares        328    0.013837         0.942414\n",
       "7   Reseñas en crecimiento        256    0.010799         0.955391\n",
       "8    Reseñas considerables        211    0.008901         0.966087\n",
       "9           Reseñas buenas        159    0.006707         0.974147\n",
       "10  Reseñas sobresalientes        133    0.005611         0.980889\n",
       "11      Reseñas muy buenas        127    0.005358         0.987327\n",
       "12   Reseñas excepcionales        101    0.004261         0.992447\n",
       "13         Reseñas máximas         79    0.003333         0.996452\n",
       "14      Reseñas destacadas         70    0.002953         1.000000"
      ]
     },
     "execution_count": 11,
     "metadata": {},
     "output_type": "execute_result"
    }
   ],
   "source": [
    "table1 = freq_tbl(Milan['number_of_reviews'])\n",
    "table1"
   ]
  },
  {
   "cell_type": "code",
   "execution_count": 12,
   "metadata": {},
   "outputs": [
    {
     "data": {
      "text/html": [
       "<div>\n",
       "<style scoped>\n",
       "    .dataframe tbody tr th:only-of-type {\n",
       "        vertical-align: middle;\n",
       "    }\n",
       "\n",
       "    .dataframe tbody tr th {\n",
       "        vertical-align: top;\n",
       "    }\n",
       "\n",
       "    .dataframe thead th {\n",
       "        text-align: right;\n",
       "    }\n",
       "</style>\n",
       "<table border=\"1\" class=\"dataframe\">\n",
       "  <thead>\n",
       "    <tr style=\"text-align: right;\">\n",
       "      <th></th>\n",
       "      <th>number_of_reviews</th>\n",
       "      <th>frequency</th>\n",
       "    </tr>\n",
       "  </thead>\n",
       "  <tbody>\n",
       "    <tr>\n",
       "      <th>0</th>\n",
       "      <td>Sin reseñas</td>\n",
       "      <td>10955</td>\n",
       "    </tr>\n",
       "    <tr>\n",
       "      <th>1</th>\n",
       "      <td>Reseñas muy pocas</td>\n",
       "      <td>3611</td>\n",
       "    </tr>\n",
       "    <tr>\n",
       "      <th>2</th>\n",
       "      <td>Pocas reseñas</td>\n",
       "      <td>1660</td>\n",
       "    </tr>\n",
       "    <tr>\n",
       "      <th>3</th>\n",
       "      <td>Reseñas limitadas</td>\n",
       "      <td>935</td>\n",
       "    </tr>\n",
       "    <tr>\n",
       "      <th>4</th>\n",
       "      <td>Reseñas iniciales</td>\n",
       "      <td>641</td>\n",
       "    </tr>\n",
       "    <tr>\n",
       "      <th>5</th>\n",
       "      <td>Reseñas moderadas</td>\n",
       "      <td>461</td>\n",
       "    </tr>\n",
       "    <tr>\n",
       "      <th>6</th>\n",
       "      <td>Reseñas regulares</td>\n",
       "      <td>328</td>\n",
       "    </tr>\n",
       "    <tr>\n",
       "      <th>7</th>\n",
       "      <td>Reseñas en crecimiento</td>\n",
       "      <td>256</td>\n",
       "    </tr>\n",
       "    <tr>\n",
       "      <th>8</th>\n",
       "      <td>Reseñas considerables</td>\n",
       "      <td>211</td>\n",
       "    </tr>\n",
       "    <tr>\n",
       "      <th>9</th>\n",
       "      <td>Reseñas buenas</td>\n",
       "      <td>159</td>\n",
       "    </tr>\n",
       "    <tr>\n",
       "      <th>10</th>\n",
       "      <td>Reseñas sobresalientes</td>\n",
       "      <td>133</td>\n",
       "    </tr>\n",
       "    <tr>\n",
       "      <th>11</th>\n",
       "      <td>Reseñas muy buenas</td>\n",
       "      <td>127</td>\n",
       "    </tr>\n",
       "    <tr>\n",
       "      <th>12</th>\n",
       "      <td>Reseñas excepcionales</td>\n",
       "      <td>101</td>\n",
       "    </tr>\n",
       "    <tr>\n",
       "      <th>13</th>\n",
       "      <td>Reseñas máximas</td>\n",
       "      <td>79</td>\n",
       "    </tr>\n",
       "    <tr>\n",
       "      <th>14</th>\n",
       "      <td>Reseñas destacadas</td>\n",
       "      <td>70</td>\n",
       "    </tr>\n",
       "  </tbody>\n",
       "</table>\n",
       "</div>"
      ],
      "text/plain": [
       "         number_of_reviews  frequency\n",
       "0              Sin reseñas      10955\n",
       "1        Reseñas muy pocas       3611\n",
       "2            Pocas reseñas       1660\n",
       "3        Reseñas limitadas        935\n",
       "4        Reseñas iniciales        641\n",
       "5        Reseñas moderadas        461\n",
       "6        Reseñas regulares        328\n",
       "7   Reseñas en crecimiento        256\n",
       "8    Reseñas considerables        211\n",
       "9           Reseñas buenas        159\n",
       "10  Reseñas sobresalientes        133\n",
       "11      Reseñas muy buenas        127\n",
       "12   Reseñas excepcionales        101\n",
       "13         Reseñas máximas         79\n",
       "14      Reseñas destacadas         70"
      ]
     },
     "execution_count": 12,
     "metadata": {},
     "output_type": "execute_result"
    }
   ],
   "source": [
    "# Elimino las columnas \"porcentage\" y \"cumulative_perc\" para trabajar con las frecuencias\n",
    "\n",
    "table2 = table1.drop(['percentage', 'cumulative_perc'], axis=1)\n",
    "table2"
   ]
  },
  {
   "cell_type": "code",
   "execution_count": 13,
   "metadata": {},
   "outputs": [
    {
     "data": {
      "text/html": [
       "<div>\n",
       "<style scoped>\n",
       "    .dataframe tbody tr th:only-of-type {\n",
       "        vertical-align: middle;\n",
       "    }\n",
       "\n",
       "    .dataframe tbody tr th {\n",
       "        vertical-align: top;\n",
       "    }\n",
       "\n",
       "    .dataframe thead th {\n",
       "        text-align: right;\n",
       "    }\n",
       "</style>\n",
       "<table border=\"1\" class=\"dataframe\">\n",
       "  <thead>\n",
       "    <tr style=\"text-align: right;\">\n",
       "      <th></th>\n",
       "      <th>frequency</th>\n",
       "    </tr>\n",
       "    <tr>\n",
       "      <th>number_of_reviews</th>\n",
       "      <th></th>\n",
       "    </tr>\n",
       "  </thead>\n",
       "  <tbody>\n",
       "    <tr>\n",
       "      <th>Sin reseñas</th>\n",
       "      <td>10955</td>\n",
       "    </tr>\n",
       "    <tr>\n",
       "      <th>Reseñas muy pocas</th>\n",
       "      <td>3611</td>\n",
       "    </tr>\n",
       "    <tr>\n",
       "      <th>Pocas reseñas</th>\n",
       "      <td>1660</td>\n",
       "    </tr>\n",
       "    <tr>\n",
       "      <th>Reseñas limitadas</th>\n",
       "      <td>935</td>\n",
       "    </tr>\n",
       "    <tr>\n",
       "      <th>Reseñas iniciales</th>\n",
       "      <td>641</td>\n",
       "    </tr>\n",
       "    <tr>\n",
       "      <th>Reseñas moderadas</th>\n",
       "      <td>461</td>\n",
       "    </tr>\n",
       "    <tr>\n",
       "      <th>Reseñas regulares</th>\n",
       "      <td>328</td>\n",
       "    </tr>\n",
       "    <tr>\n",
       "      <th>Reseñas en crecimiento</th>\n",
       "      <td>256</td>\n",
       "    </tr>\n",
       "    <tr>\n",
       "      <th>Reseñas considerables</th>\n",
       "      <td>211</td>\n",
       "    </tr>\n",
       "    <tr>\n",
       "      <th>Reseñas buenas</th>\n",
       "      <td>159</td>\n",
       "    </tr>\n",
       "    <tr>\n",
       "      <th>Reseñas sobresalientes</th>\n",
       "      <td>133</td>\n",
       "    </tr>\n",
       "    <tr>\n",
       "      <th>Reseñas muy buenas</th>\n",
       "      <td>127</td>\n",
       "    </tr>\n",
       "    <tr>\n",
       "      <th>Reseñas excepcionales</th>\n",
       "      <td>101</td>\n",
       "    </tr>\n",
       "    <tr>\n",
       "      <th>Reseñas máximas</th>\n",
       "      <td>79</td>\n",
       "    </tr>\n",
       "    <tr>\n",
       "      <th>Reseñas destacadas</th>\n",
       "      <td>70</td>\n",
       "    </tr>\n",
       "  </tbody>\n",
       "</table>\n",
       "</div>"
      ],
      "text/plain": [
       "                        frequency\n",
       "number_of_reviews                \n",
       "Sin reseñas                 10955\n",
       "Reseñas muy pocas            3611\n",
       "Pocas reseñas                1660\n",
       "Reseñas limitadas             935\n",
       "Reseñas iniciales             641\n",
       "Reseñas moderadas             461\n",
       "Reseñas regulares             328\n",
       "Reseñas en crecimiento        256\n",
       "Reseñas considerables         211\n",
       "Reseñas buenas                159\n",
       "Reseñas sobresalientes        133\n",
       "Reseñas muy buenas            127\n",
       "Reseñas excepcionales         101\n",
       "Reseñas máximas                79\n",
       "Reseñas destacadas             70"
      ]
     },
     "execution_count": 13,
     "metadata": {},
     "output_type": "execute_result"
    }
   ],
   "source": [
    "# Ajusto el indice de mi data frame\n",
    "\n",
    "Filtro_index = table2.set_index('number_of_reviews')\n",
    "Filtro_index"
   ]
  },
  {
   "cell_type": "code",
   "execution_count": 14,
   "metadata": {},
   "outputs": [
    {
     "data": {
      "text/plain": [
       "Text(0, 0.5, 'Frecuencia')"
      ]
     },
     "execution_count": 14,
     "metadata": {},
     "output_type": "execute_result"
    },
    {
     "data": {
      "image/png": "[encoded data removed]",
      "text/plain": [
       "<Figure size 1000x400 with 1 Axes>"
      ]
     },
     "metadata": {},
     "output_type": "display_data"
    }
   ],
   "source": [
    "# Realizamos gráfico de barras del dataframe filtrado\n",
    "\n",
    "Filtro_index.plot( kind = 'bar', width = 0.8, figsize = (10,4), color = \"blue\" )\n",
    "plt.title('Total de reseñas recibidas por el alojamiento')\n",
    "plt.xlabel('Tipo de categoria')\n",
    "plt.ylabel('Frecuencia')"
   ]
  }
 ],
 "metadata": {
  "kernelspec": {
   "display_name": "Python 3",
   "language": "python",
   "name": "python3"
  },
  "language_info": {
   "codemirror_mode": {
    "name": "ipython",
    "version": 3
   },
   "file_extension": ".py",
   "mimetype": "text/x-python",
   "name": "python",
   "nbconvert_exporter": "python",
   "pygments_lexer": "ipython3",
   "version": "3.12.8"
  }
 },
 "nbformat": 4,
 "nbformat_minor": 2
}
