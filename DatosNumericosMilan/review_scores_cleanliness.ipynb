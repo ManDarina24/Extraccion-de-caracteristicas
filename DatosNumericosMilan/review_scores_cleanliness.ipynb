{
 "cells": [
  {
   "cell_type": "code",
   "execution_count": 1,
   "metadata": {},
   "outputs": [],
   "source": [
    "import pandas as pd\n",
    "import numpy as np\n",
    "import matplotlib.pyplot as plt\n",
    "from funpymodeling.exploratory import freq_tbl"
   ]
  },
  {
   "cell_type": "code",
   "execution_count": 2,
   "metadata": {},
   "outputs": [],
   "source": [
    "# Carga desde un archivo .xlsx sin indice\n",
    "Milan  = pd.read_csv('../ValoresAtipicosMilan.csv')"
   ]
  },
  {
   "cell_type": "code",
   "execution_count": 3,
   "metadata": {},
   "outputs": [
    {
     "name": "stdout",
     "output_type": "stream",
     "text": [
      "<class 'pandas.core.frame.DataFrame'>\n",
      "RangeIndex: 23705 entries, 0 to 23704\n",
      "Data columns (total 50 columns):\n",
      " #   Column                                        Non-Null Count  Dtype  \n",
      "---  ------                                        --------------  -----  \n",
      " 0   id                                            23705 non-null  int64  \n",
      " 1   last_scraped                                  23705 non-null  object \n",
      " 2   name                                          23705 non-null  object \n",
      " 3   host_id                                       23705 non-null  int64  \n",
      " 4   host_name                                     23705 non-null  object \n",
      " 5   host_since                                    23705 non-null  object \n",
      " 6   host_response_time                            23705 non-null  object \n",
      " 7   host_is_superhost                             23705 non-null  object \n",
      " 8   host_identity_verified                        23705 non-null  object \n",
      " 9   neighbourhood                                 23705 non-null  object \n",
      " 10  neighbourhood_cleansed                        23705 non-null  object \n",
      " 11  latitude                                      23705 non-null  float64\n",
      " 12  longitude                                     23705 non-null  float64\n",
      " 13  property_type                                 23705 non-null  object \n",
      " 14  room_type                                     23705 non-null  object \n",
      " 15  amenities                                     23705 non-null  object \n",
      " 16  calendar_last_scraped                         23705 non-null  object \n",
      " 17  has_availability                              23705 non-null  object \n",
      " 18  first_review                                  23705 non-null  object \n",
      " 19  last_review                                   23705 non-null  object \n",
      " 20  license                                       23705 non-null  object \n",
      " 21  instant_bookable                              23705 non-null  object \n",
      " 22  host_response_rate                            23705 non-null  float64\n",
      " 23  host_acceptance_rate                          23705 non-null  float64\n",
      " 24  host_listings_count                           23705 non-null  float64\n",
      " 25  host_total_listings_count                     23705 non-null  float64\n",
      " 26  accommodates                                  23705 non-null  float64\n",
      " 27  bathrooms                                     23705 non-null  float64\n",
      " 28  bedrooms                                      23705 non-null  float64\n",
      " 29  beds                                          23705 non-null  float64\n",
      " 30  price                                         23705 non-null  float64\n",
      " 31  minimum_nights                                23705 non-null  float64\n",
      " 32  maximum_nights                                23705 non-null  int64  \n",
      " 33  minimum_nights_avg_ntm                        23705 non-null  float64\n",
      " 34  maximum_nights_avg_ntm                        23705 non-null  float64\n",
      " 35  availability_30                               23705 non-null  int64  \n",
      " 36  availability_90                               23705 non-null  int64  \n",
      " 37  availability_365                              23705 non-null  int64  \n",
      " 38  number_of_reviews                             23705 non-null  float64\n",
      " 39  review_scores_rating                          23705 non-null  float64\n",
      " 40  review_scores_accuracy                        23705 non-null  float64\n",
      " 41  review_scores_cleanliness                     23705 non-null  float64\n",
      " 42  review_scores_checkin                         23705 non-null  float64\n",
      " 43  review_scores_communication                   23705 non-null  float64\n",
      " 44  review_scores_location                        23705 non-null  float64\n",
      " 45  review_scores_value                           23705 non-null  float64\n",
      " 46  calculated_host_listings_count                23705 non-null  float64\n",
      " 47  calculated_host_listings_count_entire_homes   23705 non-null  float64\n",
      " 48  calculated_host_listings_count_private_rooms  23705 non-null  float64\n",
      " 49  calculated_host_listings_count_shared_rooms   23705 non-null  float64\n",
      "dtypes: float64(26), int64(6), object(18)\n",
      "memory usage: 9.0+ MB\n"
     ]
    }
   ],
   "source": [
    "# Verificamos información del dataframe\n",
    "Milan.info()"
   ]
  },
  {
   "cell_type": "markdown",
   "metadata": {},
   "source": [
    "DETERMINACIÓN DE CLASES PARA DATOS AGRUPADOS "
   ]
  },
  {
   "cell_type": "code",
   "execution_count": 4,
   "metadata": {},
   "outputs": [
    {
     "name": "stdout",
     "output_type": "stream",
     "text": [
      "<class 'pandas.core.series.Series'>\n",
      "RangeIndex: 23705 entries, 0 to 23704\n",
      "Series name: review_scores_cleanliness\n",
      "Non-Null Count  Dtype  \n",
      "--------------  -----  \n",
      "23705 non-null  float64\n",
      "dtypes: float64(1)\n",
      "memory usage: 185.3 KB\n"
     ]
    }
   ],
   "source": [
    "#Calculamos el numero total de la población \"n\"\n",
    "\n",
    "Milan['review_scores_cleanliness'].info()"
   ]
  },
  {
   "cell_type": "code",
   "execution_count": 5,
   "metadata": {},
   "outputs": [
    {
     "data": {
      "text/plain": [
       "[3.57, 5.0]"
      ]
     },
     "execution_count": 5,
     "metadata": {},
     "output_type": "execute_result"
    }
   ],
   "source": [
    "# Obtenemos el limite superior y el límite inferios de la columna objetivo\n",
    "Max = Milan['review_scores_cleanliness'].max()\n",
    "Min = Milan['review_scores_cleanliness'].min()\n",
    "Limites = [Min, Max]\n",
    "Limites"
   ]
  },
  {
   "cell_type": "code",
   "execution_count": 6,
   "metadata": {},
   "outputs": [
    {
     "data": {
      "text/plain": [
       "1.4300000000000002"
      ]
     },
     "execution_count": 6,
     "metadata": {},
     "output_type": "execute_result"
    }
   ],
   "source": [
    "# Calculamos el rango R\n",
    "R = Max - Min\n",
    "R"
   ]
  },
  {
   "cell_type": "code",
   "execution_count": 7,
   "metadata": {},
   "outputs": [
    {
     "data": {
      "text/plain": [
       "15.524529489816098"
      ]
     },
     "execution_count": 7,
     "metadata": {},
     "output_type": "execute_result"
    }
   ],
   "source": [
    "# Calculamos el número de intervalos de clase \"ni\", aplicando la regla de Sturges\n",
    "n = 23706\n",
    "\n",
    "ni = 1 + 3.32 * np.log10(n)\n",
    "ni"
   ]
  },
  {
   "cell_type": "code",
   "execution_count": 8,
   "metadata": {},
   "outputs": [
    {
     "data": {
      "text/plain": [
       "0.09211229241685313"
      ]
     },
     "execution_count": 8,
     "metadata": {},
     "output_type": "execute_result"
    }
   ],
   "source": [
    "# Calculamos el ancho del intervalo \"i\"\n",
    "i = R / ni\n",
    "i"
   ]
  },
  {
   "cell_type": "markdown",
   "metadata": {},
   "source": [
    "CREACIÓN DE CATEGORÍAS A PARTIR DE CLASES"
   ]
  },
  {
   "cell_type": "code",
   "execution_count": 9,
   "metadata": {},
   "outputs": [
    {
     "data": {
      "text/plain": [
       "array([3.57      , 3.66533333, 3.76066667, 3.856     , 3.95133333,\n",
       "       4.04666667, 4.142     , 4.23733333, 4.33266667, 4.428     ,\n",
       "       4.52333333, 4.61866667, 4.714     , 4.80933333, 4.90466667,\n",
       "       5.        ])"
      ]
     },
     "execution_count": 9,
     "metadata": {},
     "output_type": "execute_result"
    }
   ],
   "source": [
    "# Categorización de variables\n",
    "intervalos = np.linspace (3.57, 5.0, 16)\n",
    "intervalos"
   ]
  },
  {
   "cell_type": "code",
   "execution_count": 10,
   "metadata": {},
   "outputs": [],
   "source": [
    "# Creamos las categorías\n",
    "categorias = [\n",
    "    \"Muy sucio\",\n",
    "    \"Sucio\",\n",
    "    \"Algo sucio\",\n",
    "    \"Regular\",\n",
    "    \"Aceptable\",\n",
    "    \"Limpieza básica\",\n",
    "    \"Bastante limpio\",\n",
    "    \"Limpiar adecuadamente\",\n",
    "    \"Muy limpio\",\n",
    "    \"Impecable\",\n",
    "    \"Bien cuidado\",\n",
    "    \"Excelente limpieza\",\n",
    "    \"Extremadamente limpio\",\n",
    "    \"Limpieza sobresaliente\",\n",
    "    \"Limpieza impecable\"\n",
    "]\n"
   ]
  },
  {
   "cell_type": "code",
   "execution_count": 11,
   "metadata": {},
   "outputs": [
    {
     "data": {
      "text/plain": [
       "0            Limpieza impecable\n",
       "1               Bastante limpio\n",
       "2        Limpieza sobresaliente\n",
       "3            Excelente limpieza\n",
       "4                       Regular\n",
       "                  ...          \n",
       "23700    Limpieza sobresaliente\n",
       "23701    Limpieza sobresaliente\n",
       "23702    Limpieza sobresaliente\n",
       "23703    Limpieza sobresaliente\n",
       "23704    Limpieza sobresaliente\n",
       "Name: review_scores_cleanliness, Length: 23705, dtype: category\n",
       "Categories (15, object): ['Muy sucio' < 'Sucio' < 'Algo sucio' < 'Regular' ... 'Excelente limpieza' < 'Extremadamente limpio' < 'Limpieza sobresaliente' < 'Limpieza impecable']"
      ]
     },
     "execution_count": 11,
     "metadata": {},
     "output_type": "execute_result"
    }
   ],
   "source": [
    "# Creamos las ctegorias en la columna numerica\n",
    "Milan['review_scores_cleanliness'] = pd.cut ( x = Milan ['review_scores_cleanliness'], bins = intervalos, labels = categorias )\n",
    "Milan['review_scores_cleanliness']"
   ]
  },
  {
   "cell_type": "code",
   "execution_count": 12,
   "metadata": {},
   "outputs": [
    {
     "data": {
      "text/html": [
       "<div>\n",
       "<style scoped>\n",
       "    .dataframe tbody tr th:only-of-type {\n",
       "        vertical-align: middle;\n",
       "    }\n",
       "\n",
       "    .dataframe tbody tr th {\n",
       "        vertical-align: top;\n",
       "    }\n",
       "\n",
       "    .dataframe thead th {\n",
       "        text-align: right;\n",
       "    }\n",
       "</style>\n",
       "<table border=\"1\" class=\"dataframe\">\n",
       "  <thead>\n",
       "    <tr style=\"text-align: right;\">\n",
       "      <th></th>\n",
       "      <th>review_scores_cleanliness</th>\n",
       "      <th>frequency</th>\n",
       "      <th>percentage</th>\n",
       "      <th>cumulative_perc</th>\n",
       "    </tr>\n",
       "  </thead>\n",
       "  <tbody>\n",
       "    <tr>\n",
       "      <th>0</th>\n",
       "      <td>Limpieza impecable</td>\n",
       "      <td>8023</td>\n",
       "      <td>0.338452</td>\n",
       "      <td>0.338466</td>\n",
       "    </tr>\n",
       "    <tr>\n",
       "      <th>1</th>\n",
       "      <td>Limpieza sobresaliente</td>\n",
       "      <td>7113</td>\n",
       "      <td>0.300063</td>\n",
       "      <td>0.638542</td>\n",
       "    </tr>\n",
       "    <tr>\n",
       "      <th>2</th>\n",
       "      <td>Extremadamente limpio</td>\n",
       "      <td>2464</td>\n",
       "      <td>0.103944</td>\n",
       "      <td>0.742491</td>\n",
       "    </tr>\n",
       "    <tr>\n",
       "      <th>3</th>\n",
       "      <td>Excelente limpieza</td>\n",
       "      <td>1756</td>\n",
       "      <td>0.074077</td>\n",
       "      <td>0.816571</td>\n",
       "    </tr>\n",
       "    <tr>\n",
       "      <th>4</th>\n",
       "      <td>Impecable</td>\n",
       "      <td>1054</td>\n",
       "      <td>0.044463</td>\n",
       "      <td>0.861036</td>\n",
       "    </tr>\n",
       "    <tr>\n",
       "      <th>5</th>\n",
       "      <td>Bien cuidado</td>\n",
       "      <td>947</td>\n",
       "      <td>0.039949</td>\n",
       "      <td>0.900987</td>\n",
       "    </tr>\n",
       "    <tr>\n",
       "      <th>6</th>\n",
       "      <td>Aceptable</td>\n",
       "      <td>656</td>\n",
       "      <td>0.027673</td>\n",
       "      <td>0.928662</td>\n",
       "    </tr>\n",
       "    <tr>\n",
       "      <th>7</th>\n",
       "      <td>Limpiar adecuadamente</td>\n",
       "      <td>551</td>\n",
       "      <td>0.023244</td>\n",
       "      <td>0.951907</td>\n",
       "    </tr>\n",
       "    <tr>\n",
       "      <th>8</th>\n",
       "      <td>Muy limpio</td>\n",
       "      <td>399</td>\n",
       "      <td>0.016832</td>\n",
       "      <td>0.968739</td>\n",
       "    </tr>\n",
       "    <tr>\n",
       "      <th>9</th>\n",
       "      <td>Bastante limpio</td>\n",
       "      <td>271</td>\n",
       "      <td>0.011432</td>\n",
       "      <td>0.980172</td>\n",
       "    </tr>\n",
       "    <tr>\n",
       "      <th>10</th>\n",
       "      <td>Limpieza básica</td>\n",
       "      <td>177</td>\n",
       "      <td>0.007467</td>\n",
       "      <td>0.987639</td>\n",
       "    </tr>\n",
       "    <tr>\n",
       "      <th>11</th>\n",
       "      <td>Sucio</td>\n",
       "      <td>128</td>\n",
       "      <td>0.005400</td>\n",
       "      <td>0.993039</td>\n",
       "    </tr>\n",
       "    <tr>\n",
       "      <th>12</th>\n",
       "      <td>Regular</td>\n",
       "      <td>81</td>\n",
       "      <td>0.003417</td>\n",
       "      <td>0.996456</td>\n",
       "    </tr>\n",
       "    <tr>\n",
       "      <th>13</th>\n",
       "      <td>Algo sucio</td>\n",
       "      <td>61</td>\n",
       "      <td>0.002573</td>\n",
       "      <td>0.999030</td>\n",
       "    </tr>\n",
       "    <tr>\n",
       "      <th>14</th>\n",
       "      <td>Muy sucio</td>\n",
       "      <td>23</td>\n",
       "      <td>0.000970</td>\n",
       "      <td>1.000000</td>\n",
       "    </tr>\n",
       "  </tbody>\n",
       "</table>\n",
       "</div>"
      ],
      "text/plain": [
       "   review_scores_cleanliness  frequency  percentage  cumulative_perc\n",
       "0         Limpieza impecable       8023    0.338452         0.338466\n",
       "1     Limpieza sobresaliente       7113    0.300063         0.638542\n",
       "2      Extremadamente limpio       2464    0.103944         0.742491\n",
       "3         Excelente limpieza       1756    0.074077         0.816571\n",
       "4                  Impecable       1054    0.044463         0.861036\n",
       "5               Bien cuidado        947    0.039949         0.900987\n",
       "6                  Aceptable        656    0.027673         0.928662\n",
       "7      Limpiar adecuadamente        551    0.023244         0.951907\n",
       "8                 Muy limpio        399    0.016832         0.968739\n",
       "9            Bastante limpio        271    0.011432         0.980172\n",
       "10           Limpieza básica        177    0.007467         0.987639\n",
       "11                     Sucio        128    0.005400         0.993039\n",
       "12                   Regular         81    0.003417         0.996456\n",
       "13                Algo sucio         61    0.002573         0.999030\n",
       "14                 Muy sucio         23    0.000970         1.000000"
      ]
     },
     "execution_count": 12,
     "metadata": {},
     "output_type": "execute_result"
    }
   ],
   "source": [
    "table1 = freq_tbl(Milan['review_scores_cleanliness'])\n",
    "table1"
   ]
  },
  {
   "cell_type": "code",
   "execution_count": 13,
   "metadata": {},
   "outputs": [
    {
     "data": {
      "text/html": [
       "<div>\n",
       "<style scoped>\n",
       "    .dataframe tbody tr th:only-of-type {\n",
       "        vertical-align: middle;\n",
       "    }\n",
       "\n",
       "    .dataframe tbody tr th {\n",
       "        vertical-align: top;\n",
       "    }\n",
       "\n",
       "    .dataframe thead th {\n",
       "        text-align: right;\n",
       "    }\n",
       "</style>\n",
       "<table border=\"1\" class=\"dataframe\">\n",
       "  <thead>\n",
       "    <tr style=\"text-align: right;\">\n",
       "      <th></th>\n",
       "      <th>review_scores_cleanliness</th>\n",
       "      <th>frequency</th>\n",
       "    </tr>\n",
       "  </thead>\n",
       "  <tbody>\n",
       "    <tr>\n",
       "      <th>0</th>\n",
       "      <td>Limpieza impecable</td>\n",
       "      <td>8023</td>\n",
       "    </tr>\n",
       "    <tr>\n",
       "      <th>1</th>\n",
       "      <td>Limpieza sobresaliente</td>\n",
       "      <td>7113</td>\n",
       "    </tr>\n",
       "    <tr>\n",
       "      <th>2</th>\n",
       "      <td>Extremadamente limpio</td>\n",
       "      <td>2464</td>\n",
       "    </tr>\n",
       "    <tr>\n",
       "      <th>3</th>\n",
       "      <td>Excelente limpieza</td>\n",
       "      <td>1756</td>\n",
       "    </tr>\n",
       "    <tr>\n",
       "      <th>4</th>\n",
       "      <td>Impecable</td>\n",
       "      <td>1054</td>\n",
       "    </tr>\n",
       "    <tr>\n",
       "      <th>5</th>\n",
       "      <td>Bien cuidado</td>\n",
       "      <td>947</td>\n",
       "    </tr>\n",
       "    <tr>\n",
       "      <th>6</th>\n",
       "      <td>Aceptable</td>\n",
       "      <td>656</td>\n",
       "    </tr>\n",
       "    <tr>\n",
       "      <th>7</th>\n",
       "      <td>Limpiar adecuadamente</td>\n",
       "      <td>551</td>\n",
       "    </tr>\n",
       "    <tr>\n",
       "      <th>8</th>\n",
       "      <td>Muy limpio</td>\n",
       "      <td>399</td>\n",
       "    </tr>\n",
       "    <tr>\n",
       "      <th>9</th>\n",
       "      <td>Bastante limpio</td>\n",
       "      <td>271</td>\n",
       "    </tr>\n",
       "    <tr>\n",
       "      <th>10</th>\n",
       "      <td>Limpieza básica</td>\n",
       "      <td>177</td>\n",
       "    </tr>\n",
       "    <tr>\n",
       "      <th>11</th>\n",
       "      <td>Sucio</td>\n",
       "      <td>128</td>\n",
       "    </tr>\n",
       "    <tr>\n",
       "      <th>12</th>\n",
       "      <td>Regular</td>\n",
       "      <td>81</td>\n",
       "    </tr>\n",
       "    <tr>\n",
       "      <th>13</th>\n",
       "      <td>Algo sucio</td>\n",
       "      <td>61</td>\n",
       "    </tr>\n",
       "    <tr>\n",
       "      <th>14</th>\n",
       "      <td>Muy sucio</td>\n",
       "      <td>23</td>\n",
       "    </tr>\n",
       "  </tbody>\n",
       "</table>\n",
       "</div>"
      ],
      "text/plain": [
       "   review_scores_cleanliness  frequency\n",
       "0         Limpieza impecable       8023\n",
       "1     Limpieza sobresaliente       7113\n",
       "2      Extremadamente limpio       2464\n",
       "3         Excelente limpieza       1756\n",
       "4                  Impecable       1054\n",
       "5               Bien cuidado        947\n",
       "6                  Aceptable        656\n",
       "7      Limpiar adecuadamente        551\n",
       "8                 Muy limpio        399\n",
       "9            Bastante limpio        271\n",
       "10           Limpieza básica        177\n",
       "11                     Sucio        128\n",
       "12                   Regular         81\n",
       "13                Algo sucio         61\n",
       "14                 Muy sucio         23"
      ]
     },
     "execution_count": 13,
     "metadata": {},
     "output_type": "execute_result"
    }
   ],
   "source": [
    "# Elimino las columnas \"porcentage\" y \"cumulative_perc\" para trabajar con las frecuencias\n",
    "\n",
    "table2 = table1.drop(['percentage', 'cumulative_perc'], axis=1)\n",
    "table2"
   ]
  },
  {
   "cell_type": "code",
   "execution_count": 14,
   "metadata": {},
   "outputs": [
    {
     "data": {
      "text/html": [
       "<div>\n",
       "<style scoped>\n",
       "    .dataframe tbody tr th:only-of-type {\n",
       "        vertical-align: middle;\n",
       "    }\n",
       "\n",
       "    .dataframe tbody tr th {\n",
       "        vertical-align: top;\n",
       "    }\n",
       "\n",
       "    .dataframe thead th {\n",
       "        text-align: right;\n",
       "    }\n",
       "</style>\n",
       "<table border=\"1\" class=\"dataframe\">\n",
       "  <thead>\n",
       "    <tr style=\"text-align: right;\">\n",
       "      <th></th>\n",
       "      <th>frequency</th>\n",
       "    </tr>\n",
       "    <tr>\n",
       "      <th>review_scores_cleanliness</th>\n",
       "      <th></th>\n",
       "    </tr>\n",
       "  </thead>\n",
       "  <tbody>\n",
       "    <tr>\n",
       "      <th>Limpieza impecable</th>\n",
       "      <td>8023</td>\n",
       "    </tr>\n",
       "    <tr>\n",
       "      <th>Limpieza sobresaliente</th>\n",
       "      <td>7113</td>\n",
       "    </tr>\n",
       "    <tr>\n",
       "      <th>Extremadamente limpio</th>\n",
       "      <td>2464</td>\n",
       "    </tr>\n",
       "    <tr>\n",
       "      <th>Excelente limpieza</th>\n",
       "      <td>1756</td>\n",
       "    </tr>\n",
       "    <tr>\n",
       "      <th>Impecable</th>\n",
       "      <td>1054</td>\n",
       "    </tr>\n",
       "    <tr>\n",
       "      <th>Bien cuidado</th>\n",
       "      <td>947</td>\n",
       "    </tr>\n",
       "    <tr>\n",
       "      <th>Aceptable</th>\n",
       "      <td>656</td>\n",
       "    </tr>\n",
       "    <tr>\n",
       "      <th>Limpiar adecuadamente</th>\n",
       "      <td>551</td>\n",
       "    </tr>\n",
       "    <tr>\n",
       "      <th>Muy limpio</th>\n",
       "      <td>399</td>\n",
       "    </tr>\n",
       "    <tr>\n",
       "      <th>Bastante limpio</th>\n",
       "      <td>271</td>\n",
       "    </tr>\n",
       "    <tr>\n",
       "      <th>Limpieza básica</th>\n",
       "      <td>177</td>\n",
       "    </tr>\n",
       "    <tr>\n",
       "      <th>Sucio</th>\n",
       "      <td>128</td>\n",
       "    </tr>\n",
       "    <tr>\n",
       "      <th>Regular</th>\n",
       "      <td>81</td>\n",
       "    </tr>\n",
       "    <tr>\n",
       "      <th>Algo sucio</th>\n",
       "      <td>61</td>\n",
       "    </tr>\n",
       "    <tr>\n",
       "      <th>Muy sucio</th>\n",
       "      <td>23</td>\n",
       "    </tr>\n",
       "  </tbody>\n",
       "</table>\n",
       "</div>"
      ],
      "text/plain": [
       "                           frequency\n",
       "review_scores_cleanliness           \n",
       "Limpieza impecable              8023\n",
       "Limpieza sobresaliente          7113\n",
       "Extremadamente limpio           2464\n",
       "Excelente limpieza              1756\n",
       "Impecable                       1054\n",
       "Bien cuidado                     947\n",
       "Aceptable                        656\n",
       "Limpiar adecuadamente            551\n",
       "Muy limpio                       399\n",
       "Bastante limpio                  271\n",
       "Limpieza básica                  177\n",
       "Sucio                            128\n",
       "Regular                           81\n",
       "Algo sucio                        61\n",
       "Muy sucio                         23"
      ]
     },
     "execution_count": 14,
     "metadata": {},
     "output_type": "execute_result"
    }
   ],
   "source": [
    "# Ajusto el indice de mi data frame\n",
    "\n",
    "Filtro_index = table2.set_index('review_scores_cleanliness')\n",
    "Filtro_index"
   ]
  },
  {
   "cell_type": "code",
   "execution_count": 15,
   "metadata": {},
   "outputs": [
    {
     "data": {
      "text/plain": [
       "Text(0, 0.5, 'Frecuencia')"
      ]
     },
     "execution_count": 15,
     "metadata": {},
     "output_type": "execute_result"
    },
    {
     "data": {
      "image/png": "[encoded data removed]",
      "text/plain": [
       "<Figure size 1000x400 with 1 Axes>"
      ]
     },
     "metadata": {},
     "output_type": "display_data"
    }
   ],
   "source": [
    "# Realizamos gráfico de barras del dataframe filtrado\n",
    "\n",
    "Filtro_index.plot( kind = 'bar', width = 0.8, figsize = (10,4), color = \"blue\" )\n",
    "plt.title('Puntuación promedio de limpieza del alojamiento')\n",
    "plt.xlabel('Tipo de categoria')\n",
    "plt.ylabel('Frecuencia')"
   ]
  }
 ],
 "metadata": {
  "kernelspec": {
   "display_name": "Python 3",
   "language": "python",
   "name": "python3"
  },
  "language_info": {
   "codemirror_mode": {
    "name": "ipython",
    "version": 3
   },
   "file_extension": ".py",
   "mimetype": "text/x-python",
   "name": "python",
   "nbconvert_exporter": "python",
   "pygments_lexer": "ipython3",
   "version": "3.12.8"
  }
 },
 "nbformat": 4,
 "nbformat_minor": 2
}
