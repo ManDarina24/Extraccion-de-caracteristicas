{
 "cells": [
  {
   "cell_type": "code",
   "execution_count": 1,
   "metadata": {},
   "outputs": [],
   "source": [
    "import pandas as pd\n",
    "import numpy as np\n",
    "import matplotlib.pyplot as plt\n",
    "from funpymodeling.exploratory import freq_tbl"
   ]
  },
  {
   "cell_type": "code",
   "execution_count": 2,
   "metadata": {},
   "outputs": [],
   "source": [
    "# Carga desde un archivo .xlsx sin indice\n",
    "Milan  = pd.read_csv('../ValoresAtipicosMilan.csv')"
   ]
  },
  {
   "cell_type": "code",
   "execution_count": 3,
   "metadata": {},
   "outputs": [
    {
     "name": "stdout",
     "output_type": "stream",
     "text": [
      "<class 'pandas.core.frame.DataFrame'>\n",
      "RangeIndex: 23705 entries, 0 to 23704\n",
      "Data columns (total 50 columns):\n",
      " #   Column                                        Non-Null Count  Dtype  \n",
      "---  ------                                        --------------  -----  \n",
      " 0   id                                            23705 non-null  int64  \n",
      " 1   last_scraped                                  23705 non-null  object \n",
      " 2   name                                          23705 non-null  object \n",
      " 3   host_id                                       23705 non-null  int64  \n",
      " 4   host_name                                     23705 non-null  object \n",
      " 5   host_since                                    23705 non-null  object \n",
      " 6   host_response_time                            23705 non-null  object \n",
      " 7   host_is_superhost                             23705 non-null  object \n",
      " 8   host_identity_verified                        23705 non-null  object \n",
      " 9   neighbourhood                                 23705 non-null  object \n",
      " 10  neighbourhood_cleansed                        23705 non-null  object \n",
      " 11  latitude                                      23705 non-null  float64\n",
      " 12  longitude                                     23705 non-null  float64\n",
      " 13  property_type                                 23705 non-null  object \n",
      " 14  room_type                                     23705 non-null  object \n",
      " 15  amenities                                     23705 non-null  object \n",
      " 16  calendar_last_scraped                         23705 non-null  object \n",
      " 17  has_availability                              23705 non-null  object \n",
      " 18  first_review                                  23705 non-null  object \n",
      " 19  last_review                                   23705 non-null  object \n",
      " 20  license                                       23705 non-null  object \n",
      " 21  instant_bookable                              23705 non-null  object \n",
      " 22  host_response_rate                            23705 non-null  float64\n",
      " 23  host_acceptance_rate                          23705 non-null  float64\n",
      " 24  host_listings_count                           23705 non-null  float64\n",
      " 25  host_total_listings_count                     23705 non-null  float64\n",
      " 26  accommodates                                  23705 non-null  float64\n",
      " 27  bathrooms                                     23705 non-null  float64\n",
      " 28  bedrooms                                      23705 non-null  float64\n",
      " 29  beds                                          23705 non-null  float64\n",
      " 30  price                                         23705 non-null  float64\n",
      " 31  minimum_nights                                23705 non-null  float64\n",
      " 32  maximum_nights                                23705 non-null  int64  \n",
      " 33  minimum_nights_avg_ntm                        23705 non-null  float64\n",
      " 34  maximum_nights_avg_ntm                        23705 non-null  float64\n",
      " 35  availability_30                               23705 non-null  int64  \n",
      " 36  availability_90                               23705 non-null  int64  \n",
      " 37  availability_365                              23705 non-null  int64  \n",
      " 38  number_of_reviews                             23705 non-null  float64\n",
      " 39  review_scores_rating                          23705 non-null  float64\n",
      " 40  review_scores_accuracy                        23705 non-null  float64\n",
      " 41  review_scores_cleanliness                     23705 non-null  float64\n",
      " 42  review_scores_checkin                         23705 non-null  float64\n",
      " 43  review_scores_communication                   23705 non-null  float64\n",
      " 44  review_scores_location                        23705 non-null  float64\n",
      " 45  review_scores_value                           23705 non-null  float64\n",
      " 46  calculated_host_listings_count                23705 non-null  float64\n",
      " 47  calculated_host_listings_count_entire_homes   23705 non-null  float64\n",
      " 48  calculated_host_listings_count_private_rooms  23705 non-null  float64\n",
      " 49  calculated_host_listings_count_shared_rooms   23705 non-null  float64\n",
      "dtypes: float64(26), int64(6), object(18)\n",
      "memory usage: 9.0+ MB\n"
     ]
    }
   ],
   "source": [
    "# Verificamos información del dataframe\n",
    "Milan.info()"
   ]
  },
  {
   "cell_type": "markdown",
   "metadata": {},
   "source": [
    "DETERMINACIÓN DE CLASES PARA DATOS AGRUPADOS "
   ]
  },
  {
   "cell_type": "code",
   "execution_count": 4,
   "metadata": {},
   "outputs": [
    {
     "name": "stdout",
     "output_type": "stream",
     "text": [
      "<class 'pandas.core.series.Series'>\n",
      "RangeIndex: 23705 entries, 0 to 23704\n",
      "Series name: review_scores_rating\n",
      "Non-Null Count  Dtype  \n",
      "--------------  -----  \n",
      "23705 non-null  float64\n",
      "dtypes: float64(1)\n",
      "memory usage: 185.3 KB\n"
     ]
    }
   ],
   "source": [
    "#Calculamos el numero total de la población \"n\"\n",
    "\n",
    "Milan['review_scores_rating'].info()"
   ]
  },
  {
   "cell_type": "code",
   "execution_count": 5,
   "metadata": {},
   "outputs": [
    {
     "data": {
      "text/plain": [
       "[3.5, 5.0]"
      ]
     },
     "execution_count": 5,
     "metadata": {},
     "output_type": "execute_result"
    }
   ],
   "source": [
    "# Obtenemos el limite superior y el límite inferios de la columna objetivo\n",
    "Max = Milan['review_scores_rating'].max()\n",
    "Min = Milan['review_scores_rating'].min()\n",
    "Limites = [Min, Max]\n",
    "Limites"
   ]
  },
  {
   "cell_type": "code",
   "execution_count": 6,
   "metadata": {},
   "outputs": [
    {
     "data": {
      "text/plain": [
       "1.5"
      ]
     },
     "execution_count": 6,
     "metadata": {},
     "output_type": "execute_result"
    }
   ],
   "source": [
    "# Calculamos el rango R\n",
    "R = Max - Min\n",
    "R"
   ]
  },
  {
   "cell_type": "code",
   "execution_count": 7,
   "metadata": {},
   "outputs": [
    {
     "data": {
      "text/plain": [
       "15.524529489816098"
      ]
     },
     "execution_count": 7,
     "metadata": {},
     "output_type": "execute_result"
    }
   ],
   "source": [
    "# Calculamos el número de intervalos de clase \"ni\", aplicando la regla de Sturges\n",
    "n = 23706\n",
    "\n",
    "ni = 1 + 3.32 * np.log10(n)\n",
    "ni"
   ]
  },
  {
   "cell_type": "code",
   "execution_count": 8,
   "metadata": {},
   "outputs": [
    {
     "data": {
      "text/plain": [
       "0.09662128575194383"
      ]
     },
     "execution_count": 8,
     "metadata": {},
     "output_type": "execute_result"
    }
   ],
   "source": [
    "# Calculamos el ancho del intervalo \"i\"\n",
    "i = R / ni\n",
    "i"
   ]
  },
  {
   "cell_type": "markdown",
   "metadata": {},
   "source": [
    "CREACIÓN DE CATEGORÍAS A PARTIR DE CLASES"
   ]
  },
  {
   "cell_type": "code",
   "execution_count": 9,
   "metadata": {},
   "outputs": [
    {
     "data": {
      "text/plain": [
       "array([3.5, 3.6, 3.7, 3.8, 3.9, 4. , 4.1, 4.2, 4.3, 4.4, 4.5, 4.6, 4.7,\n",
       "       4.8, 4.9, 5. ])"
      ]
     },
     "execution_count": 9,
     "metadata": {},
     "output_type": "execute_result"
    }
   ],
   "source": [
    "# Categorización de variables\n",
    "intervalos = np.linspace (3.5, 5.0, 16)\n",
    "intervalos"
   ]
  },
  {
   "cell_type": "code",
   "execution_count": 10,
   "metadata": {},
   "outputs": [],
   "source": [
    "# Creamos las categorías\n",
    "categorias = [\n",
    "    \"Muy insatisfactorio\",\n",
    "    \"Insatisfactorio\",\n",
    "    \"Bajo\",\n",
    "    \"Poco aceptable\",\n",
    "    \"Aceptable\",\n",
    "    \"Satisfactorio\",\n",
    "    \"Bueno\",\n",
    "    \"Muy bueno\",\n",
    "    \"Excelente\",\n",
    "    \"Impresionante\",\n",
    "    \"Maravilloso\",\n",
    "    \"Fantástico\",\n",
    "    \"Increíble\",\n",
    "    \"Excepcional\",\n",
    "    \"Perfecto\"\n",
    "]\n"
   ]
  },
  {
   "cell_type": "code",
   "execution_count": 11,
   "metadata": {},
   "outputs": [
    {
     "data": {
      "text/plain": [
       "0        Excepcional\n",
       "1         Fantástico\n",
       "2         Fantástico\n",
       "3        Maravilloso\n",
       "4          Aceptable\n",
       "            ...     \n",
       "23700    Excepcional\n",
       "23701    Excepcional\n",
       "23702    Excepcional\n",
       "23703    Excepcional\n",
       "23704    Excepcional\n",
       "Name: review_scores_rating, Length: 23705, dtype: category\n",
       "Categories (15, object): ['Muy insatisfactorio' < 'Insatisfactorio' < 'Bajo' < 'Poco aceptable' ... 'Fantástico' < 'Increíble' < 'Excepcional' < 'Perfecto']"
      ]
     },
     "execution_count": 11,
     "metadata": {},
     "output_type": "execute_result"
    }
   ],
   "source": [
    "# Creamos las ctegorias en la columna numerica\n",
    "Milan['review_scores_rating'] = pd.cut ( x = Milan ['review_scores_rating'], bins = intervalos, labels = categorias )\n",
    "Milan['review_scores_rating']"
   ]
  },
  {
   "cell_type": "code",
   "execution_count": 12,
   "metadata": {},
   "outputs": [
    {
     "data": {
      "text/html": [
       "<div>\n",
       "<style scoped>\n",
       "    .dataframe tbody tr th:only-of-type {\n",
       "        vertical-align: middle;\n",
       "    }\n",
       "\n",
       "    .dataframe tbody tr th {\n",
       "        vertical-align: top;\n",
       "    }\n",
       "\n",
       "    .dataframe thead th {\n",
       "        text-align: right;\n",
       "    }\n",
       "</style>\n",
       "<table border=\"1\" class=\"dataframe\">\n",
       "  <thead>\n",
       "    <tr style=\"text-align: right;\">\n",
       "      <th></th>\n",
       "      <th>review_scores_rating</th>\n",
       "      <th>frequency</th>\n",
       "      <th>percentage</th>\n",
       "      <th>cumulative_perc</th>\n",
       "    </tr>\n",
       "  </thead>\n",
       "  <tbody>\n",
       "    <tr>\n",
       "      <th>0</th>\n",
       "      <td>Perfecto</td>\n",
       "      <td>7348</td>\n",
       "      <td>0.309977</td>\n",
       "      <td>0.311211</td>\n",
       "    </tr>\n",
       "    <tr>\n",
       "      <th>1</th>\n",
       "      <td>Excepcional</td>\n",
       "      <td>7239</td>\n",
       "      <td>0.305379</td>\n",
       "      <td>0.617805</td>\n",
       "    </tr>\n",
       "    <tr>\n",
       "      <th>2</th>\n",
       "      <td>Increíble</td>\n",
       "      <td>2953</td>\n",
       "      <td>0.124573</td>\n",
       "      <td>0.742874</td>\n",
       "    </tr>\n",
       "    <tr>\n",
       "      <th>3</th>\n",
       "      <td>Fantástico</td>\n",
       "      <td>1635</td>\n",
       "      <td>0.068973</td>\n",
       "      <td>0.812121</td>\n",
       "    </tr>\n",
       "    <tr>\n",
       "      <th>4</th>\n",
       "      <td>Impresionante</td>\n",
       "      <td>1092</td>\n",
       "      <td>0.046066</td>\n",
       "      <td>0.858371</td>\n",
       "    </tr>\n",
       "    <tr>\n",
       "      <th>5</th>\n",
       "      <td>Maravilloso</td>\n",
       "      <td>1008</td>\n",
       "      <td>0.042523</td>\n",
       "      <td>0.901063</td>\n",
       "    </tr>\n",
       "    <tr>\n",
       "      <th>6</th>\n",
       "      <td>Aceptable</td>\n",
       "      <td>666</td>\n",
       "      <td>0.028095</td>\n",
       "      <td>0.929270</td>\n",
       "    </tr>\n",
       "    <tr>\n",
       "      <th>7</th>\n",
       "      <td>Excelente</td>\n",
       "      <td>660</td>\n",
       "      <td>0.027842</td>\n",
       "      <td>0.957223</td>\n",
       "    </tr>\n",
       "    <tr>\n",
       "      <th>8</th>\n",
       "      <td>Muy bueno</td>\n",
       "      <td>366</td>\n",
       "      <td>0.015440</td>\n",
       "      <td>0.972725</td>\n",
       "    </tr>\n",
       "    <tr>\n",
       "      <th>9</th>\n",
       "      <td>Bueno</td>\n",
       "      <td>296</td>\n",
       "      <td>0.012487</td>\n",
       "      <td>0.985261</td>\n",
       "    </tr>\n",
       "    <tr>\n",
       "      <th>10</th>\n",
       "      <td>Bajo</td>\n",
       "      <td>96</td>\n",
       "      <td>0.004050</td>\n",
       "      <td>0.989327</td>\n",
       "    </tr>\n",
       "    <tr>\n",
       "      <th>11</th>\n",
       "      <td>Insatisfactorio</td>\n",
       "      <td>77</td>\n",
       "      <td>0.003248</td>\n",
       "      <td>0.992588</td>\n",
       "    </tr>\n",
       "    <tr>\n",
       "      <th>12</th>\n",
       "      <td>Poco aceptable</td>\n",
       "      <td>74</td>\n",
       "      <td>0.003122</td>\n",
       "      <td>0.995722</td>\n",
       "    </tr>\n",
       "    <tr>\n",
       "      <th>13</th>\n",
       "      <td>Satisfactorio</td>\n",
       "      <td>70</td>\n",
       "      <td>0.002953</td>\n",
       "      <td>0.998687</td>\n",
       "    </tr>\n",
       "    <tr>\n",
       "      <th>14</th>\n",
       "      <td>Muy insatisfactorio</td>\n",
       "      <td>31</td>\n",
       "      <td>0.001308</td>\n",
       "      <td>1.000000</td>\n",
       "    </tr>\n",
       "  </tbody>\n",
       "</table>\n",
       "</div>"
      ],
      "text/plain": [
       "   review_scores_rating  frequency  percentage  cumulative_perc\n",
       "0              Perfecto       7348    0.309977         0.311211\n",
       "1           Excepcional       7239    0.305379         0.617805\n",
       "2             Increíble       2953    0.124573         0.742874\n",
       "3            Fantástico       1635    0.068973         0.812121\n",
       "4         Impresionante       1092    0.046066         0.858371\n",
       "5           Maravilloso       1008    0.042523         0.901063\n",
       "6             Aceptable        666    0.028095         0.929270\n",
       "7             Excelente        660    0.027842         0.957223\n",
       "8             Muy bueno        366    0.015440         0.972725\n",
       "9                 Bueno        296    0.012487         0.985261\n",
       "10                 Bajo         96    0.004050         0.989327\n",
       "11      Insatisfactorio         77    0.003248         0.992588\n",
       "12       Poco aceptable         74    0.003122         0.995722\n",
       "13        Satisfactorio         70    0.002953         0.998687\n",
       "14  Muy insatisfactorio         31    0.001308         1.000000"
      ]
     },
     "execution_count": 12,
     "metadata": {},
     "output_type": "execute_result"
    }
   ],
   "source": [
    "table1 = freq_tbl(Milan['review_scores_rating'])\n",
    "table1"
   ]
  },
  {
   "cell_type": "code",
   "execution_count": 13,
   "metadata": {},
   "outputs": [
    {
     "data": {
      "text/html": [
       "<div>\n",
       "<style scoped>\n",
       "    .dataframe tbody tr th:only-of-type {\n",
       "        vertical-align: middle;\n",
       "    }\n",
       "\n",
       "    .dataframe tbody tr th {\n",
       "        vertical-align: top;\n",
       "    }\n",
       "\n",
       "    .dataframe thead th {\n",
       "        text-align: right;\n",
       "    }\n",
       "</style>\n",
       "<table border=\"1\" class=\"dataframe\">\n",
       "  <thead>\n",
       "    <tr style=\"text-align: right;\">\n",
       "      <th></th>\n",
       "      <th>review_scores_rating</th>\n",
       "      <th>frequency</th>\n",
       "    </tr>\n",
       "  </thead>\n",
       "  <tbody>\n",
       "    <tr>\n",
       "      <th>0</th>\n",
       "      <td>Perfecto</td>\n",
       "      <td>7348</td>\n",
       "    </tr>\n",
       "    <tr>\n",
       "      <th>1</th>\n",
       "      <td>Excepcional</td>\n",
       "      <td>7239</td>\n",
       "    </tr>\n",
       "    <tr>\n",
       "      <th>2</th>\n",
       "      <td>Increíble</td>\n",
       "      <td>2953</td>\n",
       "    </tr>\n",
       "    <tr>\n",
       "      <th>3</th>\n",
       "      <td>Fantástico</td>\n",
       "      <td>1635</td>\n",
       "    </tr>\n",
       "    <tr>\n",
       "      <th>4</th>\n",
       "      <td>Impresionante</td>\n",
       "      <td>1092</td>\n",
       "    </tr>\n",
       "    <tr>\n",
       "      <th>5</th>\n",
       "      <td>Maravilloso</td>\n",
       "      <td>1008</td>\n",
       "    </tr>\n",
       "    <tr>\n",
       "      <th>6</th>\n",
       "      <td>Aceptable</td>\n",
       "      <td>666</td>\n",
       "    </tr>\n",
       "    <tr>\n",
       "      <th>7</th>\n",
       "      <td>Excelente</td>\n",
       "      <td>660</td>\n",
       "    </tr>\n",
       "    <tr>\n",
       "      <th>8</th>\n",
       "      <td>Muy bueno</td>\n",
       "      <td>366</td>\n",
       "    </tr>\n",
       "    <tr>\n",
       "      <th>9</th>\n",
       "      <td>Bueno</td>\n",
       "      <td>296</td>\n",
       "    </tr>\n",
       "    <tr>\n",
       "      <th>10</th>\n",
       "      <td>Bajo</td>\n",
       "      <td>96</td>\n",
       "    </tr>\n",
       "    <tr>\n",
       "      <th>11</th>\n",
       "      <td>Insatisfactorio</td>\n",
       "      <td>77</td>\n",
       "    </tr>\n",
       "    <tr>\n",
       "      <th>12</th>\n",
       "      <td>Poco aceptable</td>\n",
       "      <td>74</td>\n",
       "    </tr>\n",
       "    <tr>\n",
       "      <th>13</th>\n",
       "      <td>Satisfactorio</td>\n",
       "      <td>70</td>\n",
       "    </tr>\n",
       "    <tr>\n",
       "      <th>14</th>\n",
       "      <td>Muy insatisfactorio</td>\n",
       "      <td>31</td>\n",
       "    </tr>\n",
       "  </tbody>\n",
       "</table>\n",
       "</div>"
      ],
      "text/plain": [
       "   review_scores_rating  frequency\n",
       "0              Perfecto       7348\n",
       "1           Excepcional       7239\n",
       "2             Increíble       2953\n",
       "3            Fantástico       1635\n",
       "4         Impresionante       1092\n",
       "5           Maravilloso       1008\n",
       "6             Aceptable        666\n",
       "7             Excelente        660\n",
       "8             Muy bueno        366\n",
       "9                 Bueno        296\n",
       "10                 Bajo         96\n",
       "11      Insatisfactorio         77\n",
       "12       Poco aceptable         74\n",
       "13        Satisfactorio         70\n",
       "14  Muy insatisfactorio         31"
      ]
     },
     "execution_count": 13,
     "metadata": {},
     "output_type": "execute_result"
    }
   ],
   "source": [
    "# Elimino las columnas \"porcentage\" y \"cumulative_perc\" para trabajar con las frecuencias\n",
    "\n",
    "table2 = table1.drop(['percentage', 'cumulative_perc'], axis=1)\n",
    "table2"
   ]
  },
  {
   "cell_type": "code",
   "execution_count": 14,
   "metadata": {},
   "outputs": [
    {
     "data": {
      "text/html": [
       "<div>\n",
       "<style scoped>\n",
       "    .dataframe tbody tr th:only-of-type {\n",
       "        vertical-align: middle;\n",
       "    }\n",
       "\n",
       "    .dataframe tbody tr th {\n",
       "        vertical-align: top;\n",
       "    }\n",
       "\n",
       "    .dataframe thead th {\n",
       "        text-align: right;\n",
       "    }\n",
       "</style>\n",
       "<table border=\"1\" class=\"dataframe\">\n",
       "  <thead>\n",
       "    <tr style=\"text-align: right;\">\n",
       "      <th></th>\n",
       "      <th>frequency</th>\n",
       "    </tr>\n",
       "    <tr>\n",
       "      <th>review_scores_rating</th>\n",
       "      <th></th>\n",
       "    </tr>\n",
       "  </thead>\n",
       "  <tbody>\n",
       "    <tr>\n",
       "      <th>Perfecto</th>\n",
       "      <td>7348</td>\n",
       "    </tr>\n",
       "    <tr>\n",
       "      <th>Excepcional</th>\n",
       "      <td>7239</td>\n",
       "    </tr>\n",
       "    <tr>\n",
       "      <th>Increíble</th>\n",
       "      <td>2953</td>\n",
       "    </tr>\n",
       "    <tr>\n",
       "      <th>Fantástico</th>\n",
       "      <td>1635</td>\n",
       "    </tr>\n",
       "    <tr>\n",
       "      <th>Impresionante</th>\n",
       "      <td>1092</td>\n",
       "    </tr>\n",
       "    <tr>\n",
       "      <th>Maravilloso</th>\n",
       "      <td>1008</td>\n",
       "    </tr>\n",
       "    <tr>\n",
       "      <th>Aceptable</th>\n",
       "      <td>666</td>\n",
       "    </tr>\n",
       "    <tr>\n",
       "      <th>Excelente</th>\n",
       "      <td>660</td>\n",
       "    </tr>\n",
       "    <tr>\n",
       "      <th>Muy bueno</th>\n",
       "      <td>366</td>\n",
       "    </tr>\n",
       "    <tr>\n",
       "      <th>Bueno</th>\n",
       "      <td>296</td>\n",
       "    </tr>\n",
       "    <tr>\n",
       "      <th>Bajo</th>\n",
       "      <td>96</td>\n",
       "    </tr>\n",
       "    <tr>\n",
       "      <th>Insatisfactorio</th>\n",
       "      <td>77</td>\n",
       "    </tr>\n",
       "    <tr>\n",
       "      <th>Poco aceptable</th>\n",
       "      <td>74</td>\n",
       "    </tr>\n",
       "    <tr>\n",
       "      <th>Satisfactorio</th>\n",
       "      <td>70</td>\n",
       "    </tr>\n",
       "    <tr>\n",
       "      <th>Muy insatisfactorio</th>\n",
       "      <td>31</td>\n",
       "    </tr>\n",
       "  </tbody>\n",
       "</table>\n",
       "</div>"
      ],
      "text/plain": [
       "                      frequency\n",
       "review_scores_rating           \n",
       "Perfecto                   7348\n",
       "Excepcional                7239\n",
       "Increíble                  2953\n",
       "Fantástico                 1635\n",
       "Impresionante              1092\n",
       "Maravilloso                1008\n",
       "Aceptable                   666\n",
       "Excelente                   660\n",
       "Muy bueno                   366\n",
       "Bueno                       296\n",
       "Bajo                         96\n",
       "Insatisfactorio              77\n",
       "Poco aceptable               74\n",
       "Satisfactorio                70\n",
       "Muy insatisfactorio          31"
      ]
     },
     "execution_count": 14,
     "metadata": {},
     "output_type": "execute_result"
    }
   ],
   "source": [
    "# Ajusto el indice de mi data frame\n",
    "\n",
    "Filtro_index = table2.set_index('review_scores_rating')\n",
    "Filtro_index"
   ]
  },
  {
   "cell_type": "code",
   "execution_count": 15,
   "metadata": {},
   "outputs": [
    {
     "data": {
      "text/plain": [
       "Text(0, 0.5, 'Frecuencia')"
      ]
     },
     "execution_count": 15,
     "metadata": {},
     "output_type": "execute_result"
    },
    {
     "data": {
      "image/png": "[encoded data removed]",
      "text/plain": [
       "<Figure size 1000x400 with 1 Axes>"
      ]
     },
     "metadata": {},
     "output_type": "display_data"
    }
   ],
   "source": [
    "# Realizamos gráfico de barras del dataframe filtrado\n",
    "\n",
    "Filtro_index.plot( kind = 'bar', width = 0.8, figsize = (10,4), color = \"blue\" )\n",
    "plt.title('Puntuación promedio general basada en las reseñas de los huéspedes')\n",
    "plt.xlabel('Tipo de categoria')\n",
    "plt.ylabel('Frecuencia')"
   ]
  }
 ],
 "metadata": {
  "kernelspec": {
   "display_name": "Python 3",
   "language": "python",
   "name": "python3"
  },
  "language_info": {
   "codemirror_mode": {
    "name": "ipython",
    "version": 3
   },
   "file_extension": ".py",
   "mimetype": "text/x-python",
   "name": "python",
   "nbconvert_exporter": "python",
   "pygments_lexer": "ipython3",
   "version": "3.12.8"
  }
 },
 "nbformat": 4,
 "nbformat_minor": 2
}
