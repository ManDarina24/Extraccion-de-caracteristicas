{
 "cells": [
  {
   "cell_type": "code",
   "execution_count": 1,
   "metadata": {},
   "outputs": [],
   "source": [
    "import pandas as pd\n",
    "import numpy as np\n",
    "import matplotlib.pyplot as plt\n",
    "from funpymodeling.exploratory import freq_tbl"
   ]
  },
  {
   "cell_type": "code",
   "execution_count": 2,
   "metadata": {},
   "outputs": [],
   "source": [
    "# Carga desde un archivo .xlsx sin indice\n",
    "Mexico  = pd.read_csv('Mexico.csv')"
   ]
  },
  {
   "cell_type": "code",
   "execution_count": 3,
   "metadata": {},
   "outputs": [
    {
     "name": "stdout",
     "output_type": "stream",
     "text": [
      "<class 'pandas.core.frame.DataFrame'>\n",
      "RangeIndex: 26582 entries, 0 to 26581\n",
      "Data columns (total 50 columns):\n",
      " #   Column                                        Non-Null Count  Dtype  \n",
      "---  ------                                        --------------  -----  \n",
      " 0   id                                            26582 non-null  int64  \n",
      " 1   last_scraped                                  26582 non-null  object \n",
      " 2   name                                          26582 non-null  object \n",
      " 3   host_id                                       26582 non-null  int64  \n",
      " 4   host_name                                     26582 non-null  object \n",
      " 5   host_since                                    26582 non-null  object \n",
      " 6   host_response_time                            26582 non-null  object \n",
      " 7   host_is_superhost                             26582 non-null  object \n",
      " 8   host_identity_verified                        26582 non-null  object \n",
      " 9   neighbourhood                                 26582 non-null  object \n",
      " 10  neighbourhood_cleansed                        26582 non-null  object \n",
      " 11  latitude                                      26582 non-null  float64\n",
      " 12  longitude                                     26582 non-null  float64\n",
      " 13  property_type                                 26582 non-null  object \n",
      " 14  room_type                                     26582 non-null  object \n",
      " 15  amenities                                     26582 non-null  object \n",
      " 16  calendar_last_scraped                         26582 non-null  object \n",
      " 17  has_availability                              26582 non-null  object \n",
      " 18  first_review                                  26582 non-null  object \n",
      " 19  last_review                                   26582 non-null  object \n",
      " 20  license                                       26582 non-null  object \n",
      " 21  instant_bookable                              26582 non-null  object \n",
      " 22  host_response_rate                            26582 non-null  float64\n",
      " 23  host_acceptance_rate                          26582 non-null  float64\n",
      " 24  host_listings_count                           26582 non-null  float64\n",
      " 25  host_total_listings_count                     26582 non-null  float64\n",
      " 26  accommodates                                  26582 non-null  float64\n",
      " 27  bathrooms                                     26582 non-null  float64\n",
      " 28  bedrooms                                      26582 non-null  float64\n",
      " 29  beds                                          26582 non-null  float64\n",
      " 30  price                                         26582 non-null  float64\n",
      " 31  minimum_nights                                26582 non-null  float64\n",
      " 32  maximum_nights                                26582 non-null  float64\n",
      " 33  minimum_nights_avg_ntm                        26582 non-null  float64\n",
      " 34  maximum_nights_avg_ntm                        26582 non-null  float64\n",
      " 35  availability_30                               26582 non-null  int64  \n",
      " 36  availability_90                               26582 non-null  int64  \n",
      " 37  availability_365                              26582 non-null  int64  \n",
      " 38  number_of_reviews                             26582 non-null  float64\n",
      " 39  review_scores_rating                          26582 non-null  float64\n",
      " 40  review_scores_accuracy                        26582 non-null  float64\n",
      " 41  review_scores_cleanliness                     26582 non-null  float64\n",
      " 42  review_scores_checkin                         26582 non-null  float64\n",
      " 43  review_scores_communication                   26582 non-null  float64\n",
      " 44  review_scores_location                        26582 non-null  float64\n",
      " 45  review_scores_value                           26582 non-null  float64\n",
      " 46  calculated_host_listings_count                26582 non-null  float64\n",
      " 47  calculated_host_listings_count_entire_homes   26582 non-null  float64\n",
      " 48  calculated_host_listings_count_private_rooms  26582 non-null  float64\n",
      " 49  calculated_host_listings_count_shared_rooms   26582 non-null  float64\n",
      "dtypes: float64(27), int64(5), object(18)\n",
      "memory usage: 10.1+ MB\n"
     ]
    }
   ],
   "source": [
    "# Verificamos información del dataframe\n",
    "Mexico.info()"
   ]
  },
  {
   "cell_type": "markdown",
   "metadata": {},
   "source": [
    "DETERMINACIÓN DE CLASES PARA DATOS AGRUPADOS "
   ]
  },
  {
   "cell_type": "code",
   "execution_count": 4,
   "metadata": {},
   "outputs": [
    {
     "name": "stdout",
     "output_type": "stream",
     "text": [
      "<class 'pandas.core.series.Series'>\n",
      "RangeIndex: 26582 entries, 0 to 26581\n",
      "Series name: review_scores_value\n",
      "Non-Null Count  Dtype  \n",
      "--------------  -----  \n",
      "26582 non-null  float64\n",
      "dtypes: float64(1)\n",
      "memory usage: 207.8 KB\n"
     ]
    }
   ],
   "source": [
    "#Calculamos el numero total de la población \"n\"\n",
    "\n",
    "Mexico['review_scores_value'].info()"
   ]
  },
  {
   "cell_type": "code",
   "execution_count": 5,
   "metadata": {},
   "outputs": [
    {
     "data": {
      "text/plain": [
       "[3.69, 5.0]"
      ]
     },
     "execution_count": 5,
     "metadata": {},
     "output_type": "execute_result"
    }
   ],
   "source": [
    "# Obtenemos el limite superior y el límite inferios de la columna objetivo\n",
    "Max = Mexico['review_scores_value'].max()\n",
    "Min = Mexico['review_scores_value'].min()\n",
    "Limites = [Min, Max]\n",
    "Limites"
   ]
  },
  {
   "cell_type": "code",
   "execution_count": 6,
   "metadata": {},
   "outputs": [
    {
     "data": {
      "text/plain": [
       "1.31"
      ]
     },
     "execution_count": 6,
     "metadata": {},
     "output_type": "execute_result"
    }
   ],
   "source": [
    "# Calculamos el rango R\n",
    "R = Max - Min\n",
    "R"
   ]
  },
  {
   "cell_type": "code",
   "execution_count": 7,
   "metadata": {},
   "outputs": [
    {
     "data": {
      "text/plain": [
       "15.689631010177528"
      ]
     },
     "execution_count": 7,
     "metadata": {},
     "output_type": "execute_result"
    }
   ],
   "source": [
    "# Calculamos el número de intervalos de clase \"ni\", aplicando la regla de Sturges\n",
    "n = 26582\n",
    "\n",
    "ni = 1 + 3.32 * np.log10(n)\n",
    "ni"
   ]
  },
  {
   "cell_type": "code",
   "execution_count": 8,
   "metadata": {},
   "outputs": [
    {
     "data": {
      "text/plain": [
       "0.08349463407713228"
      ]
     },
     "execution_count": 8,
     "metadata": {},
     "output_type": "execute_result"
    }
   ],
   "source": [
    "# Calculamos el ancho del intervalo \"i\"\n",
    "i = R / ni\n",
    "i"
   ]
  },
  {
   "cell_type": "markdown",
   "metadata": {},
   "source": [
    "CREACIÓN DE CATEGORÍAS A PARTIR DE CLASES"
   ]
  },
  {
   "cell_type": "code",
   "execution_count": 9,
   "metadata": {},
   "outputs": [
    {
     "data": {
      "text/plain": [
       "array([3.69      , 3.77733333, 3.86466667, 3.952     , 4.03933333,\n",
       "       4.12666667, 4.214     , 4.30133333, 4.38866667, 4.476     ,\n",
       "       4.56333333, 4.65066667, 4.738     , 4.82533333, 4.91266667,\n",
       "       5.        ])"
      ]
     },
     "execution_count": 9,
     "metadata": {},
     "output_type": "execute_result"
    }
   ],
   "source": [
    "# Categorización de variables\n",
    "intervalos = np.linspace (3.69, 5.0, 16)\n",
    "intervalos"
   ]
  },
  {
   "cell_type": "code",
   "execution_count": 10,
   "metadata": {},
   "outputs": [],
   "source": [
    "# Creamos las categorías\n",
    "categorias = [\n",
    "    \"Insuficiente\",\n",
    "    \"Deficiente\",\n",
    "    \"Mejorable\",\n",
    "    \"Bajo\",\n",
    "    \"Aceptable\",\n",
    "    \"Bueno\",\n",
    "    \"Muy bueno\",\n",
    "    \"Sobresaliente\",\n",
    "    \"Excepcional\",\n",
    "    \"Excelente\",\n",
    "    \"Impresionante\",\n",
    "    \"Increíble\",\n",
    "    \"Espectacular\",\n",
    "    \"Fantástico\",\n",
    "    \"Adecuado\"\n",
    "]\n"
   ]
  },
  {
   "cell_type": "code",
   "execution_count": 11,
   "metadata": {},
   "outputs": [
    {
     "data": {
      "text/plain": [
       "0        Espectacular\n",
       "1           Excelente\n",
       "2          Fantástico\n",
       "3            Adecuado\n",
       "4        Espectacular\n",
       "             ...     \n",
       "26577    Espectacular\n",
       "26578    Espectacular\n",
       "26579    Espectacular\n",
       "26580    Espectacular\n",
       "26581    Espectacular\n",
       "Name: review_scores_value, Length: 26582, dtype: category\n",
       "Categories (15, object): ['Insuficiente' < 'Deficiente' < 'Mejorable' < 'Bajo' ... 'Increíble' < 'Espectacular' < 'Fantástico' < 'Adecuado']"
      ]
     },
     "execution_count": 11,
     "metadata": {},
     "output_type": "execute_result"
    }
   ],
   "source": [
    "# Creamos las ctegorias en la columna numerica\n",
    "Mexico['review_scores_value'] = pd.cut ( x = Mexico ['review_scores_value'], bins = intervalos, labels = categorias )\n",
    "Mexico['review_scores_value']"
   ]
  },
  {
   "cell_type": "code",
   "execution_count": 12,
   "metadata": {},
   "outputs": [
    {
     "data": {
      "text/html": [
       "<div>\n",
       "<style scoped>\n",
       "    .dataframe tbody tr th:only-of-type {\n",
       "        vertical-align: middle;\n",
       "    }\n",
       "\n",
       "    .dataframe tbody tr th {\n",
       "        vertical-align: top;\n",
       "    }\n",
       "\n",
       "    .dataframe thead th {\n",
       "        text-align: right;\n",
       "    }\n",
       "</style>\n",
       "<table border=\"1\" class=\"dataframe\">\n",
       "  <thead>\n",
       "    <tr style=\"text-align: right;\">\n",
       "      <th></th>\n",
       "      <th>review_scores_value</th>\n",
       "      <th>frequency</th>\n",
       "      <th>percentage</th>\n",
       "      <th>cumulative_perc</th>\n",
       "    </tr>\n",
       "  </thead>\n",
       "  <tbody>\n",
       "    <tr>\n",
       "      <th>0</th>\n",
       "      <td>Espectacular</td>\n",
       "      <td>8296</td>\n",
       "      <td>0.312091</td>\n",
       "      <td>0.312103</td>\n",
       "    </tr>\n",
       "    <tr>\n",
       "      <th>1</th>\n",
       "      <td>Adecuado</td>\n",
       "      <td>6129</td>\n",
       "      <td>0.230570</td>\n",
       "      <td>0.542681</td>\n",
       "    </tr>\n",
       "    <tr>\n",
       "      <th>2</th>\n",
       "      <td>Fantástico</td>\n",
       "      <td>4602</td>\n",
       "      <td>0.173125</td>\n",
       "      <td>0.715812</td>\n",
       "    </tr>\n",
       "    <tr>\n",
       "      <th>3</th>\n",
       "      <td>Increíble</td>\n",
       "      <td>2602</td>\n",
       "      <td>0.097886</td>\n",
       "      <td>0.813702</td>\n",
       "    </tr>\n",
       "    <tr>\n",
       "      <th>4</th>\n",
       "      <td>Impresionante</td>\n",
       "      <td>1643</td>\n",
       "      <td>0.061809</td>\n",
       "      <td>0.875513</td>\n",
       "    </tr>\n",
       "    <tr>\n",
       "      <th>5</th>\n",
       "      <td>Excelente</td>\n",
       "      <td>1191</td>\n",
       "      <td>0.044805</td>\n",
       "      <td>0.920319</td>\n",
       "    </tr>\n",
       "    <tr>\n",
       "      <th>6</th>\n",
       "      <td>Excepcional</td>\n",
       "      <td>567</td>\n",
       "      <td>0.021330</td>\n",
       "      <td>0.941650</td>\n",
       "    </tr>\n",
       "    <tr>\n",
       "      <th>7</th>\n",
       "      <td>Bajo</td>\n",
       "      <td>509</td>\n",
       "      <td>0.019148</td>\n",
       "      <td>0.960799</td>\n",
       "    </tr>\n",
       "    <tr>\n",
       "      <th>8</th>\n",
       "      <td>Sobresaliente</td>\n",
       "      <td>409</td>\n",
       "      <td>0.015386</td>\n",
       "      <td>0.976186</td>\n",
       "    </tr>\n",
       "    <tr>\n",
       "      <th>9</th>\n",
       "      <td>Muy bueno</td>\n",
       "      <td>273</td>\n",
       "      <td>0.010270</td>\n",
       "      <td>0.986456</td>\n",
       "    </tr>\n",
       "    <tr>\n",
       "      <th>10</th>\n",
       "      <td>Bueno</td>\n",
       "      <td>187</td>\n",
       "      <td>0.007035</td>\n",
       "      <td>0.993492</td>\n",
       "    </tr>\n",
       "    <tr>\n",
       "      <th>11</th>\n",
       "      <td>Aceptable</td>\n",
       "      <td>53</td>\n",
       "      <td>0.001994</td>\n",
       "      <td>0.995485</td>\n",
       "    </tr>\n",
       "    <tr>\n",
       "      <th>12</th>\n",
       "      <td>Deficiente</td>\n",
       "      <td>47</td>\n",
       "      <td>0.001768</td>\n",
       "      <td>0.997254</td>\n",
       "    </tr>\n",
       "    <tr>\n",
       "      <th>13</th>\n",
       "      <td>Insuficiente</td>\n",
       "      <td>40</td>\n",
       "      <td>0.001505</td>\n",
       "      <td>0.998759</td>\n",
       "    </tr>\n",
       "    <tr>\n",
       "      <th>14</th>\n",
       "      <td>Mejorable</td>\n",
       "      <td>33</td>\n",
       "      <td>0.001241</td>\n",
       "      <td>1.000000</td>\n",
       "    </tr>\n",
       "  </tbody>\n",
       "</table>\n",
       "</div>"
      ],
      "text/plain": [
       "   review_scores_value  frequency  percentage  cumulative_perc\n",
       "0         Espectacular       8296    0.312091         0.312103\n",
       "1             Adecuado       6129    0.230570         0.542681\n",
       "2           Fantástico       4602    0.173125         0.715812\n",
       "3            Increíble       2602    0.097886         0.813702\n",
       "4        Impresionante       1643    0.061809         0.875513\n",
       "5            Excelente       1191    0.044805         0.920319\n",
       "6          Excepcional        567    0.021330         0.941650\n",
       "7                 Bajo        509    0.019148         0.960799\n",
       "8        Sobresaliente        409    0.015386         0.976186\n",
       "9            Muy bueno        273    0.010270         0.986456\n",
       "10               Bueno        187    0.007035         0.993492\n",
       "11           Aceptable         53    0.001994         0.995485\n",
       "12          Deficiente         47    0.001768         0.997254\n",
       "13        Insuficiente         40    0.001505         0.998759\n",
       "14           Mejorable         33    0.001241         1.000000"
      ]
     },
     "execution_count": 12,
     "metadata": {},
     "output_type": "execute_result"
    }
   ],
   "source": [
    "table1 = freq_tbl(Mexico['review_scores_value'])\n",
    "table1"
   ]
  },
  {
   "cell_type": "code",
   "execution_count": 13,
   "metadata": {},
   "outputs": [
    {
     "data": {
      "text/html": [
       "<div>\n",
       "<style scoped>\n",
       "    .dataframe tbody tr th:only-of-type {\n",
       "        vertical-align: middle;\n",
       "    }\n",
       "\n",
       "    .dataframe tbody tr th {\n",
       "        vertical-align: top;\n",
       "    }\n",
       "\n",
       "    .dataframe thead th {\n",
       "        text-align: right;\n",
       "    }\n",
       "</style>\n",
       "<table border=\"1\" class=\"dataframe\">\n",
       "  <thead>\n",
       "    <tr style=\"text-align: right;\">\n",
       "      <th></th>\n",
       "      <th>review_scores_value</th>\n",
       "      <th>frequency</th>\n",
       "    </tr>\n",
       "  </thead>\n",
       "  <tbody>\n",
       "    <tr>\n",
       "      <th>0</th>\n",
       "      <td>Espectacular</td>\n",
       "      <td>8296</td>\n",
       "    </tr>\n",
       "    <tr>\n",
       "      <th>1</th>\n",
       "      <td>Adecuado</td>\n",
       "      <td>6129</td>\n",
       "    </tr>\n",
       "    <tr>\n",
       "      <th>2</th>\n",
       "      <td>Fantástico</td>\n",
       "      <td>4602</td>\n",
       "    </tr>\n",
       "    <tr>\n",
       "      <th>3</th>\n",
       "      <td>Increíble</td>\n",
       "      <td>2602</td>\n",
       "    </tr>\n",
       "    <tr>\n",
       "      <th>4</th>\n",
       "      <td>Impresionante</td>\n",
       "      <td>1643</td>\n",
       "    </tr>\n",
       "    <tr>\n",
       "      <th>5</th>\n",
       "      <td>Excelente</td>\n",
       "      <td>1191</td>\n",
       "    </tr>\n",
       "    <tr>\n",
       "      <th>6</th>\n",
       "      <td>Excepcional</td>\n",
       "      <td>567</td>\n",
       "    </tr>\n",
       "    <tr>\n",
       "      <th>7</th>\n",
       "      <td>Bajo</td>\n",
       "      <td>509</td>\n",
       "    </tr>\n",
       "    <tr>\n",
       "      <th>8</th>\n",
       "      <td>Sobresaliente</td>\n",
       "      <td>409</td>\n",
       "    </tr>\n",
       "    <tr>\n",
       "      <th>9</th>\n",
       "      <td>Muy bueno</td>\n",
       "      <td>273</td>\n",
       "    </tr>\n",
       "    <tr>\n",
       "      <th>10</th>\n",
       "      <td>Bueno</td>\n",
       "      <td>187</td>\n",
       "    </tr>\n",
       "    <tr>\n",
       "      <th>11</th>\n",
       "      <td>Aceptable</td>\n",
       "      <td>53</td>\n",
       "    </tr>\n",
       "    <tr>\n",
       "      <th>12</th>\n",
       "      <td>Deficiente</td>\n",
       "      <td>47</td>\n",
       "    </tr>\n",
       "    <tr>\n",
       "      <th>13</th>\n",
       "      <td>Insuficiente</td>\n",
       "      <td>40</td>\n",
       "    </tr>\n",
       "    <tr>\n",
       "      <th>14</th>\n",
       "      <td>Mejorable</td>\n",
       "      <td>33</td>\n",
       "    </tr>\n",
       "  </tbody>\n",
       "</table>\n",
       "</div>"
      ],
      "text/plain": [
       "   review_scores_value  frequency\n",
       "0         Espectacular       8296\n",
       "1             Adecuado       6129\n",
       "2           Fantástico       4602\n",
       "3            Increíble       2602\n",
       "4        Impresionante       1643\n",
       "5            Excelente       1191\n",
       "6          Excepcional        567\n",
       "7                 Bajo        509\n",
       "8        Sobresaliente        409\n",
       "9            Muy bueno        273\n",
       "10               Bueno        187\n",
       "11           Aceptable         53\n",
       "12          Deficiente         47\n",
       "13        Insuficiente         40\n",
       "14           Mejorable         33"
      ]
     },
     "execution_count": 13,
     "metadata": {},
     "output_type": "execute_result"
    }
   ],
   "source": [
    "# Elimino las columnas \"porcentage\" y \"cumulative_perc\" para trabajar con las frecuencias\n",
    "\n",
    "table2 = table1.drop(['percentage', 'cumulative_perc'], axis=1)\n",
    "table2"
   ]
  },
  {
   "cell_type": "code",
   "execution_count": 14,
   "metadata": {},
   "outputs": [
    {
     "data": {
      "text/html": [
       "<div>\n",
       "<style scoped>\n",
       "    .dataframe tbody tr th:only-of-type {\n",
       "        vertical-align: middle;\n",
       "    }\n",
       "\n",
       "    .dataframe tbody tr th {\n",
       "        vertical-align: top;\n",
       "    }\n",
       "\n",
       "    .dataframe thead th {\n",
       "        text-align: right;\n",
       "    }\n",
       "</style>\n",
       "<table border=\"1\" class=\"dataframe\">\n",
       "  <thead>\n",
       "    <tr style=\"text-align: right;\">\n",
       "      <th></th>\n",
       "      <th>frequency</th>\n",
       "    </tr>\n",
       "    <tr>\n",
       "      <th>review_scores_value</th>\n",
       "      <th></th>\n",
       "    </tr>\n",
       "  </thead>\n",
       "  <tbody>\n",
       "    <tr>\n",
       "      <th>Espectacular</th>\n",
       "      <td>8296</td>\n",
       "    </tr>\n",
       "    <tr>\n",
       "      <th>Adecuado</th>\n",
       "      <td>6129</td>\n",
       "    </tr>\n",
       "    <tr>\n",
       "      <th>Fantástico</th>\n",
       "      <td>4602</td>\n",
       "    </tr>\n",
       "    <tr>\n",
       "      <th>Increíble</th>\n",
       "      <td>2602</td>\n",
       "    </tr>\n",
       "    <tr>\n",
       "      <th>Impresionante</th>\n",
       "      <td>1643</td>\n",
       "    </tr>\n",
       "    <tr>\n",
       "      <th>Excelente</th>\n",
       "      <td>1191</td>\n",
       "    </tr>\n",
       "    <tr>\n",
       "      <th>Excepcional</th>\n",
       "      <td>567</td>\n",
       "    </tr>\n",
       "    <tr>\n",
       "      <th>Bajo</th>\n",
       "      <td>509</td>\n",
       "    </tr>\n",
       "    <tr>\n",
       "      <th>Sobresaliente</th>\n",
       "      <td>409</td>\n",
       "    </tr>\n",
       "    <tr>\n",
       "      <th>Muy bueno</th>\n",
       "      <td>273</td>\n",
       "    </tr>\n",
       "    <tr>\n",
       "      <th>Bueno</th>\n",
       "      <td>187</td>\n",
       "    </tr>\n",
       "    <tr>\n",
       "      <th>Aceptable</th>\n",
       "      <td>53</td>\n",
       "    </tr>\n",
       "    <tr>\n",
       "      <th>Deficiente</th>\n",
       "      <td>47</td>\n",
       "    </tr>\n",
       "    <tr>\n",
       "      <th>Insuficiente</th>\n",
       "      <td>40</td>\n",
       "    </tr>\n",
       "    <tr>\n",
       "      <th>Mejorable</th>\n",
       "      <td>33</td>\n",
       "    </tr>\n",
       "  </tbody>\n",
       "</table>\n",
       "</div>"
      ],
      "text/plain": [
       "                     frequency\n",
       "review_scores_value           \n",
       "Espectacular              8296\n",
       "Adecuado                  6129\n",
       "Fantástico                4602\n",
       "Increíble                 2602\n",
       "Impresionante             1643\n",
       "Excelente                 1191\n",
       "Excepcional                567\n",
       "Bajo                       509\n",
       "Sobresaliente              409\n",
       "Muy bueno                  273\n",
       "Bueno                      187\n",
       "Aceptable                   53\n",
       "Deficiente                  47\n",
       "Insuficiente                40\n",
       "Mejorable                   33"
      ]
     },
     "execution_count": 14,
     "metadata": {},
     "output_type": "execute_result"
    }
   ],
   "source": [
    "# Ajusto el indice de mi data frame\n",
    "\n",
    "Filtro_index = table2.set_index('review_scores_value')\n",
    "Filtro_index"
   ]
  },
  {
   "cell_type": "code",
   "execution_count": 15,
   "metadata": {},
   "outputs": [
    {
     "data": {
      "text/plain": [
       "Text(0, 0.5, 'Frecuencia')"
      ]
     },
     "execution_count": 15,
     "metadata": {},
     "output_type": "execute_result"
    },
    {
     "data": {
      "image/png": "[encoded data removed]",
      "text/plain": [
       "<Figure size 1000x400 with 1 Axes>"
      ]
     },
     "metadata": {},
     "output_type": "display_data"
    }
   ],
   "source": [
    "# Realizamos gráfico de barras del dataframe filtrado\n",
    "\n",
    "Filtro_index.plot( kind = 'bar', width = 0.8, figsize = (10,4), color = \"blue\" )\n",
    "plt.title('Puntuación promedio del valor general del alojamiento en relación con el precio')\n",
    "plt.xlabel('Tipo de categoria')\n",
    "plt.ylabel('Frecuencia')"
   ]
  }
 ],
 "metadata": {
  "kernelspec": {
   "display_name": "Python 3",
   "language": "python",
   "name": "python3"
  },
  "language_info": {
   "codemirror_mode": {
    "name": "ipython",
    "version": 3
   },
   "file_extension": ".py",
   "mimetype": "text/x-python",
   "name": "python",
   "nbconvert_exporter": "python",
   "pygments_lexer": "ipython3",
   "version": "3.13.1"
  }
 },
 "nbformat": 4,
 "nbformat_minor": 2
}
