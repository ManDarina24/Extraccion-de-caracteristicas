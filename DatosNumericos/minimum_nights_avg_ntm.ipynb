{
 "cells": [
  {
   "cell_type": "code",
   "execution_count": 1,
   "metadata": {},
   "outputs": [],
   "source": [
    "import pandas as pd\n",
    "import numpy as np\n",
    "import matplotlib.pyplot as plt\n",
    "from funpymodeling.exploratory import freq_tbl"
   ]
  },
  {
   "cell_type": "code",
   "execution_count": 2,
   "metadata": {},
   "outputs": [],
   "source": [
    "# Carga desde un archivo .xlsx sin indice\n",
    "Mexico  = pd.read_csv('Mexico.csv')"
   ]
  },
  {
   "cell_type": "code",
   "execution_count": 3,
   "metadata": {},
   "outputs": [
    {
     "name": "stdout",
     "output_type": "stream",
     "text": [
      "<class 'pandas.core.frame.DataFrame'>\n",
      "RangeIndex: 26582 entries, 0 to 26581\n",
      "Data columns (total 50 columns):\n",
      " #   Column                                        Non-Null Count  Dtype  \n",
      "---  ------                                        --------------  -----  \n",
      " 0   id                                            26582 non-null  int64  \n",
      " 1   last_scraped                                  26582 non-null  object \n",
      " 2   name                                          26582 non-null  object \n",
      " 3   host_id                                       26582 non-null  int64  \n",
      " 4   host_name                                     26582 non-null  object \n",
      " 5   host_since                                    26582 non-null  object \n",
      " 6   host_response_time                            26582 non-null  object \n",
      " 7   host_is_superhost                             26582 non-null  object \n",
      " 8   host_identity_verified                        26582 non-null  object \n",
      " 9   neighbourhood                                 26582 non-null  object \n",
      " 10  neighbourhood_cleansed                        26582 non-null  object \n",
      " 11  latitude                                      26582 non-null  float64\n",
      " 12  longitude                                     26582 non-null  float64\n",
      " 13  property_type                                 26582 non-null  object \n",
      " 14  room_type                                     26582 non-null  object \n",
      " 15  amenities                                     26582 non-null  object \n",
      " 16  calendar_last_scraped                         26582 non-null  object \n",
      " 17  has_availability                              26582 non-null  object \n",
      " 18  first_review                                  26582 non-null  object \n",
      " 19  last_review                                   26582 non-null  object \n",
      " 20  license                                       26582 non-null  object \n",
      " 21  instant_bookable                              26582 non-null  object \n",
      " 22  host_response_rate                            26582 non-null  float64\n",
      " 23  host_acceptance_rate                          26582 non-null  float64\n",
      " 24  host_listings_count                           26582 non-null  float64\n",
      " 25  host_total_listings_count                     26582 non-null  float64\n",
      " 26  accommodates                                  26582 non-null  float64\n",
      " 27  bathrooms                                     26582 non-null  float64\n",
      " 28  bedrooms                                      26582 non-null  float64\n",
      " 29  beds                                          26582 non-null  float64\n",
      " 30  price                                         26582 non-null  float64\n",
      " 31  minimum_nights                                26582 non-null  float64\n",
      " 32  maximum_nights                                26582 non-null  float64\n",
      " 33  minimum_nights_avg_ntm                        26582 non-null  float64\n",
      " 34  maximum_nights_avg_ntm                        26582 non-null  float64\n",
      " 35  availability_30                               26582 non-null  int64  \n",
      " 36  availability_90                               26582 non-null  int64  \n",
      " 37  availability_365                              26582 non-null  int64  \n",
      " 38  number_of_reviews                             26582 non-null  float64\n",
      " 39  review_scores_rating                          26582 non-null  float64\n",
      " 40  review_scores_accuracy                        26582 non-null  float64\n",
      " 41  review_scores_cleanliness                     26582 non-null  float64\n",
      " 42  review_scores_checkin                         26582 non-null  float64\n",
      " 43  review_scores_communication                   26582 non-null  float64\n",
      " 44  review_scores_location                        26582 non-null  float64\n",
      " 45  review_scores_value                           26582 non-null  float64\n",
      " 46  calculated_host_listings_count                26582 non-null  float64\n",
      " 47  calculated_host_listings_count_entire_homes   26582 non-null  float64\n",
      " 48  calculated_host_listings_count_private_rooms  26582 non-null  float64\n",
      " 49  calculated_host_listings_count_shared_rooms   26582 non-null  float64\n",
      "dtypes: float64(27), int64(5), object(18)\n",
      "memory usage: 10.1+ MB\n"
     ]
    }
   ],
   "source": [
    "# Verificamos información del dataframe\n",
    "Mexico.info()"
   ]
  },
  {
   "cell_type": "markdown",
   "metadata": {},
   "source": [
    "DETERMINACIÓN DE CLASES PARA DATOS AGRUPADOS "
   ]
  },
  {
   "cell_type": "code",
   "execution_count": 4,
   "metadata": {},
   "outputs": [
    {
     "name": "stdout",
     "output_type": "stream",
     "text": [
      "<class 'pandas.core.series.Series'>\n",
      "RangeIndex: 26582 entries, 0 to 26581\n",
      "Series name: minimum_nights_avg_ntm\n",
      "Non-Null Count  Dtype  \n",
      "--------------  -----  \n",
      "26582 non-null  float64\n",
      "dtypes: float64(1)\n",
      "memory usage: 207.8 KB\n"
     ]
    }
   ],
   "source": [
    "#Calculamos el numero total de la población \"n\"\n",
    "\n",
    "Mexico['minimum_nights_avg_ntm'].info()"
   ]
  },
  {
   "cell_type": "code",
   "execution_count": 5,
   "metadata": {},
   "outputs": [
    {
     "data": {
      "text/plain": [
       "[1.0, 70.0]"
      ]
     },
     "execution_count": 5,
     "metadata": {},
     "output_type": "execute_result"
    }
   ],
   "source": [
    "# Obtenemos el limite superior y el límite inferios de la columna objetivo\n",
    "Max = Mexico['minimum_nights_avg_ntm'].max()\n",
    "Min = Mexico['minimum_nights_avg_ntm'].min()\n",
    "Limites = [Min, Max]\n",
    "Limites"
   ]
  },
  {
   "cell_type": "code",
   "execution_count": 6,
   "metadata": {},
   "outputs": [
    {
     "data": {
      "text/plain": [
       "69.0"
      ]
     },
     "execution_count": 6,
     "metadata": {},
     "output_type": "execute_result"
    }
   ],
   "source": [
    "# Calculamos el rango R\n",
    "R = Max - Min\n",
    "R"
   ]
  },
  {
   "cell_type": "code",
   "execution_count": 7,
   "metadata": {},
   "outputs": [
    {
     "data": {
      "text/plain": [
       "15.689631010177528"
      ]
     },
     "execution_count": 7,
     "metadata": {},
     "output_type": "execute_result"
    }
   ],
   "source": [
    "# Calculamos el número de intervalos de clase \"ni\", aplicando la regla de Sturges\n",
    "n = 26582\n",
    "\n",
    "ni = 1 + 3.32 * np.log10(n)\n",
    "ni"
   ]
  },
  {
   "cell_type": "code",
   "execution_count": 8,
   "metadata": {},
   "outputs": [
    {
     "data": {
      "text/plain": [
       "4.397808970474906"
      ]
     },
     "execution_count": 8,
     "metadata": {},
     "output_type": "execute_result"
    }
   ],
   "source": [
    "# Calculamos el ancho del intervalo \"i\"\n",
    "i = R / ni\n",
    "i"
   ]
  },
  {
   "cell_type": "markdown",
   "metadata": {},
   "source": [
    "CREACIÓN DE CATEGORÍAS A PARTIR DE CLASES"
   ]
  },
  {
   "cell_type": "code",
   "execution_count": 9,
   "metadata": {},
   "outputs": [
    {
     "data": {
      "text/plain": [
       "array([ 1. ,  5.6, 10.2, 14.8, 19.4, 24. , 28.6, 33.2, 37.8, 42.4, 47. ,\n",
       "       51.6, 56.2, 60.8, 65.4, 70. ])"
      ]
     },
     "execution_count": 9,
     "metadata": {},
     "output_type": "execute_result"
    }
   ],
   "source": [
    "# Categorización de variables\n",
    "intervalos = np.linspace (1, 70, 16)\n",
    "intervalos"
   ]
  },
  {
   "cell_type": "code",
   "execution_count": 10,
   "metadata": {},
   "outputs": [],
   "source": [
    "# Creamos las categorías\n",
    "\n",
    "categorias = [\n",
    "    \"Una noche\",\n",
    "    \"Estancia muy corta\",\n",
    "    \"Estancia corta\",\n",
    "    \"Estancia breve\",\n",
    "    \"Estancia moderada\",\n",
    "    \"Estancia estándar\",\n",
    "    \"Estancia cómoda\",\n",
    "    \"Estancia prolongada\",\n",
    "    \"Estancia más larga\",\n",
    "    \"Estancia amplia\",\n",
    "    \"Estancia extendida\",\n",
    "    \"Estancia larga\",\n",
    "    \"Estancia muy larga\",\n",
    "    \"Estancia extensiva\",\n",
    "    \"Estancia máxima\"\n",
    "]\n"
   ]
  },
  {
   "cell_type": "code",
   "execution_count": 11,
   "metadata": {},
   "outputs": [
    {
     "data": {
      "text/plain": [
       "0              NaN\n",
       "1              NaN\n",
       "2        Una noche\n",
       "3        Una noche\n",
       "4              NaN\n",
       "           ...    \n",
       "26577    Una noche\n",
       "26578          NaN\n",
       "26579          NaN\n",
       "26580          NaN\n",
       "26581    Una noche\n",
       "Name: minimum_nights_avg_ntm, Length: 26582, dtype: category\n",
       "Categories (15, object): ['Una noche' < 'Estancia muy corta' < 'Estancia corta' < 'Estancia breve' ... 'Estancia larga' < 'Estancia muy larga' < 'Estancia extensiva' < 'Estancia máxima']"
      ]
     },
     "execution_count": 11,
     "metadata": {},
     "output_type": "execute_result"
    }
   ],
   "source": [
    "# Creamos las ctegorias en la columna numerica\n",
    "Mexico['minimum_nights_avg_ntm'] = pd.cut ( x = Mexico ['minimum_nights_avg_ntm'], bins = intervalos, labels = categorias )\n",
    "Mexico['minimum_nights_avg_ntm']"
   ]
  },
  {
   "cell_type": "code",
   "execution_count": 12,
   "metadata": {},
   "outputs": [
    {
     "data": {
      "text/html": [
       "<div>\n",
       "<style scoped>\n",
       "    .dataframe tbody tr th:only-of-type {\n",
       "        vertical-align: middle;\n",
       "    }\n",
       "\n",
       "    .dataframe tbody tr th {\n",
       "        vertical-align: top;\n",
       "    }\n",
       "\n",
       "    .dataframe thead th {\n",
       "        text-align: right;\n",
       "    }\n",
       "</style>\n",
       "<table border=\"1\" class=\"dataframe\">\n",
       "  <thead>\n",
       "    <tr style=\"text-align: right;\">\n",
       "      <th></th>\n",
       "      <th>minimum_nights_avg_ntm</th>\n",
       "      <th>frequency</th>\n",
       "      <th>percentage</th>\n",
       "      <th>cumulative_perc</th>\n",
       "    </tr>\n",
       "  </thead>\n",
       "  <tbody>\n",
       "    <tr>\n",
       "      <th>0</th>\n",
       "      <td>Una noche</td>\n",
       "      <td>13994</td>\n",
       "      <td>0.526446</td>\n",
       "      <td>0.884800</td>\n",
       "    </tr>\n",
       "    <tr>\n",
       "      <th>1</th>\n",
       "      <td>Estancia muy corta</td>\n",
       "      <td>855</td>\n",
       "      <td>0.032165</td>\n",
       "      <td>0.938859</td>\n",
       "    </tr>\n",
       "    <tr>\n",
       "      <th>2</th>\n",
       "      <td>Estancia cómoda</td>\n",
       "      <td>303</td>\n",
       "      <td>0.011399</td>\n",
       "      <td>0.958017</td>\n",
       "    </tr>\n",
       "    <tr>\n",
       "      <th>3</th>\n",
       "      <td>Estancia breve</td>\n",
       "      <td>183</td>\n",
       "      <td>0.006884</td>\n",
       "      <td>0.969588</td>\n",
       "    </tr>\n",
       "    <tr>\n",
       "      <th>4</th>\n",
       "      <td>Estancia corta</td>\n",
       "      <td>177</td>\n",
       "      <td>0.006659</td>\n",
       "      <td>0.980779</td>\n",
       "    </tr>\n",
       "    <tr>\n",
       "      <th>5</th>\n",
       "      <td>Estancia estándar</td>\n",
       "      <td>161</td>\n",
       "      <td>0.006057</td>\n",
       "      <td>0.990959</td>\n",
       "    </tr>\n",
       "    <tr>\n",
       "      <th>6</th>\n",
       "      <td>Estancia moderada</td>\n",
       "      <td>73</td>\n",
       "      <td>0.002746</td>\n",
       "      <td>0.995574</td>\n",
       "    </tr>\n",
       "    <tr>\n",
       "      <th>7</th>\n",
       "      <td>Estancia muy larga</td>\n",
       "      <td>26</td>\n",
       "      <td>0.000978</td>\n",
       "      <td>0.997218</td>\n",
       "    </tr>\n",
       "    <tr>\n",
       "      <th>8</th>\n",
       "      <td>Estancia extensiva</td>\n",
       "      <td>24</td>\n",
       "      <td>0.000903</td>\n",
       "      <td>0.998735</td>\n",
       "    </tr>\n",
       "    <tr>\n",
       "      <th>9</th>\n",
       "      <td>Estancia amplia</td>\n",
       "      <td>7</td>\n",
       "      <td>0.000263</td>\n",
       "      <td>0.999178</td>\n",
       "    </tr>\n",
       "    <tr>\n",
       "      <th>10</th>\n",
       "      <td>Estancia larga</td>\n",
       "      <td>4</td>\n",
       "      <td>0.000150</td>\n",
       "      <td>0.999431</td>\n",
       "    </tr>\n",
       "    <tr>\n",
       "      <th>11</th>\n",
       "      <td>Estancia máxima</td>\n",
       "      <td>4</td>\n",
       "      <td>0.000150</td>\n",
       "      <td>0.999684</td>\n",
       "    </tr>\n",
       "    <tr>\n",
       "      <th>12</th>\n",
       "      <td>Estancia extendida</td>\n",
       "      <td>3</td>\n",
       "      <td>0.000113</td>\n",
       "      <td>0.999874</td>\n",
       "    </tr>\n",
       "    <tr>\n",
       "      <th>13</th>\n",
       "      <td>Estancia prolongada</td>\n",
       "      <td>1</td>\n",
       "      <td>0.000038</td>\n",
       "      <td>0.999937</td>\n",
       "    </tr>\n",
       "    <tr>\n",
       "      <th>14</th>\n",
       "      <td>Estancia más larga</td>\n",
       "      <td>1</td>\n",
       "      <td>0.000038</td>\n",
       "      <td>1.000000</td>\n",
       "    </tr>\n",
       "  </tbody>\n",
       "</table>\n",
       "</div>"
      ],
      "text/plain": [
       "   minimum_nights_avg_ntm  frequency  percentage  cumulative_perc\n",
       "0               Una noche      13994    0.526446         0.884800\n",
       "1      Estancia muy corta        855    0.032165         0.938859\n",
       "2         Estancia cómoda        303    0.011399         0.958017\n",
       "3          Estancia breve        183    0.006884         0.969588\n",
       "4          Estancia corta        177    0.006659         0.980779\n",
       "5       Estancia estándar        161    0.006057         0.990959\n",
       "6       Estancia moderada         73    0.002746         0.995574\n",
       "7      Estancia muy larga         26    0.000978         0.997218\n",
       "8      Estancia extensiva         24    0.000903         0.998735\n",
       "9         Estancia amplia          7    0.000263         0.999178\n",
       "10         Estancia larga          4    0.000150         0.999431\n",
       "11        Estancia máxima          4    0.000150         0.999684\n",
       "12     Estancia extendida          3    0.000113         0.999874\n",
       "13    Estancia prolongada          1    0.000038         0.999937\n",
       "14     Estancia más larga          1    0.000038         1.000000"
      ]
     },
     "execution_count": 12,
     "metadata": {},
     "output_type": "execute_result"
    }
   ],
   "source": [
    "table1 = freq_tbl(Mexico['minimum_nights_avg_ntm'])\n",
    "table1"
   ]
  },
  {
   "cell_type": "code",
   "execution_count": 13,
   "metadata": {},
   "outputs": [
    {
     "data": {
      "text/html": [
       "<div>\n",
       "<style scoped>\n",
       "    .dataframe tbody tr th:only-of-type {\n",
       "        vertical-align: middle;\n",
       "    }\n",
       "\n",
       "    .dataframe tbody tr th {\n",
       "        vertical-align: top;\n",
       "    }\n",
       "\n",
       "    .dataframe thead th {\n",
       "        text-align: right;\n",
       "    }\n",
       "</style>\n",
       "<table border=\"1\" class=\"dataframe\">\n",
       "  <thead>\n",
       "    <tr style=\"text-align: right;\">\n",
       "      <th></th>\n",
       "      <th>minimum_nights_avg_ntm</th>\n",
       "      <th>frequency</th>\n",
       "    </tr>\n",
       "  </thead>\n",
       "  <tbody>\n",
       "    <tr>\n",
       "      <th>0</th>\n",
       "      <td>Una noche</td>\n",
       "      <td>13994</td>\n",
       "    </tr>\n",
       "    <tr>\n",
       "      <th>1</th>\n",
       "      <td>Estancia muy corta</td>\n",
       "      <td>855</td>\n",
       "    </tr>\n",
       "    <tr>\n",
       "      <th>2</th>\n",
       "      <td>Estancia cómoda</td>\n",
       "      <td>303</td>\n",
       "    </tr>\n",
       "    <tr>\n",
       "      <th>3</th>\n",
       "      <td>Estancia breve</td>\n",
       "      <td>183</td>\n",
       "    </tr>\n",
       "    <tr>\n",
       "      <th>4</th>\n",
       "      <td>Estancia corta</td>\n",
       "      <td>177</td>\n",
       "    </tr>\n",
       "    <tr>\n",
       "      <th>5</th>\n",
       "      <td>Estancia estándar</td>\n",
       "      <td>161</td>\n",
       "    </tr>\n",
       "    <tr>\n",
       "      <th>6</th>\n",
       "      <td>Estancia moderada</td>\n",
       "      <td>73</td>\n",
       "    </tr>\n",
       "    <tr>\n",
       "      <th>7</th>\n",
       "      <td>Estancia muy larga</td>\n",
       "      <td>26</td>\n",
       "    </tr>\n",
       "    <tr>\n",
       "      <th>8</th>\n",
       "      <td>Estancia extensiva</td>\n",
       "      <td>24</td>\n",
       "    </tr>\n",
       "    <tr>\n",
       "      <th>9</th>\n",
       "      <td>Estancia amplia</td>\n",
       "      <td>7</td>\n",
       "    </tr>\n",
       "    <tr>\n",
       "      <th>10</th>\n",
       "      <td>Estancia larga</td>\n",
       "      <td>4</td>\n",
       "    </tr>\n",
       "    <tr>\n",
       "      <th>11</th>\n",
       "      <td>Estancia máxima</td>\n",
       "      <td>4</td>\n",
       "    </tr>\n",
       "    <tr>\n",
       "      <th>12</th>\n",
       "      <td>Estancia extendida</td>\n",
       "      <td>3</td>\n",
       "    </tr>\n",
       "    <tr>\n",
       "      <th>13</th>\n",
       "      <td>Estancia prolongada</td>\n",
       "      <td>1</td>\n",
       "    </tr>\n",
       "    <tr>\n",
       "      <th>14</th>\n",
       "      <td>Estancia más larga</td>\n",
       "      <td>1</td>\n",
       "    </tr>\n",
       "  </tbody>\n",
       "</table>\n",
       "</div>"
      ],
      "text/plain": [
       "   minimum_nights_avg_ntm  frequency\n",
       "0               Una noche      13994\n",
       "1      Estancia muy corta        855\n",
       "2         Estancia cómoda        303\n",
       "3          Estancia breve        183\n",
       "4          Estancia corta        177\n",
       "5       Estancia estándar        161\n",
       "6       Estancia moderada         73\n",
       "7      Estancia muy larga         26\n",
       "8      Estancia extensiva         24\n",
       "9         Estancia amplia          7\n",
       "10         Estancia larga          4\n",
       "11        Estancia máxima          4\n",
       "12     Estancia extendida          3\n",
       "13    Estancia prolongada          1\n",
       "14     Estancia más larga          1"
      ]
     },
     "execution_count": 13,
     "metadata": {},
     "output_type": "execute_result"
    }
   ],
   "source": [
    "# Elimino las columnas \"porcentage\" y \"cumulative_perc\" para trabajar con las frecuencias\n",
    "\n",
    "table2 = table1.drop(['percentage', 'cumulative_perc'], axis=1)\n",
    "table2"
   ]
  },
  {
   "cell_type": "code",
   "execution_count": 14,
   "metadata": {},
   "outputs": [
    {
     "data": {
      "text/html": [
       "<div>\n",
       "<style scoped>\n",
       "    .dataframe tbody tr th:only-of-type {\n",
       "        vertical-align: middle;\n",
       "    }\n",
       "\n",
       "    .dataframe tbody tr th {\n",
       "        vertical-align: top;\n",
       "    }\n",
       "\n",
       "    .dataframe thead th {\n",
       "        text-align: right;\n",
       "    }\n",
       "</style>\n",
       "<table border=\"1\" class=\"dataframe\">\n",
       "  <thead>\n",
       "    <tr style=\"text-align: right;\">\n",
       "      <th></th>\n",
       "      <th>minimum_nights_avg_ntm</th>\n",
       "      <th>frequency</th>\n",
       "    </tr>\n",
       "  </thead>\n",
       "  <tbody>\n",
       "    <tr>\n",
       "      <th>0</th>\n",
       "      <td>Una noche</td>\n",
       "      <td>13994</td>\n",
       "    </tr>\n",
       "    <tr>\n",
       "      <th>1</th>\n",
       "      <td>Estancia muy corta</td>\n",
       "      <td>855</td>\n",
       "    </tr>\n",
       "    <tr>\n",
       "      <th>2</th>\n",
       "      <td>Estancia cómoda</td>\n",
       "      <td>303</td>\n",
       "    </tr>\n",
       "    <tr>\n",
       "      <th>3</th>\n",
       "      <td>Estancia breve</td>\n",
       "      <td>183</td>\n",
       "    </tr>\n",
       "    <tr>\n",
       "      <th>4</th>\n",
       "      <td>Estancia corta</td>\n",
       "      <td>177</td>\n",
       "    </tr>\n",
       "    <tr>\n",
       "      <th>5</th>\n",
       "      <td>Estancia estándar</td>\n",
       "      <td>161</td>\n",
       "    </tr>\n",
       "  </tbody>\n",
       "</table>\n",
       "</div>"
      ],
      "text/plain": [
       "  minimum_nights_avg_ntm  frequency\n",
       "0              Una noche      13994\n",
       "1     Estancia muy corta        855\n",
       "2        Estancia cómoda        303\n",
       "3         Estancia breve        183\n",
       "4         Estancia corta        177\n",
       "5      Estancia estándar        161"
      ]
     },
     "execution_count": 14,
     "metadata": {},
     "output_type": "execute_result"
    }
   ],
   "source": [
    "# Obtener un filtro de los valores más relevantes de las vaiables categóricas seleccionadas\n",
    "\n",
    "Filtro = table2[ table2['frequency'] > 150]\n",
    "Filtro"
   ]
  },
  {
   "cell_type": "code",
   "execution_count": 15,
   "metadata": {},
   "outputs": [
    {
     "data": {
      "text/html": [
       "<div>\n",
       "<style scoped>\n",
       "    .dataframe tbody tr th:only-of-type {\n",
       "        vertical-align: middle;\n",
       "    }\n",
       "\n",
       "    .dataframe tbody tr th {\n",
       "        vertical-align: top;\n",
       "    }\n",
       "\n",
       "    .dataframe thead th {\n",
       "        text-align: right;\n",
       "    }\n",
       "</style>\n",
       "<table border=\"1\" class=\"dataframe\">\n",
       "  <thead>\n",
       "    <tr style=\"text-align: right;\">\n",
       "      <th></th>\n",
       "      <th>frequency</th>\n",
       "    </tr>\n",
       "    <tr>\n",
       "      <th>minimum_nights_avg_ntm</th>\n",
       "      <th></th>\n",
       "    </tr>\n",
       "  </thead>\n",
       "  <tbody>\n",
       "    <tr>\n",
       "      <th>Una noche</th>\n",
       "      <td>13994</td>\n",
       "    </tr>\n",
       "    <tr>\n",
       "      <th>Estancia muy corta</th>\n",
       "      <td>855</td>\n",
       "    </tr>\n",
       "    <tr>\n",
       "      <th>Estancia cómoda</th>\n",
       "      <td>303</td>\n",
       "    </tr>\n",
       "    <tr>\n",
       "      <th>Estancia breve</th>\n",
       "      <td>183</td>\n",
       "    </tr>\n",
       "    <tr>\n",
       "      <th>Estancia corta</th>\n",
       "      <td>177</td>\n",
       "    </tr>\n",
       "    <tr>\n",
       "      <th>Estancia estándar</th>\n",
       "      <td>161</td>\n",
       "    </tr>\n",
       "  </tbody>\n",
       "</table>\n",
       "</div>"
      ],
      "text/plain": [
       "                        frequency\n",
       "minimum_nights_avg_ntm           \n",
       "Una noche                   13994\n",
       "Estancia muy corta            855\n",
       "Estancia cómoda               303\n",
       "Estancia breve                183\n",
       "Estancia corta                177\n",
       "Estancia estándar             161"
      ]
     },
     "execution_count": 15,
     "metadata": {},
     "output_type": "execute_result"
    }
   ],
   "source": [
    "# Ajusto el indice de mi data frame\n",
    "\n",
    "Filtro_index = Filtro.set_index('minimum_nights_avg_ntm')\n",
    "Filtro_index"
   ]
  },
  {
   "cell_type": "code",
   "execution_count": 16,
   "metadata": {},
   "outputs": [
    {
     "data": {
      "text/plain": [
       "Text(0, 0.5, 'Frecuencia')"
      ]
     },
     "execution_count": 16,
     "metadata": {},
     "output_type": "execute_result"
    },
    {
     "data": {
      "image/png": "[encoded data removed]",
      "text/plain": [
       "<Figure size 1000x400 with 1 Axes>"
      ]
     },
     "metadata": {},
     "output_type": "display_data"
    }
   ],
   "source": [
    "# Realizamos gráfico de barras del dataframe filtrado\n",
    "\n",
    "Filtro_index.plot( kind = 'bar', width = 0.8, figsize = (10,4), color = \"blue\" )\n",
    "plt.title('Número de noches mínimas permitidas para reservar')\n",
    "plt.xlabel('Tipo de categoria')\n",
    "plt.ylabel('Frecuencia')"
   ]
  }
 ],
 "metadata": {
  "kernelspec": {
   "display_name": "Python 3",
   "language": "python",
   "name": "python3"
  },
  "language_info": {
   "codemirror_mode": {
    "name": "ipython",
    "version": 3
   },
   "file_extension": ".py",
   "mimetype": "text/x-python",
   "name": "python",
   "nbconvert_exporter": "python",
   "pygments_lexer": "ipython3",
   "version": "3.13.1"
  }
 },
 "nbformat": 4,
 "nbformat_minor": 2
}
