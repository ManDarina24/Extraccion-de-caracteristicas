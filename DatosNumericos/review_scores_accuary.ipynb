{
 "cells": [
  {
   "cell_type": "code",
   "execution_count": 1,
   "metadata": {},
   "outputs": [],
   "source": [
    "import pandas as pd\n",
    "import numpy as np\n",
    "import matplotlib.pyplot as plt\n",
    "from funpymodeling.exploratory import freq_tbl"
   ]
  },
  {
   "cell_type": "code",
   "execution_count": 2,
   "metadata": {},
   "outputs": [],
   "source": [
    "# Carga desde un archivo .xlsx sin indice\n",
    "Mexico  = pd.read_csv('Mexico.csv')"
   ]
  },
  {
   "cell_type": "code",
   "execution_count": 3,
   "metadata": {},
   "outputs": [
    {
     "name": "stdout",
     "output_type": "stream",
     "text": [
      "<class 'pandas.core.frame.DataFrame'>\n",
      "RangeIndex: 26582 entries, 0 to 26581\n",
      "Data columns (total 50 columns):\n",
      " #   Column                                        Non-Null Count  Dtype  \n",
      "---  ------                                        --------------  -----  \n",
      " 0   id                                            26582 non-null  int64  \n",
      " 1   last_scraped                                  26582 non-null  object \n",
      " 2   name                                          26582 non-null  object \n",
      " 3   host_id                                       26582 non-null  int64  \n",
      " 4   host_name                                     26582 non-null  object \n",
      " 5   host_since                                    26582 non-null  object \n",
      " 6   host_response_time                            26582 non-null  object \n",
      " 7   host_is_superhost                             26582 non-null  object \n",
      " 8   host_identity_verified                        26582 non-null  object \n",
      " 9   neighbourhood                                 26582 non-null  object \n",
      " 10  neighbourhood_cleansed                        26582 non-null  object \n",
      " 11  latitude                                      26582 non-null  float64\n",
      " 12  longitude                                     26582 non-null  float64\n",
      " 13  property_type                                 26582 non-null  object \n",
      " 14  room_type                                     26582 non-null  object \n",
      " 15  amenities                                     26582 non-null  object \n",
      " 16  calendar_last_scraped                         26582 non-null  object \n",
      " 17  has_availability                              26582 non-null  object \n",
      " 18  first_review                                  26582 non-null  object \n",
      " 19  last_review                                   26582 non-null  object \n",
      " 20  license                                       26582 non-null  object \n",
      " 21  instant_bookable                              26582 non-null  object \n",
      " 22  host_response_rate                            26582 non-null  float64\n",
      " 23  host_acceptance_rate                          26582 non-null  float64\n",
      " 24  host_listings_count                           26582 non-null  float64\n",
      " 25  host_total_listings_count                     26582 non-null  float64\n",
      " 26  accommodates                                  26582 non-null  float64\n",
      " 27  bathrooms                                     26582 non-null  float64\n",
      " 28  bedrooms                                      26582 non-null  float64\n",
      " 29  beds                                          26582 non-null  float64\n",
      " 30  price                                         26582 non-null  float64\n",
      " 31  minimum_nights                                26582 non-null  float64\n",
      " 32  maximum_nights                                26582 non-null  float64\n",
      " 33  minimum_nights_avg_ntm                        26582 non-null  float64\n",
      " 34  maximum_nights_avg_ntm                        26582 non-null  float64\n",
      " 35  availability_30                               26582 non-null  int64  \n",
      " 36  availability_90                               26582 non-null  int64  \n",
      " 37  availability_365                              26582 non-null  int64  \n",
      " 38  number_of_reviews                             26582 non-null  float64\n",
      " 39  review_scores_rating                          26582 non-null  float64\n",
      " 40  review_scores_accuracy                        26582 non-null  float64\n",
      " 41  review_scores_cleanliness                     26582 non-null  float64\n",
      " 42  review_scores_checkin                         26582 non-null  float64\n",
      " 43  review_scores_communication                   26582 non-null  float64\n",
      " 44  review_scores_location                        26582 non-null  float64\n",
      " 45  review_scores_value                           26582 non-null  float64\n",
      " 46  calculated_host_listings_count                26582 non-null  float64\n",
      " 47  calculated_host_listings_count_entire_homes   26582 non-null  float64\n",
      " 48  calculated_host_listings_count_private_rooms  26582 non-null  float64\n",
      " 49  calculated_host_listings_count_shared_rooms   26582 non-null  float64\n",
      "dtypes: float64(27), int64(5), object(18)\n",
      "memory usage: 10.1+ MB\n"
     ]
    }
   ],
   "source": [
    "# Verificamos información del dataframe\n",
    "Mexico.info()"
   ]
  },
  {
   "cell_type": "markdown",
   "metadata": {},
   "source": [
    "DETERMINACIÓN DE CLASES PARA DATOS AGRUPADOS "
   ]
  },
  {
   "cell_type": "code",
   "execution_count": 4,
   "metadata": {},
   "outputs": [
    {
     "name": "stdout",
     "output_type": "stream",
     "text": [
      "<class 'pandas.core.series.Series'>\n",
      "RangeIndex: 26582 entries, 0 to 26581\n",
      "Series name: review_scores_accuracy\n",
      "Non-Null Count  Dtype  \n",
      "--------------  -----  \n",
      "26582 non-null  float64\n",
      "dtypes: float64(1)\n",
      "memory usage: 207.8 KB\n"
     ]
    }
   ],
   "source": [
    "#Calculamos el numero total de la población \"n\"\n",
    "\n",
    "Mexico['review_scores_accuracy'].info()"
   ]
  },
  {
   "cell_type": "code",
   "execution_count": 5,
   "metadata": {},
   "outputs": [
    {
     "data": {
      "text/plain": [
       "[3.83, 5.0]"
      ]
     },
     "execution_count": 5,
     "metadata": {},
     "output_type": "execute_result"
    }
   ],
   "source": [
    "# Obtenemos el limite superior y el límite inferios de la columna objetivo\n",
    "Max = Mexico['review_scores_accuracy'].max()\n",
    "Min = Mexico['review_scores_accuracy'].min()\n",
    "Limites = [Min, Max]\n",
    "Limites"
   ]
  },
  {
   "cell_type": "code",
   "execution_count": 6,
   "metadata": {},
   "outputs": [
    {
     "data": {
      "text/plain": [
       "1.17"
      ]
     },
     "execution_count": 6,
     "metadata": {},
     "output_type": "execute_result"
    }
   ],
   "source": [
    "# Calculamos el rango R\n",
    "R = Max - Min\n",
    "R"
   ]
  },
  {
   "cell_type": "code",
   "execution_count": 7,
   "metadata": {},
   "outputs": [
    {
     "data": {
      "text/plain": [
       "15.689631010177528"
      ]
     },
     "execution_count": 7,
     "metadata": {},
     "output_type": "execute_result"
    }
   ],
   "source": [
    "# Calculamos el número de intervalos de clase \"ni\", aplicando la regla de Sturges\n",
    "n = 26582\n",
    "\n",
    "ni = 1 + 3.32 * np.log10(n)\n",
    "ni"
   ]
  },
  {
   "cell_type": "code",
   "execution_count": 8,
   "metadata": {},
   "outputs": [
    {
     "data": {
      "text/plain": [
       "0.07457154341240058"
      ]
     },
     "execution_count": 8,
     "metadata": {},
     "output_type": "execute_result"
    }
   ],
   "source": [
    "# Calculamos el ancho del intervalo \"i\"\n",
    "i = R / ni\n",
    "i"
   ]
  },
  {
   "cell_type": "markdown",
   "metadata": {},
   "source": [
    "CREACIÓN DE CATEGORÍAS A PARTIR DE CLASES"
   ]
  },
  {
   "cell_type": "code",
   "execution_count": 9,
   "metadata": {},
   "outputs": [
    {
     "data": {
      "text/plain": [
       "array([3.83 , 3.908, 3.986, 4.064, 4.142, 4.22 , 4.298, 4.376, 4.454,\n",
       "       4.532, 4.61 , 4.688, 4.766, 4.844, 4.922, 5.   ])"
      ]
     },
     "execution_count": 9,
     "metadata": {},
     "output_type": "execute_result"
    }
   ],
   "source": [
    "# Categorización de variables\n",
    "intervalos = np.linspace (3.83, 5, 16)\n",
    "intervalos"
   ]
  },
  {
   "cell_type": "code",
   "execution_count": 10,
   "metadata": {},
   "outputs": [],
   "source": [
    "# Creamos las categorías\n",
    "categorias = [\n",
    "    \"Muy inexacto\",\n",
    "    \"Inexacto\",\n",
    "    \"Algo inexacto\",\n",
    "    \"Moderadamente inexacto\",\n",
    "    \"Ligera inexactitud\",\n",
    "    \"Bastante preciso\",\n",
    "    \"Preciso\",\n",
    "    \"Muy preciso\",\n",
    "    \"Exacto\",\n",
    "    \"Muy exacto\",\n",
    "    \"Totalmente exacto\",\n",
    "    \"Excelente precisión\",\n",
    "    \"Alta precisión\",\n",
    "    \"Precisión sobresaliente\",\n",
    "    \"Precisión perfecta\"\n",
    "]\n"
   ]
  },
  {
   "cell_type": "code",
   "execution_count": 11,
   "metadata": {},
   "outputs": [
    {
     "data": {
      "text/plain": [
       "0        Precisión sobresaliente\n",
       "1                     Muy exacto\n",
       "2                 Alta precisión\n",
       "3        Precisión sobresaliente\n",
       "4             Precisión perfecta\n",
       "                  ...           \n",
       "26577    Precisión sobresaliente\n",
       "26578    Precisión sobresaliente\n",
       "26579    Precisión sobresaliente\n",
       "26580    Precisión sobresaliente\n",
       "26581    Precisión sobresaliente\n",
       "Name: review_scores_accuracy, Length: 26582, dtype: category\n",
       "Categories (15, object): ['Muy inexacto' < 'Inexacto' < 'Algo inexacto' < 'Moderadamente inexacto' ... 'Excelente precisión' < 'Alta precisión' < 'Precisión sobresaliente' < 'Precisión perfecta']"
      ]
     },
     "execution_count": 11,
     "metadata": {},
     "output_type": "execute_result"
    }
   ],
   "source": [
    "# Creamos las ctegorias en la columna numerica\n",
    "Mexico['review_scores_accuracy'] = pd.cut ( x = Mexico ['review_scores_accuracy'], bins = intervalos, labels = categorias )\n",
    "Mexico['review_scores_accuracy']"
   ]
  },
  {
   "cell_type": "code",
   "execution_count": 12,
   "metadata": {},
   "outputs": [
    {
     "data": {
      "text/html": [
       "<div>\n",
       "<style scoped>\n",
       "    .dataframe tbody tr th:only-of-type {\n",
       "        vertical-align: middle;\n",
       "    }\n",
       "\n",
       "    .dataframe tbody tr th {\n",
       "        vertical-align: top;\n",
       "    }\n",
       "\n",
       "    .dataframe thead th {\n",
       "        text-align: right;\n",
       "    }\n",
       "</style>\n",
       "<table border=\"1\" class=\"dataframe\">\n",
       "  <thead>\n",
       "    <tr style=\"text-align: right;\">\n",
       "      <th></th>\n",
       "      <th>review_scores_accuracy</th>\n",
       "      <th>frequency</th>\n",
       "      <th>percentage</th>\n",
       "      <th>cumulative_perc</th>\n",
       "    </tr>\n",
       "  </thead>\n",
       "  <tbody>\n",
       "    <tr>\n",
       "      <th>0</th>\n",
       "      <td>Precisión perfecta</td>\n",
       "      <td>8755</td>\n",
       "      <td>0.329358</td>\n",
       "      <td>0.329519</td>\n",
       "    </tr>\n",
       "    <tr>\n",
       "      <th>1</th>\n",
       "      <td>Precisión sobresaliente</td>\n",
       "      <td>8467</td>\n",
       "      <td>0.318524</td>\n",
       "      <td>0.648199</td>\n",
       "    </tr>\n",
       "    <tr>\n",
       "      <th>2</th>\n",
       "      <td>Alta precisión</td>\n",
       "      <td>3629</td>\n",
       "      <td>0.136521</td>\n",
       "      <td>0.784787</td>\n",
       "    </tr>\n",
       "    <tr>\n",
       "      <th>3</th>\n",
       "      <td>Excelente precisión</td>\n",
       "      <td>2001</td>\n",
       "      <td>0.075277</td>\n",
       "      <td>0.860100</td>\n",
       "    </tr>\n",
       "    <tr>\n",
       "      <th>4</th>\n",
       "      <td>Totalmente exacto</td>\n",
       "      <td>1142</td>\n",
       "      <td>0.042961</td>\n",
       "      <td>0.903083</td>\n",
       "    </tr>\n",
       "    <tr>\n",
       "      <th>5</th>\n",
       "      <td>Muy exacto</td>\n",
       "      <td>703</td>\n",
       "      <td>0.026446</td>\n",
       "      <td>0.929542</td>\n",
       "    </tr>\n",
       "    <tr>\n",
       "      <th>6</th>\n",
       "      <td>Exacto</td>\n",
       "      <td>602</td>\n",
       "      <td>0.022647</td>\n",
       "      <td>0.952200</td>\n",
       "    </tr>\n",
       "    <tr>\n",
       "      <th>7</th>\n",
       "      <td>Algo inexacto</td>\n",
       "      <td>407</td>\n",
       "      <td>0.015311</td>\n",
       "      <td>0.967519</td>\n",
       "    </tr>\n",
       "    <tr>\n",
       "      <th>8</th>\n",
       "      <td>Muy preciso</td>\n",
       "      <td>288</td>\n",
       "      <td>0.010834</td>\n",
       "      <td>0.978358</td>\n",
       "    </tr>\n",
       "    <tr>\n",
       "      <th>9</th>\n",
       "      <td>Preciso</td>\n",
       "      <td>233</td>\n",
       "      <td>0.008765</td>\n",
       "      <td>0.987128</td>\n",
       "    </tr>\n",
       "    <tr>\n",
       "      <th>10</th>\n",
       "      <td>Bastante preciso</td>\n",
       "      <td>141</td>\n",
       "      <td>0.005304</td>\n",
       "      <td>0.992435</td>\n",
       "    </tr>\n",
       "    <tr>\n",
       "      <th>11</th>\n",
       "      <td>Ligera inexactitud</td>\n",
       "      <td>116</td>\n",
       "      <td>0.004364</td>\n",
       "      <td>0.996801</td>\n",
       "    </tr>\n",
       "    <tr>\n",
       "      <th>12</th>\n",
       "      <td>Moderadamente inexacto</td>\n",
       "      <td>62</td>\n",
       "      <td>0.002332</td>\n",
       "      <td>0.999134</td>\n",
       "    </tr>\n",
       "    <tr>\n",
       "      <th>13</th>\n",
       "      <td>Muy inexacto</td>\n",
       "      <td>14</td>\n",
       "      <td>0.000527</td>\n",
       "      <td>0.999661</td>\n",
       "    </tr>\n",
       "    <tr>\n",
       "      <th>14</th>\n",
       "      <td>Inexacto</td>\n",
       "      <td>9</td>\n",
       "      <td>0.000339</td>\n",
       "      <td>1.000000</td>\n",
       "    </tr>\n",
       "  </tbody>\n",
       "</table>\n",
       "</div>"
      ],
      "text/plain": [
       "     review_scores_accuracy  frequency  percentage  cumulative_perc\n",
       "0        Precisión perfecta       8755    0.329358         0.329519\n",
       "1   Precisión sobresaliente       8467    0.318524         0.648199\n",
       "2            Alta precisión       3629    0.136521         0.784787\n",
       "3       Excelente precisión       2001    0.075277         0.860100\n",
       "4         Totalmente exacto       1142    0.042961         0.903083\n",
       "5                Muy exacto        703    0.026446         0.929542\n",
       "6                    Exacto        602    0.022647         0.952200\n",
       "7             Algo inexacto        407    0.015311         0.967519\n",
       "8               Muy preciso        288    0.010834         0.978358\n",
       "9                   Preciso        233    0.008765         0.987128\n",
       "10         Bastante preciso        141    0.005304         0.992435\n",
       "11       Ligera inexactitud        116    0.004364         0.996801\n",
       "12   Moderadamente inexacto         62    0.002332         0.999134\n",
       "13             Muy inexacto         14    0.000527         0.999661\n",
       "14                 Inexacto          9    0.000339         1.000000"
      ]
     },
     "execution_count": 12,
     "metadata": {},
     "output_type": "execute_result"
    }
   ],
   "source": [
    "table1 = freq_tbl(Mexico['review_scores_accuracy'])\n",
    "table1"
   ]
  },
  {
   "cell_type": "code",
   "execution_count": 13,
   "metadata": {},
   "outputs": [
    {
     "data": {
      "text/html": [
       "<div>\n",
       "<style scoped>\n",
       "    .dataframe tbody tr th:only-of-type {\n",
       "        vertical-align: middle;\n",
       "    }\n",
       "\n",
       "    .dataframe tbody tr th {\n",
       "        vertical-align: top;\n",
       "    }\n",
       "\n",
       "    .dataframe thead th {\n",
       "        text-align: right;\n",
       "    }\n",
       "</style>\n",
       "<table border=\"1\" class=\"dataframe\">\n",
       "  <thead>\n",
       "    <tr style=\"text-align: right;\">\n",
       "      <th></th>\n",
       "      <th>review_scores_accuracy</th>\n",
       "      <th>frequency</th>\n",
       "    </tr>\n",
       "  </thead>\n",
       "  <tbody>\n",
       "    <tr>\n",
       "      <th>0</th>\n",
       "      <td>Precisión perfecta</td>\n",
       "      <td>8755</td>\n",
       "    </tr>\n",
       "    <tr>\n",
       "      <th>1</th>\n",
       "      <td>Precisión sobresaliente</td>\n",
       "      <td>8467</td>\n",
       "    </tr>\n",
       "    <tr>\n",
       "      <th>2</th>\n",
       "      <td>Alta precisión</td>\n",
       "      <td>3629</td>\n",
       "    </tr>\n",
       "    <tr>\n",
       "      <th>3</th>\n",
       "      <td>Excelente precisión</td>\n",
       "      <td>2001</td>\n",
       "    </tr>\n",
       "    <tr>\n",
       "      <th>4</th>\n",
       "      <td>Totalmente exacto</td>\n",
       "      <td>1142</td>\n",
       "    </tr>\n",
       "    <tr>\n",
       "      <th>5</th>\n",
       "      <td>Muy exacto</td>\n",
       "      <td>703</td>\n",
       "    </tr>\n",
       "    <tr>\n",
       "      <th>6</th>\n",
       "      <td>Exacto</td>\n",
       "      <td>602</td>\n",
       "    </tr>\n",
       "    <tr>\n",
       "      <th>7</th>\n",
       "      <td>Algo inexacto</td>\n",
       "      <td>407</td>\n",
       "    </tr>\n",
       "    <tr>\n",
       "      <th>8</th>\n",
       "      <td>Muy preciso</td>\n",
       "      <td>288</td>\n",
       "    </tr>\n",
       "    <tr>\n",
       "      <th>9</th>\n",
       "      <td>Preciso</td>\n",
       "      <td>233</td>\n",
       "    </tr>\n",
       "    <tr>\n",
       "      <th>10</th>\n",
       "      <td>Bastante preciso</td>\n",
       "      <td>141</td>\n",
       "    </tr>\n",
       "    <tr>\n",
       "      <th>11</th>\n",
       "      <td>Ligera inexactitud</td>\n",
       "      <td>116</td>\n",
       "    </tr>\n",
       "    <tr>\n",
       "      <th>12</th>\n",
       "      <td>Moderadamente inexacto</td>\n",
       "      <td>62</td>\n",
       "    </tr>\n",
       "    <tr>\n",
       "      <th>13</th>\n",
       "      <td>Muy inexacto</td>\n",
       "      <td>14</td>\n",
       "    </tr>\n",
       "    <tr>\n",
       "      <th>14</th>\n",
       "      <td>Inexacto</td>\n",
       "      <td>9</td>\n",
       "    </tr>\n",
       "  </tbody>\n",
       "</table>\n",
       "</div>"
      ],
      "text/plain": [
       "     review_scores_accuracy  frequency\n",
       "0        Precisión perfecta       8755\n",
       "1   Precisión sobresaliente       8467\n",
       "2            Alta precisión       3629\n",
       "3       Excelente precisión       2001\n",
       "4         Totalmente exacto       1142\n",
       "5                Muy exacto        703\n",
       "6                    Exacto        602\n",
       "7             Algo inexacto        407\n",
       "8               Muy preciso        288\n",
       "9                   Preciso        233\n",
       "10         Bastante preciso        141\n",
       "11       Ligera inexactitud        116\n",
       "12   Moderadamente inexacto         62\n",
       "13             Muy inexacto         14\n",
       "14                 Inexacto          9"
      ]
     },
     "execution_count": 13,
     "metadata": {},
     "output_type": "execute_result"
    }
   ],
   "source": [
    "# Elimino las columnas \"porcentage\" y \"cumulative_perc\" para trabajar con las frecuencias\n",
    "\n",
    "table2 = table1.drop(['percentage', 'cumulative_perc'], axis=1)\n",
    "table2"
   ]
  },
  {
   "cell_type": "code",
   "execution_count": 14,
   "metadata": {},
   "outputs": [
    {
     "data": {
      "text/html": [
       "<div>\n",
       "<style scoped>\n",
       "    .dataframe tbody tr th:only-of-type {\n",
       "        vertical-align: middle;\n",
       "    }\n",
       "\n",
       "    .dataframe tbody tr th {\n",
       "        vertical-align: top;\n",
       "    }\n",
       "\n",
       "    .dataframe thead th {\n",
       "        text-align: right;\n",
       "    }\n",
       "</style>\n",
       "<table border=\"1\" class=\"dataframe\">\n",
       "  <thead>\n",
       "    <tr style=\"text-align: right;\">\n",
       "      <th></th>\n",
       "      <th>frequency</th>\n",
       "    </tr>\n",
       "    <tr>\n",
       "      <th>review_scores_accuracy</th>\n",
       "      <th></th>\n",
       "    </tr>\n",
       "  </thead>\n",
       "  <tbody>\n",
       "    <tr>\n",
       "      <th>Precisión perfecta</th>\n",
       "      <td>8755</td>\n",
       "    </tr>\n",
       "    <tr>\n",
       "      <th>Precisión sobresaliente</th>\n",
       "      <td>8467</td>\n",
       "    </tr>\n",
       "    <tr>\n",
       "      <th>Alta precisión</th>\n",
       "      <td>3629</td>\n",
       "    </tr>\n",
       "    <tr>\n",
       "      <th>Excelente precisión</th>\n",
       "      <td>2001</td>\n",
       "    </tr>\n",
       "    <tr>\n",
       "      <th>Totalmente exacto</th>\n",
       "      <td>1142</td>\n",
       "    </tr>\n",
       "    <tr>\n",
       "      <th>Muy exacto</th>\n",
       "      <td>703</td>\n",
       "    </tr>\n",
       "    <tr>\n",
       "      <th>Exacto</th>\n",
       "      <td>602</td>\n",
       "    </tr>\n",
       "    <tr>\n",
       "      <th>Algo inexacto</th>\n",
       "      <td>407</td>\n",
       "    </tr>\n",
       "    <tr>\n",
       "      <th>Muy preciso</th>\n",
       "      <td>288</td>\n",
       "    </tr>\n",
       "    <tr>\n",
       "      <th>Preciso</th>\n",
       "      <td>233</td>\n",
       "    </tr>\n",
       "    <tr>\n",
       "      <th>Bastante preciso</th>\n",
       "      <td>141</td>\n",
       "    </tr>\n",
       "    <tr>\n",
       "      <th>Ligera inexactitud</th>\n",
       "      <td>116</td>\n",
       "    </tr>\n",
       "    <tr>\n",
       "      <th>Moderadamente inexacto</th>\n",
       "      <td>62</td>\n",
       "    </tr>\n",
       "    <tr>\n",
       "      <th>Muy inexacto</th>\n",
       "      <td>14</td>\n",
       "    </tr>\n",
       "    <tr>\n",
       "      <th>Inexacto</th>\n",
       "      <td>9</td>\n",
       "    </tr>\n",
       "  </tbody>\n",
       "</table>\n",
       "</div>"
      ],
      "text/plain": [
       "                         frequency\n",
       "review_scores_accuracy            \n",
       "Precisión perfecta            8755\n",
       "Precisión sobresaliente       8467\n",
       "Alta precisión                3629\n",
       "Excelente precisión           2001\n",
       "Totalmente exacto             1142\n",
       "Muy exacto                     703\n",
       "Exacto                         602\n",
       "Algo inexacto                  407\n",
       "Muy preciso                    288\n",
       "Preciso                        233\n",
       "Bastante preciso               141\n",
       "Ligera inexactitud             116\n",
       "Moderadamente inexacto          62\n",
       "Muy inexacto                    14\n",
       "Inexacto                         9"
      ]
     },
     "execution_count": 14,
     "metadata": {},
     "output_type": "execute_result"
    }
   ],
   "source": [
    "# Ajusto el indice de mi data frame\n",
    "\n",
    "Filtro_index = table2.set_index('review_scores_accuracy')\n",
    "Filtro_index"
   ]
  },
  {
   "cell_type": "code",
   "execution_count": 15,
   "metadata": {},
   "outputs": [
    {
     "data": {
      "text/plain": [
       "Text(0, 0.5, 'Frecuencia')"
      ]
     },
     "execution_count": 15,
     "metadata": {},
     "output_type": "execute_result"
    },
    {
     "data": {
      "image/png": "[encoded data removed]",
      "text/plain": [
       "<Figure size 1000x400 with 1 Axes>"
      ]
     },
     "metadata": {},
     "output_type": "display_data"
    }
   ],
   "source": [
    "# Realizamos gráfico de barras del dataframe filtrado\n",
    "\n",
    "Filtro_index.plot( kind = 'bar', width = 0.8, figsize = (10,4), color = \"blue\" )\n",
    "plt.title('Puntuación promedio de precision en la descripcion del anunucio')\n",
    "plt.xlabel('Tipo de categoria')\n",
    "plt.ylabel('Frecuencia')"
   ]
  }
 ],
 "metadata": {
  "kernelspec": {
   "display_name": "Python 3",
   "language": "python",
   "name": "python3"
  },
  "language_info": {
   "codemirror_mode": {
    "name": "ipython",
    "version": 3
   },
   "file_extension": ".py",
   "mimetype": "text/x-python",
   "name": "python",
   "nbconvert_exporter": "python",
   "pygments_lexer": "ipython3",
   "version": "3.13.1"
  }
 },
 "nbformat": 4,
 "nbformat_minor": 2
}
